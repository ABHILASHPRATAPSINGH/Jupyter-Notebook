{
 "cells": [
  {
   "cell_type": "markdown",
   "id": "2be40f89",
   "metadata": {},
   "source": [
    "# Class Analysis"
   ]
  },
  {
   "cell_type": "code",
   "execution_count": 10,
   "id": "e21e9ebc",
   "metadata": {},
   "outputs": [
    {
     "name": "stdout",
     "output_type": "stream",
     "text": [
      "10\n"
     ]
    },
    {
     "data": {
      "text/plain": [
       "<__main__.A at 0x2471e47afd0>"
      ]
     },
     "execution_count": 10,
     "metadata": {},
     "output_type": "execute_result"
    }
   ],
   "source": [
    "class A:\n",
    "    x=10\n",
    "    def __init__(self):\n",
    "        print(self.x)\n",
    "A()        "
   ]
  },
  {
   "cell_type": "code",
   "execution_count": 9,
   "id": "47153983",
   "metadata": {},
   "outputs": [
    {
     "name": "stdout",
     "output_type": "stream",
     "text": [
      "10\n"
     ]
    },
    {
     "data": {
      "text/plain": [
       "<__main__.A at 0x2471e47a040>"
      ]
     },
     "execution_count": 9,
     "metadata": {},
     "output_type": "execute_result"
    }
   ],
   "source": [
    "class A:\n",
    "    x=10\n",
    "    def __init__(self):\n",
    "        print(A.x)\n",
    "A()"
   ]
  },
  {
   "cell_type": "code",
   "execution_count": 17,
   "id": "8bac31c3",
   "metadata": {},
   "outputs": [
    {
     "name": "stdout",
     "output_type": "stream",
     "text": [
      "20\n",
      "{'__module__': '__main__', 'x': 10, '__init__': <function A.__init__ at 0x000002471E550F70>, '__dict__': <attribute '__dict__' of 'A' objects>, '__weakref__': <attribute '__weakref__' of 'A' objects>, '__doc__': None}\n",
      "**************************************************\n",
      "{'x': 20}\n"
     ]
    },
    {
     "data": {
      "text/plain": [
       "<__main__.A at 0x2471e379e50>"
      ]
     },
     "execution_count": 17,
     "metadata": {},
     "output_type": "execute_result"
    }
   ],
   "source": [
    "class A:\n",
    "    x=10\n",
    "    def __init__(self):\n",
    "        self.x=20\n",
    "        print(self.x)\n",
    "        print(A.__dict__)\n",
    "        print(\"*\"*50)\n",
    "        print(self.__dict__)\n",
    "A()"
   ]
  },
  {
   "cell_type": "code",
   "execution_count": 20,
   "id": "00978948",
   "metadata": {
    "collapsed": true
   },
   "outputs": [
    {
     "name": "stdout",
     "output_type": "stream",
     "text": [
      "A\n"
     ]
    },
    {
     "ename": "AttributeError",
     "evalue": "'A' object has no attribute 'B'",
     "output_type": "error",
     "traceback": [
      "\u001b[1;31m---------------------------------------------------------------------------\u001b[0m",
      "\u001b[1;31mAttributeError\u001b[0m                            Traceback (most recent call last)",
      "\u001b[1;32m<ipython-input-20-f8bf4f54ce4f>\u001b[0m in \u001b[0;36m<module>\u001b[1;34m\u001b[0m\n\u001b[0;32m     10\u001b[0m         \u001b[0mprint\u001b[0m\u001b[1;33m(\u001b[0m\u001b[0mself\u001b[0m\u001b[1;33m.\u001b[0m\u001b[0mB\u001b[0m\u001b[1;33m)\u001b[0m\u001b[1;33m\u001b[0m\u001b[1;33m\u001b[0m\u001b[0m\n\u001b[0;32m     11\u001b[0m \u001b[1;33m\u001b[0m\u001b[0m\n\u001b[1;32m---> 12\u001b[1;33m \u001b[0mA\u001b[0m\u001b[1;33m(\u001b[0m\u001b[1;33m)\u001b[0m\u001b[1;33m\u001b[0m\u001b[1;33m\u001b[0m\u001b[0m\n\u001b[0m",
      "\u001b[1;32m<ipython-input-20-f8bf4f54ce4f>\u001b[0m in \u001b[0;36m__init__\u001b[1;34m(self)\u001b[0m\n\u001b[0;32m      3\u001b[0m     \u001b[1;32mdef\u001b[0m \u001b[0m__init__\u001b[0m\u001b[1;33m(\u001b[0m\u001b[0mself\u001b[0m\u001b[1;33m)\u001b[0m\u001b[1;33m:\u001b[0m\u001b[1;33m\u001b[0m\u001b[1;33m\u001b[0m\u001b[0m\n\u001b[0;32m      4\u001b[0m         \u001b[0mprint\u001b[0m\u001b[1;33m(\u001b[0m\u001b[1;34m\"A\"\u001b[0m\u001b[1;33m)\u001b[0m\u001b[1;33m\u001b[0m\u001b[1;33m\u001b[0m\u001b[0m\n\u001b[1;32m----> 5\u001b[1;33m         \u001b[0mself\u001b[0m\u001b[1;33m.\u001b[0m\u001b[0mm1\u001b[0m\u001b[1;33m(\u001b[0m\u001b[1;33m)\u001b[0m\u001b[1;33m\u001b[0m\u001b[1;33m\u001b[0m\u001b[0m\n\u001b[0m\u001b[0;32m      6\u001b[0m         \u001b[0mself\u001b[0m\u001b[1;33m.\u001b[0m\u001b[0mB\u001b[0m\u001b[1;33m=\u001b[0m\u001b[1;36m10\u001b[0m\u001b[1;33m\u001b[0m\u001b[1;33m\u001b[0m\u001b[0m\n\u001b[0;32m      7\u001b[0m         \u001b[0mprint\u001b[0m\u001b[1;33m(\u001b[0m\u001b[0mself\u001b[0m\u001b[1;33m.\u001b[0m\u001b[0mB\u001b[0m\u001b[1;33m)\u001b[0m\u001b[1;33m\u001b[0m\u001b[1;33m\u001b[0m\u001b[0m\n",
      "\u001b[1;32m<ipython-input-20-f8bf4f54ce4f>\u001b[0m in \u001b[0;36mm1\u001b[1;34m(self)\u001b[0m\n\u001b[0;32m      8\u001b[0m \u001b[1;33m\u001b[0m\u001b[0m\n\u001b[0;32m      9\u001b[0m     \u001b[1;32mdef\u001b[0m \u001b[0mm1\u001b[0m\u001b[1;33m(\u001b[0m\u001b[0mself\u001b[0m\u001b[1;33m)\u001b[0m\u001b[1;33m:\u001b[0m\u001b[1;33m\u001b[0m\u001b[1;33m\u001b[0m\u001b[0m\n\u001b[1;32m---> 10\u001b[1;33m         \u001b[0mprint\u001b[0m\u001b[1;33m(\u001b[0m\u001b[0mself\u001b[0m\u001b[1;33m.\u001b[0m\u001b[0mB\u001b[0m\u001b[1;33m)\u001b[0m\u001b[1;33m\u001b[0m\u001b[1;33m\u001b[0m\u001b[0m\n\u001b[0m\u001b[0;32m     11\u001b[0m \u001b[1;33m\u001b[0m\u001b[0m\n\u001b[0;32m     12\u001b[0m \u001b[0mA\u001b[0m\u001b[1;33m(\u001b[0m\u001b[1;33m)\u001b[0m\u001b[1;33m\u001b[0m\u001b[1;33m\u001b[0m\u001b[0m\n",
      "\u001b[1;31mAttributeError\u001b[0m: 'A' object has no attribute 'B'"
     ]
    }
   ],
   "source": [
    "class A:\n",
    "    \n",
    "    def __init__(self):\n",
    "        print(\"A\")\n",
    "        self.m1()\n",
    "        self.B=10        \n",
    "        print(self.B)\n",
    "        \n",
    "    def m1(self):\n",
    "        print(self.B)\n",
    "        \n",
    "A()        "
   ]
  },
  {
   "cell_type": "code",
   "execution_count": 33,
   "id": "6d7c714d",
   "metadata": {},
   "outputs": [
    {
     "name": "stdout",
     "output_type": "stream",
     "text": [
      "10\n"
     ]
    },
    {
     "ename": "AttributeError",
     "evalue": "'super' object has no attribute 'x'",
     "output_type": "error",
     "traceback": [
      "\u001b[1;31m---------------------------------------------------------------------------\u001b[0m",
      "\u001b[1;31mAttributeError\u001b[0m                            Traceback (most recent call last)",
      "\u001b[1;32m<ipython-input-33-e387ae4add82>\u001b[0m in \u001b[0;36m<module>\u001b[1;34m\u001b[0m\n\u001b[0;32m     15\u001b[0m         \u001b[0mprint\u001b[0m\u001b[1;33m(\u001b[0m\u001b[0msuper\u001b[0m\u001b[1;33m(\u001b[0m\u001b[1;33m)\u001b[0m\u001b[1;33m.\u001b[0m\u001b[0mx\u001b[0m\u001b[1;33m)\u001b[0m\u001b[1;33m\u001b[0m\u001b[1;33m\u001b[0m\u001b[0m\n\u001b[0;32m     16\u001b[0m \u001b[1;31m# By super we can't access -> parent class instance variable, by this we can access Parent class static variable only.\u001b[0m\u001b[1;33m\u001b[0m\u001b[1;33m\u001b[0m\u001b[1;33m\u001b[0m\u001b[0m\n\u001b[1;32m---> 17\u001b[1;33m \u001b[0mB\u001b[0m\u001b[1;33m(\u001b[0m\u001b[1;33m)\u001b[0m\u001b[1;33m.\u001b[0m\u001b[0mm2\u001b[0m\u001b[1;33m(\u001b[0m\u001b[1;33m)\u001b[0m\u001b[1;33m\u001b[0m\u001b[1;33m\u001b[0m\u001b[0m\n\u001b[0m",
      "\u001b[1;32m<ipython-input-33-e387ae4add82>\u001b[0m in \u001b[0;36mm2\u001b[1;34m(self)\u001b[0m\n\u001b[0;32m     13\u001b[0m     \u001b[1;32mdef\u001b[0m \u001b[0mm2\u001b[0m\u001b[1;33m(\u001b[0m\u001b[0mself\u001b[0m\u001b[1;33m)\u001b[0m\u001b[1;33m:\u001b[0m\u001b[1;33m\u001b[0m\u001b[1;33m\u001b[0m\u001b[0m\n\u001b[0;32m     14\u001b[0m         \u001b[0mprint\u001b[0m\u001b[1;33m(\u001b[0m\u001b[0mself\u001b[0m\u001b[1;33m.\u001b[0m\u001b[0mx\u001b[0m\u001b[1;33m)\u001b[0m\u001b[1;33m\u001b[0m\u001b[1;33m\u001b[0m\u001b[0m\n\u001b[1;32m---> 15\u001b[1;33m         \u001b[0mprint\u001b[0m\u001b[1;33m(\u001b[0m\u001b[0msuper\u001b[0m\u001b[1;33m(\u001b[0m\u001b[1;33m)\u001b[0m\u001b[1;33m.\u001b[0m\u001b[0mx\u001b[0m\u001b[1;33m)\u001b[0m\u001b[1;33m\u001b[0m\u001b[1;33m\u001b[0m\u001b[0m\n\u001b[0m\u001b[0;32m     16\u001b[0m \u001b[1;31m# By super we can't access -> parent class instance variable, by this we can access Parent class static variable only.\u001b[0m\u001b[1;33m\u001b[0m\u001b[1;33m\u001b[0m\u001b[1;33m\u001b[0m\u001b[0m\n\u001b[0;32m     17\u001b[0m \u001b[0mB\u001b[0m\u001b[1;33m(\u001b[0m\u001b[1;33m)\u001b[0m\u001b[1;33m.\u001b[0m\u001b[0mm2\u001b[0m\u001b[1;33m(\u001b[0m\u001b[1;33m)\u001b[0m\u001b[1;33m\u001b[0m\u001b[1;33m\u001b[0m\u001b[0m\n",
      "\u001b[1;31mAttributeError\u001b[0m: 'super' object has no attribute 'x'"
     ]
    }
   ],
   "source": [
    "class A:\n",
    "    def __init__(self):\n",
    "        self.x=10\n",
    "\n",
    "    def m1(self):\n",
    "        print(self.x)\n",
    "\n",
    "class B(A):\n",
    "    def __init__(self):\n",
    "        self.x=20\n",
    "        super().__init__()\n",
    "\n",
    "    def m2(self):\n",
    "        print(self.x)\n",
    "        print(super().x)\n",
    "# By super we can't access -> parent class instance variable, by this we can access Parent class static variable only.\n",
    "B().m2()"
   ]
  },
  {
   "cell_type": "code",
   "execution_count": 29,
   "id": "312ebffd",
   "metadata": {},
   "outputs": [
    {
     "name": "stdout",
     "output_type": "stream",
     "text": [
      "10\n",
      "5\n",
      "{'x': 10}\n"
     ]
    }
   ],
   "source": [
    "class A:\n",
    "    x=5\n",
    "    def __init__(self):\n",
    "        self.x=10\n",
    "\n",
    "    def m1(self):\n",
    "        print(self.x)\n",
    "\n",
    "class B(A):\n",
    "    def __init__(self):\n",
    "        self.x=20\n",
    "        super().__init__()\n",
    "\n",
    "    def m2(self):\n",
    "        print(self.x)\n",
    "        print(super().x)\n",
    "        print(self.__dict__)\n",
    "\n",
    "B().m2()"
   ]
  },
  {
   "cell_type": "code",
   "execution_count": 36,
   "id": "ab36b13e",
   "metadata": {},
   "outputs": [
    {
     "name": "stdout",
     "output_type": "stream",
     "text": [
      "10\n",
      "20\n"
     ]
    }
   ],
   "source": [
    "class A:\n",
    "    def __init__(self):\n",
    "        self.x=10\n",
    "\n",
    "    def m1(self):\n",
    "        print(self.x)\n",
    "\n",
    "class B(A):\n",
    "    def __init__(self):\n",
    "        self.x=20\n",
    "        super().__init__()\n",
    "\n",
    "    def m2(self):\n",
    "        print(self.x)\n",
    "        print(super().x)\n",
    "\n",
    "class C(B):\n",
    "    def m3(self):\n",
    "        print(self.x)\n",
    "        return 20\n",
    "        \n",
    "print(C().m3()) \n",
    "        "
   ]
  },
  {
   "cell_type": "code",
   "execution_count": null,
   "id": "6527ea1b",
   "metadata": {},
   "outputs": [],
   "source": [
    "# worst code\n",
    "class Process:\n",
    "    \n",
    "    def __init(self):\n",
    "\n",
    "        self.webdriver.get(\"www.data1.com\")\n",
    "        \n",
    "        self.webdriver.findEelemnetId(\"login\").sendKeys(\"abhilash\")\n",
    "        self.webdriver.findEelemnetId(\"password\").sendKeys(\"pwd\")\n",
    "        self.webdriver.findEelemnetId(\"button\").click\n",
    "        \n",
    "        \n",
    "        self.webdriver.findElementById(\"Link1\").click()\n",
    "        \n",
    "        \n",
    "        self.webdriver.findElementById(\"Link2\").click()\n",
    "        \n",
    "        \n",
    "        print(self.webdriver.findElementById(\"d1\").getText())\n",
    "        \n",
    "\n",
    "        \n",
    "class Process:\n",
    "    \n",
    "    def __init(self):\n",
    "\n",
    "        self.webdriver.get(\"www.data1.com\")\n",
    "        self.webdriver.findEelemnetId(\"login\").sendKeys(\"abhilash\")\n",
    "        self.webdriver.findEelemnetId(\"password\").sendKeys(\"pwd\")\n",
    "        self.webdriver.findEelemnetId(\"button\").click\n",
    "        self.webdriver.findElementById(\"Link1.1\").click()\n",
    "        self.webdriver.findElementById(\"Link2.1\").click()\n",
    "        print(self.webdriver.findElementById(\"d1\").getText())\n",
    "\n",
    "\n",
    "class Process:\n",
    "    \n",
    "    def __init(self):\n",
    "\n",
    "        self.webdriver.get(\"www.data1.com\")\n",
    "        self.webdriver.findEelemnetId(\"login\").sendKeys(\"abhilash\")\n",
    "        self.webdriver.findEelemnetId(\"password\").sendKeys(\"pwd\")\n",
    "        self.webdriver.findEelemnetId(\"button\").click\n",
    "        self.webdriver.findElementById(\"Link1.2\").click()\n",
    "        self.webdriver.findElementById(\"Link2.2\").click()\n",
    "        print(self.webdriver.findElementById(\"d1\").getText())\n",
    "        \n",
    "\n"
   ]
  },
  {
   "cell_type": "code",
   "execution_count": null,
   "id": "a1d1b42e",
   "metadata": {},
   "outputs": [],
   "source": [
    "class LoginPage:\n",
    "    \n",
    "    def __init__(self,webdriver):\n",
    "        self.webdriver=webdriver\n",
    "        \n",
    "    \n",
    "    def process(self):\n",
    "        self.webdriver.findEelemnetId(\"login1\").sendKeys(\"abhilash\")\n",
    "        self.webdriver.findEelemnetId(\"password1\").sendKeys(\"pwd\")\n",
    "        self.webdriver.findEelemnetId(\"button\").click\n",
    "        return self.webdriver\n",
    "        \n",
    "        \n",
    "class Link1Page:\n",
    "    \n",
    "    def __init__(self,webdriver):\n",
    "            self.webdriver=webdriver\n",
    "            \n",
    "    def process(self):\n",
    "        self.webdriver.findElementById(\"Link1\").click()\n",
    "        return self.webdriver\n",
    "    \n",
    "\n",
    "class Link2Page:\n",
    "    def __init__(self,webdriver):\n",
    "            self.webdriver=webdriver\n",
    "    def process(self):\n",
    "        self.webdriver.findElementById(\"Link2\").click()\n",
    "        return self.webdriver\n",
    "\n",
    "class DataPage1:\n",
    "    def __init__(self,webdriver):\n",
    "        self.webdriver=webdriver\n",
    "        \n",
    "    def process(self):\n",
    "        print(self.webdriver.findElementById(\"d1\").getText())\n",
    "\n",
    "        \n",
    "        \n",
    "        \n",
    "class DataPage2:\n",
    "    def __init__(self,webdriver):\n",
    "        self.webdriver=webdriver\n",
    "        \n",
    "    def process(self):\n",
    "        print(self.webdriver.findElementById(\"d2\").getText())        \n",
    "\n",
    "class DataPage2:\n",
    "    def __init__(self,webdriver):\n",
    "        self.webdriver=webdriver\n",
    "        \n",
    "    def process(self):\n",
    "        print(self.webdriver.findElementById(\"d3\").getText())                "
   ]
  },
  {
   "cell_type": "code",
   "execution_count": null,
   "id": "dc1d2e66",
   "metadata": {},
   "outputs": [],
   "source": [
    "# process1\n",
    "def __main__:\n",
    "    webdriver=webdriver.get(\"www.data1.com\")\n",
    "    webdriver=LoginPage(webdriver).process()\n",
    "    webdriver=Link1Page(webdriver).process()\n",
    "    webdriver=Link2Page(webdriver).process()\n",
    "    DataPage1(webdriver).process()\n",
    "\n",
    "# process2\n",
    "def __main__:\n",
    "    webdriver=webdriver.get(\"www.data1.com\")\n",
    "    webdriver=LoginPage(webdriver).process()\n",
    "    webdriver=Link1.1Page(webdriver).process()\n",
    "    webdriver=Link2.1Page(webdriver).process()\n",
    "    DataPage2(webdriver).process()\n"
   ]
  }
 ],
 "metadata": {
  "kernelspec": {
   "display_name": "Python 3",
   "language": "python",
   "name": "python3"
  },
  "language_info": {
   "codemirror_mode": {
    "name": "ipython",
    "version": 3
   },
   "file_extension": ".py",
   "mimetype": "text/x-python",
   "name": "python",
   "nbconvert_exporter": "python",
   "pygments_lexer": "ipython3",
   "version": "3.9.4"
  }
 },
 "nbformat": 4,
 "nbformat_minor": 5
}

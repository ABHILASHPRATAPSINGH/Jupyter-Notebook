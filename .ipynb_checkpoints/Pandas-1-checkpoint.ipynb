{
 "cells": [
  {
   "cell_type": "markdown",
   "id": "c7a14702",
   "metadata": {},
   "source": [
    "# Pandas:-\n",
    "\n",
    "### Uses:-\n",
    "    To read and manuplate Data\n",
    "\n",
    "### Types of Data stucture:-\n",
    "    1) Series:- 1d Data stucture\n",
    "    2) DataFrame:- 2d Data Stucture(mostly used data stucture)\n",
    "    3) Panel:- 3d Data Stucture"
   ]
  },
  {
   "cell_type": "markdown",
   "id": "c0ac711a",
   "metadata": {},
   "source": [
    "# Series Data stucture\n",
    "\n",
    "It is 1 Dimensional Data stucture which contain Hetroginous data.\n",
    "It have only one column.\n"
   ]
  },
  {
   "cell_type": "markdown",
   "id": "4c50dabb",
   "metadata": {},
   "source": [
    "### How to make series Data:\n",
    "1st way-By list:"
   ]
  },
  {
   "cell_type": "code",
   "execution_count": 1,
   "id": "b2da2298",
   "metadata": {},
   "outputs": [],
   "source": [
    "import pandas"
   ]
  },
  {
   "cell_type": "code",
   "execution_count": 2,
   "id": "2b5853f4",
   "metadata": {},
   "outputs": [
    {
     "data": {
      "text/plain": [
       "0    2\n",
       "1    3\n",
       "2    4\n",
       "dtype: int64"
      ]
     },
     "execution_count": 2,
     "metadata": {},
     "output_type": "execute_result"
    }
   ],
   "source": [
    "list1=[2,3,4]\n",
    "series1=pandas.Series(list1)\n",
    "series1\n"
   ]
  },
  {
   "cell_type": "code",
   "execution_count": 3,
   "id": "b351c669",
   "metadata": {},
   "outputs": [
    {
     "data": {
      "text/plain": [
       "a    10\n",
       "b    20\n",
       "c    30\n",
       "dtype: int64"
      ]
     },
     "execution_count": 3,
     "metadata": {},
     "output_type": "execute_result"
    }
   ],
   "source": [
    "# how to give own index Name(Same like rowIndex in Excel)\n",
    "list2=[10,20,30]\n",
    "indexNumber=['a','b','c']\n",
    "series2=pandas.Series(list2,index=indexNumber)\n",
    "series2\n",
    "# note:-Number of elements in indexNumber should be equal to Number of elements in list\n"
   ]
  },
  {
   "cell_type": "code",
   "execution_count": 4,
   "id": "0366a37f",
   "metadata": {},
   "outputs": [
    {
     "data": {
      "text/plain": [
       "aa    100.0\n",
       "bb    200.0\n",
       "cc    300.0\n",
       "dtype: float64"
      ]
     },
     "execution_count": 4,
     "metadata": {},
     "output_type": "execute_result"
    }
   ],
   "source": [
    "# how to give own dtype\n",
    "list3=[100,200,300]\n",
    "indexNumber3=['aa','bb','cc']\n",
    "series3=pandas.Series(list3,index=indexNumber3,dtype='float')\n",
    "series3\n",
    "## to see the result Press cntl+enter"
   ]
  },
  {
   "cell_type": "code",
   "execution_count": 5,
   "id": "c4311b9b",
   "metadata": {},
   "outputs": [
    {
     "data": {
      "text/plain": [
       "aaa    1000.0\n",
       "bbb    2000.0\n",
       "ccc    3000.0\n",
       "Name: abh, dtype: float64"
      ]
     },
     "execution_count": 5,
     "metadata": {},
     "output_type": "execute_result"
    }
   ],
   "source": [
    "# How to give name of series\n",
    "list4=[1000,2000,3000]\n",
    "indexNumber4=['aaa','bbb','ccc']\n",
    "series4=pandas.Series(list4,index=indexNumber4,dtype='float',name='abh')\n",
    "series4\n",
    "## to see the result Press cntl+enter"
   ]
  },
  {
   "cell_type": "code",
   "execution_count": 3,
   "id": "ea20b4ff",
   "metadata": {
    "collapsed": true
   },
   "outputs": [
    {
     "data": {
      "text/plain": [
       "a    1\n",
       "b    2\n",
       "dtype: int64"
      ]
     },
     "execution_count": 3,
     "metadata": {},
     "output_type": "execute_result"
    }
   ],
   "source": [
    "#2nd way to make series:-by dictionary\n",
    "dict1={'a':1,'b':2}\n",
    "series5=pandas.Series(dict1)\n",
    "series5\n",
    "#note:-to make series by dictonary key value become IndexNumber\n",
    "## to see the result Press cntl+enter"
   ]
  },
  {
   "cell_type": "code",
   "execution_count": 4,
   "id": "1ff50842",
   "metadata": {
    "collapsed": true
   },
   "outputs": [
    {
     "data": {
      "text/plain": [
       "a    1\n",
       "b    2\n",
       "dtype: int64"
      ]
     },
     "execution_count": 4,
     "metadata": {},
     "output_type": "execute_result"
    }
   ],
   "source": [
    "# If you want to give index number to your series, then key value of dictonary should macth with your index number.\n",
    "#otherwise see below result\n",
    "dict2={'a':1,'b':2}\n",
    "series6=pandas.Series(dict2,index=['a','b'])\n",
    "series6\n",
    "## to see the result Press cntl+enter"
   ]
  },
  {
   "cell_type": "code",
   "execution_count": 6,
   "id": "cf5d6f6e",
   "metadata": {},
   "outputs": [
    {
     "data": {
      "text/plain": [
       "x   NaN\n",
       "y   NaN\n",
       "dtype: float64"
      ]
     },
     "execution_count": 6,
     "metadata": {},
     "output_type": "execute_result"
    }
   ],
   "source": [
    "# If you want to give index number to your series, then key value of dictonary should macth with your index number.\n",
    "dict2={'a':1,'b':2}\n",
    "series7=pandas.Series(dict2,index=['x','y'])\n",
    "series7\n"
   ]
  },
  {
   "cell_type": "markdown",
   "id": "c4c8c1e4",
   "metadata": {},
   "source": [
    "### How to access value from series"
   ]
  },
  {
   "cell_type": "code",
   "execution_count": 8,
   "id": "92af61a7",
   "metadata": {},
   "outputs": [
    {
     "data": {
      "text/plain": [
       "3"
      ]
     },
     "execution_count": 8,
     "metadata": {},
     "output_type": "execute_result"
    }
   ],
   "source": [
    "# By slice oprator \n",
    "l8=[2,3,4]\n",
    "s8=pandas.Series(l8)\n",
    "s8[1]\n",
    "#note:-In slice operator you mention the index number of corresponding element\n"
   ]
  },
  {
   "cell_type": "markdown",
   "id": "5e80870a",
   "metadata": {},
   "source": [
    "### Methods of Series datatype"
   ]
  },
  {
   "cell_type": "code",
   "execution_count": 55,
   "id": "0afbeb5b",
   "metadata": {},
   "outputs": [
    {
     "name": "stdout",
     "output_type": "stream",
     "text": [
      "4\n"
     ]
    },
    {
     "data": {
      "text/plain": [
       "0    5\n",
       "1    7\n",
       "2    9\n",
       "dtype: int64"
      ]
     },
     "execution_count": 55,
     "metadata": {},
     "output_type": "execute_result"
    }
   ],
   "source": [
    "#you can performe mathmatical oprations on series\n",
    "l9=[2,3,4]\n",
    "s9=pandas.Series(l9)\n",
    "l10=[3,4,5]\n",
    "s10=pandas.Series(l10)\n",
    "print(s9.max())\n",
    "s9+s10\n"
   ]
  },
  {
   "cell_type": "markdown",
   "id": "2b7635c1",
   "metadata": {},
   "source": [
    "# DataFrame Data Structure\n",
    "\n",
    "It is 2 Dimensional Data stucture which contain Hetroginous data.\n",
    "It have multiple columns(called labels) and multiple Row(call Index), just like in excel range(a1:d10)\n"
   ]
  },
  {
   "cell_type": "markdown",
   "id": "77e2a781",
   "metadata": {},
   "source": [
    "## How to Create DataFrame\n",
    "***"
   ]
  },
  {
   "cell_type": "code",
   "execution_count": 56,
   "id": "24671609",
   "metadata": {
    "collapsed": true
   },
   "outputs": [
    {
     "data": {
      "text/html": [
       "<div>\n",
       "<style scoped>\n",
       "    .dataframe tbody tr th:only-of-type {\n",
       "        vertical-align: middle;\n",
       "    }\n",
       "\n",
       "    .dataframe tbody tr th {\n",
       "        vertical-align: top;\n",
       "    }\n",
       "\n",
       "    .dataframe thead th {\n",
       "        text-align: right;\n",
       "    }\n",
       "</style>\n",
       "<table border=\"1\" class=\"dataframe\">\n",
       "  <thead>\n",
       "    <tr style=\"text-align: right;\">\n",
       "      <th></th>\n",
       "      <th>0</th>\n",
       "      <th>1</th>\n",
       "      <th>2</th>\n",
       "    </tr>\n",
       "  </thead>\n",
       "  <tbody>\n",
       "    <tr>\n",
       "      <th>0</th>\n",
       "      <td>1</td>\n",
       "      <td>2</td>\n",
       "      <td>3</td>\n",
       "    </tr>\n",
       "    <tr>\n",
       "      <th>1</th>\n",
       "      <td>10</td>\n",
       "      <td>20</td>\n",
       "      <td>30</td>\n",
       "    </tr>\n",
       "    <tr>\n",
       "      <th>2</th>\n",
       "      <td>100</td>\n",
       "      <td>200</td>\n",
       "      <td>300</td>\n",
       "    </tr>\n",
       "  </tbody>\n",
       "</table>\n",
       "</div>"
      ],
      "text/plain": [
       "     0    1    2\n",
       "0    1    2    3\n",
       "1   10   20   30\n",
       "2  100  200  300"
      ]
     },
     "execution_count": 56,
     "metadata": {},
     "output_type": "execute_result"
    }
   ],
   "source": [
    "#1st way:- by list of list\n",
    "l1=[[1,2,3],[10,20,30],[100,200,300]]\n",
    "df1=pandas.DataFrame(l1)\n",
    "df1"
   ]
  },
  {
   "cell_type": "code",
   "execution_count": 68,
   "id": "0acc2ffb",
   "metadata": {},
   "outputs": [
    {
     "name": "stdout",
     "output_type": "stream",
     "text": [
      "    c1  c2  c3\n",
      "r1   1   2   3\n",
      "r2  10  20  30\n",
      "     c1   c2    c3\n",
      "r1   11   22  33.0\n",
      "r2  111  222   NaN\n"
     ]
    }
   ],
   "source": [
    "# how to give index(called Row Number) and columns to DataFrame\n",
    "l2=[[1,2,3],[10,20,30]]\n",
    "df2=pandas.DataFrame(l2,index=['r1','r2'],columns=['c1','c2','c3'])\n",
    "print(df2)\n",
    "# note:-Here element in index should be equal to number of list inside parent list & number of elements in columns \n",
    "#should be equal to maximum number of elements inside any list of list.\n",
    "\n",
    "l3=[[11,22,33],[111,222]]\n",
    "df3=pandas.DataFrame(l3,index=['r1','r2'],columns=['c1','c2','c3'])\n",
    "print(df3)"
   ]
  },
  {
   "cell_type": "markdown",
   "id": "dda36ac4",
   "metadata": {},
   "source": [
    "# Read CSV File"
   ]
  },
  {
   "cell_type": "code",
   "execution_count": 8,
   "id": "1182d4af",
   "metadata": {
    "collapsed": true
   },
   "outputs": [
    {
     "data": {
      "text/html": [
       "<div>\n",
       "<style scoped>\n",
       "    .dataframe tbody tr th:only-of-type {\n",
       "        vertical-align: middle;\n",
       "    }\n",
       "\n",
       "    .dataframe tbody tr th {\n",
       "        vertical-align: top;\n",
       "    }\n",
       "\n",
       "    .dataframe thead th {\n",
       "        text-align: right;\n",
       "    }\n",
       "</style>\n",
       "<table border=\"1\" class=\"dataframe\">\n",
       "  <thead>\n",
       "    <tr style=\"text-align: right;\">\n",
       "      <th></th>\n",
       "      <th>gender</th>\n",
       "      <th>race_ethnicity</th>\n",
       "      <th>parental level of education</th>\n",
       "      <th>lunch</th>\n",
       "      <th>test preparation course</th>\n",
       "      <th>math score</th>\n",
       "      <th>reading score</th>\n",
       "      <th>writing score</th>\n",
       "    </tr>\n",
       "  </thead>\n",
       "  <tbody>\n",
       "    <tr>\n",
       "      <th>0</th>\n",
       "      <td>female</td>\n",
       "      <td>group A</td>\n",
       "      <td>high school</td>\n",
       "      <td>standard</td>\n",
       "      <td>complete</td>\n",
       "      <td>93</td>\n",
       "      <td>91</td>\n",
       "      <td>69</td>\n",
       "    </tr>\n",
       "    <tr>\n",
       "      <th>1</th>\n",
       "      <td>female</td>\n",
       "      <td>group B</td>\n",
       "      <td>master's degree</td>\n",
       "      <td>free/reduced</td>\n",
       "      <td>complete</td>\n",
       "      <td>99</td>\n",
       "      <td>74</td>\n",
       "      <td>99</td>\n",
       "    </tr>\n",
       "    <tr>\n",
       "      <th>2</th>\n",
       "      <td>female</td>\n",
       "      <td>group B</td>\n",
       "      <td>associate's degree</td>\n",
       "      <td>standard</td>\n",
       "      <td>none</td>\n",
       "      <td>84</td>\n",
       "      <td>83</td>\n",
       "      <td>68</td>\n",
       "    </tr>\n",
       "    <tr>\n",
       "      <th>3</th>\n",
       "      <td>female</td>\n",
       "      <td>group B</td>\n",
       "      <td>some college</td>\n",
       "      <td>free/reduced</td>\n",
       "      <td>none</td>\n",
       "      <td>100</td>\n",
       "      <td>89</td>\n",
       "      <td>50</td>\n",
       "    </tr>\n",
       "    <tr>\n",
       "      <th>4</th>\n",
       "      <td>male</td>\n",
       "      <td>group B</td>\n",
       "      <td>associate's degree</td>\n",
       "      <td>standard</td>\n",
       "      <td>none</td>\n",
       "      <td>72</td>\n",
       "      <td>51</td>\n",
       "      <td>58</td>\n",
       "    </tr>\n",
       "    <tr>\n",
       "      <th>5</th>\n",
       "      <td>female</td>\n",
       "      <td>group B</td>\n",
       "      <td>some high school</td>\n",
       "      <td>standard</td>\n",
       "      <td>complete</td>\n",
       "      <td>68</td>\n",
       "      <td>57</td>\n",
       "      <td>99</td>\n",
       "    </tr>\n",
       "    <tr>\n",
       "      <th>6</th>\n",
       "      <td>male</td>\n",
       "      <td>group C</td>\n",
       "      <td>associate's degree</td>\n",
       "      <td>free/reduced</td>\n",
       "      <td>complete</td>\n",
       "      <td>53</td>\n",
       "      <td>94</td>\n",
       "      <td>56</td>\n",
       "    </tr>\n",
       "    <tr>\n",
       "      <th>7</th>\n",
       "      <td>female</td>\n",
       "      <td>group C</td>\n",
       "      <td>associate's degree</td>\n",
       "      <td>standard</td>\n",
       "      <td>complete</td>\n",
       "      <td>54</td>\n",
       "      <td>83</td>\n",
       "      <td>57</td>\n",
       "    </tr>\n",
       "    <tr>\n",
       "      <th>8</th>\n",
       "      <td>male</td>\n",
       "      <td>group B</td>\n",
       "      <td>some college</td>\n",
       "      <td>standard</td>\n",
       "      <td>none</td>\n",
       "      <td>56</td>\n",
       "      <td>95</td>\n",
       "      <td>50</td>\n",
       "    </tr>\n",
       "    <tr>\n",
       "      <th>9</th>\n",
       "      <td>male</td>\n",
       "      <td>group B</td>\n",
       "      <td>master's degree</td>\n",
       "      <td>standard</td>\n",
       "      <td>none</td>\n",
       "      <td>58</td>\n",
       "      <td>79</td>\n",
       "      <td>78</td>\n",
       "    </tr>\n",
       "    <tr>\n",
       "      <th>10</th>\n",
       "      <td>male</td>\n",
       "      <td>group C</td>\n",
       "      <td>associate's degree</td>\n",
       "      <td>standard</td>\n",
       "      <td>complete</td>\n",
       "      <td>94</td>\n",
       "      <td>85</td>\n",
       "      <td>63</td>\n",
       "    </tr>\n",
       "    <tr>\n",
       "      <th>11</th>\n",
       "      <td>female</td>\n",
       "      <td>group B</td>\n",
       "      <td>some college</td>\n",
       "      <td>standard</td>\n",
       "      <td>none</td>\n",
       "      <td>78</td>\n",
       "      <td>56</td>\n",
       "      <td>56</td>\n",
       "    </tr>\n",
       "    <tr>\n",
       "      <th>12</th>\n",
       "      <td>female</td>\n",
       "      <td>group A</td>\n",
       "      <td>high school</td>\n",
       "      <td>standard</td>\n",
       "      <td>complete</td>\n",
       "      <td>55</td>\n",
       "      <td>95</td>\n",
       "      <td>71</td>\n",
       "    </tr>\n",
       "    <tr>\n",
       "      <th>13</th>\n",
       "      <td>female</td>\n",
       "      <td>group A</td>\n",
       "      <td>associate's degree</td>\n",
       "      <td>standard</td>\n",
       "      <td>complete</td>\n",
       "      <td>95</td>\n",
       "      <td>75</td>\n",
       "      <td>57</td>\n",
       "    </tr>\n",
       "    <tr>\n",
       "      <th>14</th>\n",
       "      <td>male</td>\n",
       "      <td>group C</td>\n",
       "      <td>master's degree</td>\n",
       "      <td>free/reduced</td>\n",
       "      <td>complete</td>\n",
       "      <td>87</td>\n",
       "      <td>98</td>\n",
       "      <td>52</td>\n",
       "    </tr>\n",
       "    <tr>\n",
       "      <th>15</th>\n",
       "      <td>male</td>\n",
       "      <td>group C</td>\n",
       "      <td>master's degree</td>\n",
       "      <td>standard</td>\n",
       "      <td>none</td>\n",
       "      <td>71</td>\n",
       "      <td>50</td>\n",
       "      <td>58</td>\n",
       "    </tr>\n",
       "    <tr>\n",
       "      <th>16</th>\n",
       "      <td>male</td>\n",
       "      <td>group A</td>\n",
       "      <td>associate's degree</td>\n",
       "      <td>free/reduced</td>\n",
       "      <td>complete</td>\n",
       "      <td>54</td>\n",
       "      <td>57</td>\n",
       "      <td>61</td>\n",
       "    </tr>\n",
       "    <tr>\n",
       "      <th>17</th>\n",
       "      <td>male</td>\n",
       "      <td>group B</td>\n",
       "      <td>associate's degree</td>\n",
       "      <td>free/reduced</td>\n",
       "      <td>complete</td>\n",
       "      <td>67</td>\n",
       "      <td>61</td>\n",
       "      <td>92</td>\n",
       "    </tr>\n",
       "  </tbody>\n",
       "</table>\n",
       "</div>"
      ],
      "text/plain": [
       "    gender race_ethnicity parental level of education         lunch  \\\n",
       "0   female        group A                 high school      standard   \n",
       "1   female        group B             master's degree  free/reduced   \n",
       "2   female        group B          associate's degree      standard   \n",
       "3   female        group B                some college  free/reduced   \n",
       "4     male        group B          associate's degree      standard   \n",
       "5   female        group B            some high school      standard   \n",
       "6     male        group C          associate's degree  free/reduced   \n",
       "7   female        group C          associate's degree      standard   \n",
       "8     male        group B                some college      standard   \n",
       "9     male        group B             master's degree      standard   \n",
       "10    male        group C          associate's degree      standard   \n",
       "11  female        group B                some college      standard   \n",
       "12  female        group A                 high school      standard   \n",
       "13  female        group A          associate's degree      standard   \n",
       "14    male        group C             master's degree  free/reduced   \n",
       "15    male        group C             master's degree      standard   \n",
       "16    male        group A          associate's degree  free/reduced   \n",
       "17    male        group B          associate's degree  free/reduced   \n",
       "\n",
       "   test preparation course  math score  reading score  writing score  \n",
       "0                 complete          93             91             69  \n",
       "1                 complete          99             74             99  \n",
       "2                     none          84             83             68  \n",
       "3                     none         100             89             50  \n",
       "4                     none          72             51             58  \n",
       "5                 complete          68             57             99  \n",
       "6                 complete          53             94             56  \n",
       "7                 complete          54             83             57  \n",
       "8                     none          56             95             50  \n",
       "9                     none          58             79             78  \n",
       "10                complete          94             85             63  \n",
       "11                    none          78             56             56  \n",
       "12                complete          55             95             71  \n",
       "13                complete          95             75             57  \n",
       "14                complete          87             98             52  \n",
       "15                    none          71             50             58  \n",
       "16                complete          54             57             61  \n",
       "17                complete          67             61             92  "
      ]
     },
     "execution_count": 8,
     "metadata": {},
     "output_type": "execute_result"
    }
   ],
   "source": [
    "df=pandas.read_excel(r\"C:\\Users\\DELL\\Desktop\\fz.xlsx\")\n",
    "df"
   ]
  },
  {
   "cell_type": "code",
   "execution_count": 9,
   "id": "960f042a",
   "metadata": {},
   "outputs": [
    {
     "data": {
      "text/plain": [
       "(18, 8)"
      ]
     },
     "execution_count": 9,
     "metadata": {},
     "output_type": "execute_result"
    }
   ],
   "source": [
    "#If you want to know size and shape of Data Frame\n",
    "df.shape"
   ]
  },
  {
   "cell_type": "code",
   "execution_count": 80,
   "id": "d77f2ddb",
   "metadata": {
    "collapsed": true
   },
   "outputs": [
    {
     "name": "stdout",
     "output_type": "stream",
     "text": [
      "<class 'pandas.core.frame.DataFrame'>\n",
      "Index: 3 entries, ab to 3\n",
      "Data columns (total 3 columns):\n",
      " #   Column  Non-Null Count  Dtype \n",
      "---  ------  --------------  ----- \n",
      " 0   B       3 non-null      object\n",
      " 1   CC      3 non-null      object\n",
      " 2   1       3 non-null      object\n",
      "dtypes: object(3)\n",
      "memory usage: 96.0+ bytes\n"
     ]
    }
   ],
   "source": [
    "# if you want know full information of Dataframe like how many rows,coloumns,there dataype,null values\n",
    "df.info()"
   ]
  },
  {
   "cell_type": "code",
   "execution_count": 81,
   "id": "a0dcc511",
   "metadata": {
    "collapsed": true
   },
   "outputs": [
    {
     "data": {
      "text/html": [
       "<div>\n",
       "<style scoped>\n",
       "    .dataframe tbody tr th:only-of-type {\n",
       "        vertical-align: middle;\n",
       "    }\n",
       "\n",
       "    .dataframe tbody tr th {\n",
       "        vertical-align: top;\n",
       "    }\n",
       "\n",
       "    .dataframe thead th {\n",
       "        text-align: right;\n",
       "    }\n",
       "</style>\n",
       "<table border=\"1\" class=\"dataframe\">\n",
       "  <thead>\n",
       "    <tr style=\"text-align: right;\">\n",
       "      <th></th>\n",
       "      <th>B</th>\n",
       "      <th>CC</th>\n",
       "      <th>1</th>\n",
       "    </tr>\n",
       "  </thead>\n",
       "  <tbody>\n",
       "    <tr>\n",
       "      <th>count</th>\n",
       "      <td>3</td>\n",
       "      <td>3</td>\n",
       "      <td>3</td>\n",
       "    </tr>\n",
       "    <tr>\n",
       "      <th>unique</th>\n",
       "      <td>3</td>\n",
       "      <td>3</td>\n",
       "      <td>1</td>\n",
       "    </tr>\n",
       "    <tr>\n",
       "      <th>top</th>\n",
       "      <td>33</td>\n",
       "      <td>333</td>\n",
       "      <td>j</td>\n",
       "    </tr>\n",
       "    <tr>\n",
       "      <th>freq</th>\n",
       "      <td>1</td>\n",
       "      <td>1</td>\n",
       "      <td>3</td>\n",
       "    </tr>\n",
       "  </tbody>\n",
       "</table>\n",
       "</div>"
      ],
      "text/plain": [
       "         B   CC  1\n",
       "count    3    3  3\n",
       "unique   3    3  1\n",
       "top     33  333  j\n",
       "freq     1    1  3"
      ]
     },
     "execution_count": 81,
     "metadata": {},
     "output_type": "execute_result"
    }
   ],
   "source": [
    "df.describe()\n"
   ]
  },
  {
   "cell_type": "code",
   "execution_count": 82,
   "id": "f687b5e1",
   "metadata": {
    "collapsed": true
   },
   "outputs": [
    {
     "data": {
      "text/plain": [
       "B     object\n",
       "CC    object\n",
       "1     object\n",
       "dtype: object"
      ]
     },
     "execution_count": 82,
     "metadata": {},
     "output_type": "execute_result"
    }
   ],
   "source": [
    "df.dtypes"
   ]
  },
  {
   "cell_type": "code",
   "execution_count": 12,
   "id": "d6e49efd",
   "metadata": {},
   "outputs": [],
   "source": [
    "# If you data fram is to big, then jupyter display only some data only. but if you want to show all data of your frame then\n",
    "pandas.set_option('display.max_columns',4)"
   ]
  },
  {
   "cell_type": "code",
   "execution_count": 1,
   "id": "6b67a219",
   "metadata": {
    "collapsed": true
   },
   "outputs": [
    {
     "ename": "NameError",
     "evalue": "name 'pandas' is not defined",
     "output_type": "error",
     "traceback": [
      "\u001b[1;31m---------------------------------------------------------------------------\u001b[0m",
      "\u001b[1;31mNameError\u001b[0m                                 Traceback (most recent call last)",
      "\u001b[1;32m<ipython-input-1-659401a33c03>\u001b[0m in \u001b[0;36m<module>\u001b[1;34m\u001b[0m\n\u001b[0;32m      1\u001b[0m \u001b[1;31m#If you want to make new data dataframe which contains only headings of your dataframe\u001b[0m\u001b[1;33m\u001b[0m\u001b[1;33m\u001b[0m\u001b[1;33m\u001b[0m\u001b[0m\n\u001b[1;32m----> 2\u001b[1;33m \u001b[0mscema_df\u001b[0m\u001b[1;33m=\u001b[0m\u001b[0mpandas\u001b[0m\u001b[1;33m.\u001b[0m\u001b[0mread_csv\u001b[0m\u001b[1;33m(\u001b[0m\u001b[1;34mr\"C:\\Users\\DELL\\Desktop\\Results_schema.csv\"\u001b[0m\u001b[1;33m)\u001b[0m\u001b[1;33m\u001b[0m\u001b[1;33m\u001b[0m\u001b[0m\n\u001b[0m\u001b[0;32m      3\u001b[0m \u001b[0mscema_df\u001b[0m\u001b[1;33m\u001b[0m\u001b[1;33m\u001b[0m\u001b[0m\n",
      "\u001b[1;31mNameError\u001b[0m: name 'pandas' is not defined"
     ]
    }
   ],
   "source": [
    "#If you want to make new data dataframe which contains only headings of your dataframe\n",
    "# scema_df=pandas.read_csv(r\"C:\\Users\\DELL\\Desktop\\Results_schema.csv\")\n",
    "# scema_df"
   ]
  },
  {
   "cell_type": "code",
   "execution_count": 86,
   "id": "33c438a6",
   "metadata": {
    "collapsed": true
   },
   "outputs": [
    {
     "data": {
      "text/html": [
       "<div>\n",
       "<style scoped>\n",
       "    .dataframe tbody tr th:only-of-type {\n",
       "        vertical-align: middle;\n",
       "    }\n",
       "\n",
       "    .dataframe tbody tr th {\n",
       "        vertical-align: top;\n",
       "    }\n",
       "\n",
       "    .dataframe thead th {\n",
       "        text-align: right;\n",
       "    }\n",
       "</style>\n",
       "<table border=\"1\" class=\"dataframe\">\n",
       "  <thead>\n",
       "    <tr style=\"text-align: right;\">\n",
       "      <th></th>\n",
       "      <th>Security Code</th>\n",
       "      <th>Security Name</th>\n",
       "      <th>Company name</th>\n",
       "      <th>Result Date</th>\n",
       "    </tr>\n",
       "  </thead>\n",
       "  <tbody>\n",
       "    <tr>\n",
       "      <th>0</th>\n",
       "      <td>541988.0</td>\n",
       "      <td>AAVAS</td>\n",
       "      <td>391.0</td>\n",
       "      <td>29-Apr-21</td>\n",
       "    </tr>\n",
       "    <tr>\n",
       "      <th>1</th>\n",
       "      <td>500425.0</td>\n",
       "      <td>AMBUJACEM</td>\n",
       "      <td>207.0</td>\n",
       "      <td>29-Apr-21</td>\n",
       "    </tr>\n",
       "    <tr>\n",
       "      <th>2</th>\n",
       "      <td>532475.0</td>\n",
       "      <td>APTECHT</td>\n",
       "      <td>454.0</td>\n",
       "      <td>29-Apr-21</td>\n",
       "    </tr>\n",
       "    <tr>\n",
       "      <th>3</th>\n",
       "      <td>500215.0</td>\n",
       "      <td>ATFL</td>\n",
       "      <td>624.0</td>\n",
       "      <td>29-Apr-21</td>\n",
       "    </tr>\n",
       "    <tr>\n",
       "      <th>4</th>\n",
       "      <td>540611.0</td>\n",
       "      <td>AUBANK</td>\n",
       "      <td>232.0</td>\n",
       "      <td>29-Apr-21</td>\n",
       "    </tr>\n",
       "    <tr>\n",
       "      <th>5</th>\n",
       "      <td>532977.0</td>\n",
       "      <td>BAJAJ-AUTO</td>\n",
       "      <td>128.0</td>\n",
       "      <td>29-Apr-21</td>\n",
       "    </tr>\n",
       "    <tr>\n",
       "      <th>6</th>\n",
       "      <td>500490.0</td>\n",
       "      <td>BAJAJHLDNG</td>\n",
       "      <td>344.0</td>\n",
       "      <td>29-Apr-21</td>\n",
       "    </tr>\n",
       "    <tr>\n",
       "      <th>7</th>\n",
       "      <td>534758.0</td>\n",
       "      <td>CIGNITI</td>\n",
       "      <td>585.0</td>\n",
       "      <td>29-Apr-21</td>\n",
       "    </tr>\n",
       "    <tr>\n",
       "      <th>8</th>\n",
       "      <td>506395.0</td>\n",
       "      <td>COROMANDEL</td>\n",
       "      <td>123.0</td>\n",
       "      <td>29-Apr-21</td>\n",
       "    </tr>\n",
       "    <tr>\n",
       "      <th>9</th>\n",
       "      <td>542216.0</td>\n",
       "      <td>DALBHARAT</td>\n",
       "      <td>290.0</td>\n",
       "      <td>29-Apr-21</td>\n",
       "    </tr>\n",
       "  </tbody>\n",
       "</table>\n",
       "</div>"
      ],
      "text/plain": [
       "   Security Code Security Name  Company name Result Date\n",
       "0       541988.0         AAVAS         391.0   29-Apr-21\n",
       "1       500425.0     AMBUJACEM         207.0   29-Apr-21\n",
       "2       532475.0       APTECHT         454.0   29-Apr-21\n",
       "3       500215.0          ATFL         624.0   29-Apr-21\n",
       "4       540611.0        AUBANK         232.0   29-Apr-21\n",
       "5       532977.0    BAJAJ-AUTO         128.0   29-Apr-21\n",
       "6       500490.0    BAJAJHLDNG         344.0   29-Apr-21\n",
       "7       534758.0       CIGNITI         585.0   29-Apr-21\n",
       "8       506395.0    COROMANDEL         123.0   29-Apr-21\n",
       "9       542216.0     DALBHARAT         290.0   29-Apr-21"
      ]
     },
     "execution_count": 86,
     "metadata": {},
     "output_type": "execute_result"
    }
   ],
   "source": [
    "# if you want to show particular numbers of rows from top of your dataframe\n",
    "df.head(10)\n",
    "# note:-if you not pass parameter in it, then defaulted it take 5"
   ]
  },
  {
   "cell_type": "code",
   "execution_count": null,
   "id": "0ec09762",
   "metadata": {},
   "outputs": [],
   "source": [
    "# if you want to show particular numbers of rows of your rows from bottom of your dataframe\n",
    "df.tail(7)\n",
    "# note:-if you not pass parameter in it, then defaulted it take 5"
   ]
  },
  {
   "cell_type": "markdown",
   "id": "bc1292f0",
   "metadata": {},
   "source": [
    "## Access data value from DataFrame"
   ]
  },
  {
   "cell_type": "code",
   "execution_count": 16,
   "id": "1fba6f2f",
   "metadata": {
    "collapsed": true
   },
   "outputs": [
    {
     "data": {
      "text/html": [
       "<div>\n",
       "<style scoped>\n",
       "    .dataframe tbody tr th:only-of-type {\n",
       "        vertical-align: middle;\n",
       "    }\n",
       "\n",
       "    .dataframe tbody tr th {\n",
       "        vertical-align: top;\n",
       "    }\n",
       "\n",
       "    .dataframe thead th {\n",
       "        text-align: right;\n",
       "    }\n",
       "</style>\n",
       "<table border=\"1\" class=\"dataframe\">\n",
       "  <thead>\n",
       "    <tr style=\"text-align: right;\">\n",
       "      <th></th>\n",
       "      <th>a</th>\n",
       "      <th>b</th>\n",
       "    </tr>\n",
       "  </thead>\n",
       "  <tbody>\n",
       "    <tr>\n",
       "      <th>a</th>\n",
       "      <td>1</td>\n",
       "      <td>2</td>\n",
       "    </tr>\n",
       "    <tr>\n",
       "      <th>b</th>\n",
       "      <td>1</td>\n",
       "      <td>2</td>\n",
       "    </tr>\n",
       "  </tbody>\n",
       "</table>\n",
       "</div>"
      ],
      "text/plain": [
       "   a  b\n",
       "a  1  2\n",
       "b  1  2"
      ]
     },
     "execution_count": 16,
     "metadata": {},
     "output_type": "execute_result"
    }
   ],
   "source": [
    "d1={'a':1,'b':2}\n",
    "d2={'a':11,'b':22}\n",
    "d3={'a':[1,2,3],'b':[11,22,33],'c':[111,222,333]}\n",
    "df2=pandas.DataFrame(d1,d2)\n",
    "df1=pandas.DataFrame(d3)\n",
    "# df1\n",
    "df2"
   ]
  },
  {
   "cell_type": "code",
   "execution_count": 208,
   "id": "9a09db05",
   "metadata": {},
   "outputs": [
    {
     "data": {
      "text/plain": [
       "0    1\n",
       "1    2\n",
       "2    3\n",
       "Name: a, dtype: int64"
      ]
     },
     "execution_count": 208,
     "metadata": {},
     "output_type": "execute_result"
    }
   ],
   "source": [
    "# 1st way to access single column:-by (dictonary key/headings) value in slice oprator (This is recommended)\n",
    "df1['a']\n",
    "\n",
    "# type(df1['a'])\n",
    "# this return series data not a dataFrame"
   ]
  },
  {
   "cell_type": "code",
   "execution_count": 92,
   "id": "82bef8f0",
   "metadata": {},
   "outputs": [
    {
     "data": {
      "text/plain": [
       "0    1\n",
       "1    2\n",
       "Name: a, dtype: int64"
      ]
     },
     "execution_count": 92,
     "metadata": {},
     "output_type": "execute_result"
    }
   ],
   "source": [
    "#2nd way to access single column:-by dictonary key value as attribute\n",
    "df1.a"
   ]
  },
  {
   "cell_type": "code",
   "execution_count": 18,
   "id": "27d680e7",
   "metadata": {
    "collapsed": true
   },
   "outputs": [
    {
     "data": {
      "text/html": [
       "<div>\n",
       "<style scoped>\n",
       "    .dataframe tbody tr th:only-of-type {\n",
       "        vertical-align: middle;\n",
       "    }\n",
       "\n",
       "    .dataframe tbody tr th {\n",
       "        vertical-align: top;\n",
       "    }\n",
       "\n",
       "    .dataframe thead th {\n",
       "        text-align: right;\n",
       "    }\n",
       "</style>\n",
       "<table border=\"1\" class=\"dataframe\">\n",
       "  <thead>\n",
       "    <tr style=\"text-align: right;\">\n",
       "      <th></th>\n",
       "      <th>a</th>\n",
       "      <th>c</th>\n",
       "    </tr>\n",
       "  </thead>\n",
       "  <tbody>\n",
       "    <tr>\n",
       "      <th>0</th>\n",
       "      <td>1</td>\n",
       "      <td>111</td>\n",
       "    </tr>\n",
       "    <tr>\n",
       "      <th>1</th>\n",
       "      <td>2</td>\n",
       "      <td>222</td>\n",
       "    </tr>\n",
       "    <tr>\n",
       "      <th>2</th>\n",
       "      <td>3</td>\n",
       "      <td>333</td>\n",
       "    </tr>\n",
       "  </tbody>\n",
       "</table>\n",
       "</div>"
      ],
      "text/plain": [
       "   a    c\n",
       "0  1  111\n",
       "1  2  222\n",
       "2  3  333"
      ]
     },
     "execution_count": 18,
     "metadata": {},
     "output_type": "execute_result"
    }
   ],
   "source": [
    "# if you want to access multiple columns: by dictonary key/headings value in slice oprator in list\n",
    "df1[['a','c']]\n",
    "# This return a dataframe datatype because it has more than 1 column"
   ]
  },
  {
   "cell_type": "code",
   "execution_count": 19,
   "id": "93f931e5",
   "metadata": {},
   "outputs": [
    {
     "data": {
      "text/plain": [
       "Index(['a', 'b', 'c'], dtype='object')"
      ]
     },
     "execution_count": 19,
     "metadata": {},
     "output_type": "execute_result"
    }
   ],
   "source": [
    "# if you want to know only headings or index of your dataframe\n",
    "df1.columns\n"
   ]
  },
  {
   "cell_type": "code",
   "execution_count": 100,
   "id": "52cf3107",
   "metadata": {},
   "outputs": [
    {
     "data": {
      "text/plain": [
       "a      2\n",
       "b     22\n",
       "c    222\n",
       "Name: 1, dtype: int64"
      ]
     },
     "execution_count": 100,
     "metadata": {},
     "output_type": "execute_result"
    }
   ],
   "source": [
    "# if you want to access single rows: iloc ke parameter me row index pass kare\n",
    "df1.iloc[1]"
   ]
  },
  {
   "cell_type": "code",
   "execution_count": 102,
   "id": "44d8bd89",
   "metadata": {},
   "outputs": [
    {
     "data": {
      "text/html": [
       "<div>\n",
       "<style scoped>\n",
       "    .dataframe tbody tr th:only-of-type {\n",
       "        vertical-align: middle;\n",
       "    }\n",
       "\n",
       "    .dataframe tbody tr th {\n",
       "        vertical-align: top;\n",
       "    }\n",
       "\n",
       "    .dataframe thead th {\n",
       "        text-align: right;\n",
       "    }\n",
       "</style>\n",
       "<table border=\"1\" class=\"dataframe\">\n",
       "  <thead>\n",
       "    <tr style=\"text-align: right;\">\n",
       "      <th></th>\n",
       "      <th>a</th>\n",
       "      <th>b</th>\n",
       "      <th>c</th>\n",
       "    </tr>\n",
       "  </thead>\n",
       "  <tbody>\n",
       "    <tr>\n",
       "      <th>0</th>\n",
       "      <td>1</td>\n",
       "      <td>11</td>\n",
       "      <td>111</td>\n",
       "    </tr>\n",
       "    <tr>\n",
       "      <th>2</th>\n",
       "      <td>3</td>\n",
       "      <td>33</td>\n",
       "      <td>333</td>\n",
       "    </tr>\n",
       "  </tbody>\n",
       "</table>\n",
       "</div>"
      ],
      "text/plain": [
       "   a   b    c\n",
       "0  1  11  111\n",
       "2  3  33  333"
      ]
     },
     "execution_count": 102,
     "metadata": {},
     "output_type": "execute_result"
    }
   ],
   "source": [
    "# if you want to access multiple rows: iloc ke function m list ke ander multi row index pass kare\n",
    "df1.iloc[[0,2]]"
   ]
  },
  {
   "cell_type": "code",
   "execution_count": 103,
   "id": "9245271a",
   "metadata": {},
   "outputs": [
    {
     "data": {
      "text/html": [
       "<div>\n",
       "<style scoped>\n",
       "    .dataframe tbody tr th:only-of-type {\n",
       "        vertical-align: middle;\n",
       "    }\n",
       "\n",
       "    .dataframe tbody tr th {\n",
       "        vertical-align: top;\n",
       "    }\n",
       "\n",
       "    .dataframe thead th {\n",
       "        text-align: right;\n",
       "    }\n",
       "</style>\n",
       "<table border=\"1\" class=\"dataframe\">\n",
       "  <thead>\n",
       "    <tr style=\"text-align: right;\">\n",
       "      <th></th>\n",
       "      <th>b</th>\n",
       "      <th>c</th>\n",
       "    </tr>\n",
       "  </thead>\n",
       "  <tbody>\n",
       "    <tr>\n",
       "      <th>0</th>\n",
       "      <td>11</td>\n",
       "      <td>111</td>\n",
       "    </tr>\n",
       "    <tr>\n",
       "      <th>1</th>\n",
       "      <td>22</td>\n",
       "      <td>222</td>\n",
       "    </tr>\n",
       "  </tbody>\n",
       "</table>\n",
       "</div>"
      ],
      "text/plain": [
       "    b    c\n",
       "0  11  111\n",
       "1  22  222"
      ]
     },
     "execution_count": 103,
     "metadata": {},
     "output_type": "execute_result"
    }
   ],
   "source": [
    "# if you want to access multi rows with multi columns: iloc ke function m list ke ander multi row index or list ke ander multi column index pass kare\n",
    "df1.iloc[[0,1],[1,2]]\n",
    "\n",
    "# here 1st list parameter of row index and 2nd list for column index"
   ]
  },
  {
   "cell_type": "code",
   "execution_count": 113,
   "id": "bbef8b4c",
   "metadata": {},
   "outputs": [
    {
     "data": {
      "text/html": [
       "<div>\n",
       "<style scoped>\n",
       "    .dataframe tbody tr th:only-of-type {\n",
       "        vertical-align: middle;\n",
       "    }\n",
       "\n",
       "    .dataframe tbody tr th {\n",
       "        vertical-align: top;\n",
       "    }\n",
       "\n",
       "    .dataframe thead th {\n",
       "        text-align: right;\n",
       "    }\n",
       "</style>\n",
       "<table border=\"1\" class=\"dataframe\">\n",
       "  <thead>\n",
       "    <tr style=\"text-align: right;\">\n",
       "      <th></th>\n",
       "      <th>a</th>\n",
       "      <th>b</th>\n",
       "    </tr>\n",
       "  </thead>\n",
       "  <tbody>\n",
       "    <tr>\n",
       "      <th>1</th>\n",
       "      <td>2</td>\n",
       "      <td>22</td>\n",
       "    </tr>\n",
       "    <tr>\n",
       "      <th>2</th>\n",
       "      <td>3</td>\n",
       "      <td>33</td>\n",
       "    </tr>\n",
       "  </tbody>\n",
       "</table>\n",
       "</div>"
      ],
      "text/plain": [
       "   a   b\n",
       "1  2  22\n",
       "2  3  33"
      ]
     },
     "execution_count": 113,
     "metadata": {},
     "output_type": "execute_result"
    }
   ],
   "source": [
    "# Note:-if you want to use slice operator then you should pass slice operation without using square bracket lock or iloc methods\n",
    "df1.iloc[1:,0:2]"
   ]
  },
  {
   "cell_type": "code",
   "execution_count": 105,
   "id": "6d74b68f",
   "metadata": {
    "collapsed": true
   },
   "outputs": [
    {
     "data": {
      "text/html": [
       "<div>\n",
       "<style scoped>\n",
       "    .dataframe tbody tr th:only-of-type {\n",
       "        vertical-align: middle;\n",
       "    }\n",
       "\n",
       "    .dataframe tbody tr th {\n",
       "        vertical-align: top;\n",
       "    }\n",
       "\n",
       "    .dataframe thead th {\n",
       "        text-align: right;\n",
       "    }\n",
       "</style>\n",
       "<table border=\"1\" class=\"dataframe\">\n",
       "  <thead>\n",
       "    <tr style=\"text-align: right;\">\n",
       "      <th></th>\n",
       "      <th>a</th>\n",
       "      <th>b</th>\n",
       "    </tr>\n",
       "  </thead>\n",
       "  <tbody>\n",
       "    <tr>\n",
       "      <th>a</th>\n",
       "      <td>1</td>\n",
       "      <td>2</td>\n",
       "    </tr>\n",
       "    <tr>\n",
       "      <th>b</th>\n",
       "      <td>1</td>\n",
       "      <td>2</td>\n",
       "    </tr>\n",
       "  </tbody>\n",
       "</table>\n",
       "</div>"
      ],
      "text/plain": [
       "   a  b\n",
       "a  1  2\n",
       "b  1  2"
      ]
     },
     "execution_count": 105,
     "metadata": {},
     "output_type": "execute_result"
    }
   ],
   "source": [
    "# iloc vs loc\n",
    "# iloc:- isme hame parameter m row index or column index ki integer value pass krni hoti hai.(just like offset(1,1))\n",
    "# loc:- isme hame parameter m row index ka name or column index ka name pass karana hota hai( just like range(d11)).\n",
    "#     :- true value ko be return karta hai jiska use filter m bhot hota hai\n",
    "\n"
   ]
  },
  {
   "cell_type": "code",
   "execution_count": 106,
   "id": "42b97ebd",
   "metadata": {},
   "outputs": [
    {
     "data": {
      "text/plain": [
       "2"
      ]
     },
     "execution_count": 106,
     "metadata": {},
     "output_type": "execute_result"
    }
   ],
   "source": [
    "df2.iloc[1,1]"
   ]
  },
  {
   "cell_type": "code",
   "execution_count": 110,
   "id": "325559b7",
   "metadata": {},
   "outputs": [
    {
     "data": {
      "text/plain": [
       "2"
      ]
     },
     "execution_count": 110,
     "metadata": {},
     "output_type": "execute_result"
    }
   ],
   "source": [
    "df2.loc['a','b']"
   ]
  },
  {
   "cell_type": "code",
   "execution_count": 120,
   "id": "45b016c7",
   "metadata": {},
   "outputs": [
    {
     "data": {
      "text/plain": [
       "a      2\n",
       "b     22\n",
       "c    222\n",
       "Name: 1, dtype: int64"
      ]
     },
     "execution_count": 120,
     "metadata": {},
     "output_type": "execute_result"
    }
   ],
   "source": [
    "df1.loc[1,'a':'c']"
   ]
  },
  {
   "cell_type": "code",
   "execution_count": 126,
   "id": "31d51992",
   "metadata": {
    "collapsed": true
   },
   "outputs": [
    {
     "data": {
      "text/html": [
       "<div>\n",
       "<style scoped>\n",
       "    .dataframe tbody tr th:only-of-type {\n",
       "        vertical-align: middle;\n",
       "    }\n",
       "\n",
       "    .dataframe tbody tr th {\n",
       "        vertical-align: top;\n",
       "    }\n",
       "\n",
       "    .dataframe thead th {\n",
       "        text-align: right;\n",
       "    }\n",
       "</style>\n",
       "<table border=\"1\" class=\"dataframe\">\n",
       "  <thead>\n",
       "    <tr style=\"text-align: right;\">\n",
       "      <th></th>\n",
       "      <th>a</th>\n",
       "      <th>b</th>\n",
       "    </tr>\n",
       "    <tr>\n",
       "      <th>c</th>\n",
       "      <th></th>\n",
       "      <th></th>\n",
       "    </tr>\n",
       "  </thead>\n",
       "  <tbody>\n",
       "    <tr>\n",
       "      <th>111</th>\n",
       "      <td>1</td>\n",
       "      <td>11</td>\n",
       "    </tr>\n",
       "    <tr>\n",
       "      <th>222</th>\n",
       "      <td>2</td>\n",
       "      <td>22</td>\n",
       "    </tr>\n",
       "    <tr>\n",
       "      <th>333</th>\n",
       "      <td>3</td>\n",
       "      <td>33</td>\n",
       "    </tr>\n",
       "  </tbody>\n",
       "</table>\n",
       "</div>"
      ],
      "text/plain": [
       "     a   b\n",
       "c         \n",
       "111  1  11\n",
       "222  2  22\n",
       "333  3  33"
      ]
     },
     "execution_count": 126,
     "metadata": {},
     "output_type": "execute_result"
    }
   ],
   "source": [
    "# if you want set any particular coloumn as index(row name) of your dataframe:\n",
    "df1.set_index('c')\n",
    "df1"
   ]
  },
  {
   "cell_type": "code",
   "execution_count": 142,
   "id": "f257a47c",
   "metadata": {
    "collapsed": true
   },
   "outputs": [
    {
     "data": {
      "text/plain": [
       "a     1\n",
       "b    11\n",
       "Name: 111, dtype: int64"
      ]
     },
     "execution_count": 142,
     "metadata": {},
     "output_type": "execute_result"
    }
   ],
   "source": [
    "df1.loc[111]\n",
    "\n",
    "# note:-above code never gone be in action until you don't provided 2nd argument in set_index method that is inplace=ture"
   ]
  },
  {
   "cell_type": "code",
   "execution_count": 146,
   "id": "9f0edfba",
   "metadata": {
    "collapsed": true
   },
   "outputs": [
    {
     "ename": "KeyError",
     "evalue": "\"None of ['c'] are in the columns\"",
     "output_type": "error",
     "traceback": [
      "\u001b[1;31m---------------------------------------------------------------------------\u001b[0m",
      "\u001b[1;31mKeyError\u001b[0m                                  Traceback (most recent call last)",
      "\u001b[1;32m<ipython-input-146-1b12cb413397>\u001b[0m in \u001b[0;36m<module>\u001b[1;34m\u001b[0m\n\u001b[1;32m----> 1\u001b[1;33m \u001b[0mdf1\u001b[0m\u001b[1;33m.\u001b[0m\u001b[0mset_index\u001b[0m\u001b[1;33m(\u001b[0m\u001b[1;34m'c'\u001b[0m\u001b[1;33m,\u001b[0m\u001b[0minplace\u001b[0m\u001b[1;33m=\u001b[0m\u001b[1;32mTrue\u001b[0m\u001b[1;33m)\u001b[0m\u001b[1;33m\u001b[0m\u001b[1;33m\u001b[0m\u001b[0m\n\u001b[0m\u001b[0;32m      2\u001b[0m \u001b[0mdf1\u001b[0m\u001b[1;33m\u001b[0m\u001b[1;33m\u001b[0m\u001b[0m\n\u001b[0;32m      3\u001b[0m \u001b[0mdf1\u001b[0m\u001b[1;33m.\u001b[0m\u001b[0mshape\u001b[0m\u001b[1;33m\u001b[0m\u001b[1;33m\u001b[0m\u001b[0m\n",
      "\u001b[1;32mc:\\users\\dell\\appdata\\local\\programs\\python\\python39\\lib\\site-packages\\pandas\\core\\frame.py\u001b[0m in \u001b[0;36mset_index\u001b[1;34m(self, keys, drop, append, inplace, verify_integrity)\u001b[0m\n\u001b[0;32m   4725\u001b[0m \u001b[1;33m\u001b[0m\u001b[0m\n\u001b[0;32m   4726\u001b[0m         \u001b[1;32mif\u001b[0m \u001b[0mmissing\u001b[0m\u001b[1;33m:\u001b[0m\u001b[1;33m\u001b[0m\u001b[1;33m\u001b[0m\u001b[0m\n\u001b[1;32m-> 4727\u001b[1;33m             \u001b[1;32mraise\u001b[0m \u001b[0mKeyError\u001b[0m\u001b[1;33m(\u001b[0m\u001b[1;34mf\"None of {missing} are in the columns\"\u001b[0m\u001b[1;33m)\u001b[0m\u001b[1;33m\u001b[0m\u001b[1;33m\u001b[0m\u001b[0m\n\u001b[0m\u001b[0;32m   4728\u001b[0m \u001b[1;33m\u001b[0m\u001b[0m\n\u001b[0;32m   4729\u001b[0m         \u001b[1;32mif\u001b[0m \u001b[0minplace\u001b[0m\u001b[1;33m:\u001b[0m\u001b[1;33m\u001b[0m\u001b[1;33m\u001b[0m\u001b[0m\n",
      "\u001b[1;31mKeyError\u001b[0m: \"None of ['c'] are in the columns\""
     ]
    }
   ],
   "source": [
    "df1.set_index('c',inplace=True)\n",
    "df1\n",
    "# Note:- by doing this so, column c is not be there b'coz it become a index of our dataframe\n",
    "# if you now check the shapce of your data frame( by .shape property) there will be a 1 less column as original one\n",
    "# Here you can check new index of you data frame (by .index property)\n",
    "# inplace=true tell that you are ensure to whatever changes you do in current data will reflect the original data \n",
    "# you can also set index any column at time of reading dataFram (by index_col=\"name of column\" parameter pass karake) "
   ]
  },
  {
   "cell_type": "code",
   "execution_count": 145,
   "id": "7b281be6",
   "metadata": {},
   "outputs": [
    {
     "data": {
      "text/plain": [
       "11"
      ]
     },
     "execution_count": 145,
     "metadata": {},
     "output_type": "execute_result"
    }
   ],
   "source": [
    "df1.loc[111,'b']"
   ]
  },
  {
   "cell_type": "code",
   "execution_count": 152,
   "id": "98f54387",
   "metadata": {},
   "outputs": [
    {
     "data": {
      "text/plain": [
       "(3, 4)"
      ]
     },
     "execution_count": 152,
     "metadata": {},
     "output_type": "execute_result"
    }
   ],
   "source": [
    "df1.shape"
   ]
  },
  {
   "cell_type": "code",
   "execution_count": 193,
   "id": "db31cb52",
   "metadata": {},
   "outputs": [
    {
     "data": {
      "text/plain": [
       "RangeIndex(start=0, stop=3, step=1)"
      ]
     },
     "execution_count": 193,
     "metadata": {},
     "output_type": "execute_result"
    }
   ],
   "source": [
    "df1.index"
   ]
  },
  {
   "cell_type": "code",
   "execution_count": 151,
   "id": "305fbd51",
   "metadata": {
    "collapsed": true
   },
   "outputs": [
    {
     "data": {
      "text/html": [
       "<div>\n",
       "<style scoped>\n",
       "    .dataframe tbody tr th:only-of-type {\n",
       "        vertical-align: middle;\n",
       "    }\n",
       "\n",
       "    .dataframe tbody tr th {\n",
       "        vertical-align: top;\n",
       "    }\n",
       "\n",
       "    .dataframe thead th {\n",
       "        text-align: right;\n",
       "    }\n",
       "</style>\n",
       "<table border=\"1\" class=\"dataframe\">\n",
       "  <thead>\n",
       "    <tr style=\"text-align: right;\">\n",
       "      <th></th>\n",
       "      <th>index</th>\n",
       "      <th>c</th>\n",
       "      <th>a</th>\n",
       "      <th>b</th>\n",
       "    </tr>\n",
       "  </thead>\n",
       "  <tbody>\n",
       "    <tr>\n",
       "      <th>0</th>\n",
       "      <td>0</td>\n",
       "      <td>111</td>\n",
       "      <td>1</td>\n",
       "      <td>11</td>\n",
       "    </tr>\n",
       "    <tr>\n",
       "      <th>1</th>\n",
       "      <td>1</td>\n",
       "      <td>222</td>\n",
       "      <td>2</td>\n",
       "      <td>22</td>\n",
       "    </tr>\n",
       "    <tr>\n",
       "      <th>2</th>\n",
       "      <td>2</td>\n",
       "      <td>333</td>\n",
       "      <td>3</td>\n",
       "      <td>33</td>\n",
       "    </tr>\n",
       "  </tbody>\n",
       "</table>\n",
       "</div>"
      ],
      "text/plain": [
       "   index    c  a   b\n",
       "0      0  111  1  11\n",
       "1      1  222  2  22\n",
       "2      2  333  3  33"
      ]
     },
     "execution_count": 151,
     "metadata": {},
     "output_type": "execute_result"
    }
   ],
   "source": [
    "# it set defult index as original one\n",
    "df1.reset_index(inplace=True)\n",
    "df1"
   ]
  },
  {
   "cell_type": "markdown",
   "id": "8d8f8b36",
   "metadata": {},
   "source": [
    "# Filter"
   ]
  },
  {
   "cell_type": "code",
   "execution_count": 13,
   "id": "748d2c54",
   "metadata": {},
   "outputs": [],
   "source": [
    "import openpyxl"
   ]
  },
  {
   "cell_type": "code",
   "execution_count": 24,
   "id": "cc62911d",
   "metadata": {
    "collapsed": true
   },
   "outputs": [
    {
     "data": {
      "text/html": [
       "<div>\n",
       "<style scoped>\n",
       "    .dataframe tbody tr th:only-of-type {\n",
       "        vertical-align: middle;\n",
       "    }\n",
       "\n",
       "    .dataframe tbody tr th {\n",
       "        vertical-align: top;\n",
       "    }\n",
       "\n",
       "    .dataframe thead th {\n",
       "        text-align: right;\n",
       "    }\n",
       "</style>\n",
       "<table border=\"1\" class=\"dataframe\">\n",
       "  <thead>\n",
       "    <tr style=\"text-align: right;\">\n",
       "      <th></th>\n",
       "      <th>Stokes</th>\n",
       "      <th>p(t)</th>\n",
       "      <th>...</th>\n",
       "      <th>Unnamed: 42</th>\n",
       "      <th>URL</th>\n",
       "    </tr>\n",
       "  </thead>\n",
       "  <tbody>\n",
       "    <tr>\n",
       "      <th>0</th>\n",
       "      <td>Mangalam Timber Prod</td>\n",
       "      <td>10.75</td>\n",
       "      <td>...</td>\n",
       "      <td>Mangalam Timber Prod</td>\n",
       "      <td>https://www.financialexpress.com/market/stock-...</td>\n",
       "    </tr>\n",
       "    <tr>\n",
       "      <th>1</th>\n",
       "      <td>Century Plyboards(I)</td>\n",
       "      <td>344.00</td>\n",
       "      <td>...</td>\n",
       "      <td>Century Plyboards(I)</td>\n",
       "      <td>https://www.financialexpress.com/market/stock-...</td>\n",
       "    </tr>\n",
       "    <tr>\n",
       "      <th>2</th>\n",
       "      <td>Greenply Industries</td>\n",
       "      <td>205.10</td>\n",
       "      <td>...</td>\n",
       "      <td>Greenply Industries</td>\n",
       "      <td>https://www.financialexpress.com/market/stock-...</td>\n",
       "    </tr>\n",
       "    <tr>\n",
       "      <th>3</th>\n",
       "      <td>Archidply Inds</td>\n",
       "      <td>33.50</td>\n",
       "      <td>...</td>\n",
       "      <td>Archidply Inds</td>\n",
       "      <td>https://www.financialexpress.com/market/stock-...</td>\n",
       "    </tr>\n",
       "    <tr>\n",
       "      <th>4</th>\n",
       "      <td>Greenpanel Inds.</td>\n",
       "      <td>233.80</td>\n",
       "      <td>...</td>\n",
       "      <td>Greenpanel Inds.</td>\n",
       "      <td>https://www.financialexpress.com/market/stock-...</td>\n",
       "    </tr>\n",
       "    <tr>\n",
       "      <th>...</th>\n",
       "      <td>...</td>\n",
       "      <td>...</td>\n",
       "      <td>...</td>\n",
       "      <td>...</td>\n",
       "      <td>...</td>\n",
       "    </tr>\n",
       "    <tr>\n",
       "      <th>96</th>\n",
       "      <td>GTN Textiles</td>\n",
       "      <td>5.60</td>\n",
       "      <td>...</td>\n",
       "      <td>GTN Textiles</td>\n",
       "      <td>https://www.financialexpress.com/market/stock-...</td>\n",
       "    </tr>\n",
       "    <tr>\n",
       "      <th>97</th>\n",
       "      <td>Super Spinning Mills</td>\n",
       "      <td>6.00</td>\n",
       "      <td>...</td>\n",
       "      <td>Super Spinning Mills</td>\n",
       "      <td>https://www.financialexpress.com/market/stock-...</td>\n",
       "    </tr>\n",
       "    <tr>\n",
       "      <th>98</th>\n",
       "      <td>Sumeet Inds</td>\n",
       "      <td>4.40</td>\n",
       "      <td>...</td>\n",
       "      <td>Sumeet Inds</td>\n",
       "      <td>https://www.financialexpress.com/market/stock-...</td>\n",
       "    </tr>\n",
       "    <tr>\n",
       "      <th>99</th>\n",
       "      <td>DCM</td>\n",
       "      <td>26.75</td>\n",
       "      <td>...</td>\n",
       "      <td>DCM</td>\n",
       "      <td>https://www.financialexpress.com/market/stock-...</td>\n",
       "    </tr>\n",
       "    <tr>\n",
       "      <th>100</th>\n",
       "      <td>Sarla Perform. Fibre</td>\n",
       "      <td>31.50</td>\n",
       "      <td>...</td>\n",
       "      <td>Sarla Perform. Fibre</td>\n",
       "      <td>https://www.financialexpress.com/market/stock-...</td>\n",
       "    </tr>\n",
       "  </tbody>\n",
       "</table>\n",
       "<p>101 rows × 44 columns</p>\n",
       "</div>"
      ],
      "text/plain": [
       "                   Stokes    p(t)  ...           Unnamed: 42  \\\n",
       "0    Mangalam Timber Prod   10.75  ...  Mangalam Timber Prod   \n",
       "1    Century Plyboards(I)  344.00  ...  Century Plyboards(I)   \n",
       "2     Greenply Industries  205.10  ...   Greenply Industries   \n",
       "3          Archidply Inds   33.50  ...        Archidply Inds   \n",
       "4        Greenpanel Inds.  233.80  ...      Greenpanel Inds.   \n",
       "..                    ...     ...  ...                   ...   \n",
       "96           GTN Textiles    5.60  ...          GTN Textiles   \n",
       "97   Super Spinning Mills    6.00  ...  Super Spinning Mills   \n",
       "98            Sumeet Inds    4.40  ...           Sumeet Inds   \n",
       "99                    DCM   26.75  ...                   DCM   \n",
       "100  Sarla Perform. Fibre   31.50  ...  Sarla Perform. Fibre   \n",
       "\n",
       "                                                   URL  \n",
       "0    https://www.financialexpress.com/market/stock-...  \n",
       "1    https://www.financialexpress.com/market/stock-...  \n",
       "2    https://www.financialexpress.com/market/stock-...  \n",
       "3    https://www.financialexpress.com/market/stock-...  \n",
       "4    https://www.financialexpress.com/market/stock-...  \n",
       "..                                                 ...  \n",
       "96   https://www.financialexpress.com/market/stock-...  \n",
       "97   https://www.financialexpress.com/market/stock-...  \n",
       "98   https://www.financialexpress.com/market/stock-...  \n",
       "99   https://www.financialexpress.com/market/stock-...  \n",
       "100  https://www.financialexpress.com/market/stock-...  \n",
       "\n",
       "[101 rows x 44 columns]"
      ]
     },
     "execution_count": 24,
     "metadata": {},
     "output_type": "execute_result"
    }
   ],
   "source": [
    "import openpyxl\n",
    "df=pandas.read_excel(r\"C:\\Users\\DELL\\Desktop\\kPython RND folder\\Market_Watch_All.xlsx\",sheet_name=\"All\")\n",
    "df"
   ]
  },
  {
   "cell_type": "code",
   "execution_count": 25,
   "id": "b540ea1e",
   "metadata": {
    "collapsed": true
   },
   "outputs": [
    {
     "data": {
      "text/plain": [
       "Index(['Stokes', 'p(t)', 'P(t+1)', 'P(t+2)', 'P(t+3)', 'p(t+4)', '%(t)',\n",
       "       '%(t+1)', '%(t+2)', '%(t+3)', '%(t+4)', 'v(t)', 'v(t+1)', 'v(t+2)',\n",
       "       'v(t+3)', 'v(t+4)', 'del(t)', 'del(t+1)', 'del(t+2)', 'del(t+3)',\n",
       "       'del(t+4)', 'Sector', 'Market Cap (Rs. in Cr.) ',\n",
       "       'Earning Per Share (EPS TTM) (Rs.)', 'Price To Earnings (P/E) Ratio',\n",
       "       'Book Value Per Share (Rs.)', 'Price/Book (MRQ)', 'Price/Earning (TTM)',\n",
       "       'ROCE (%)', 'PAT Margin', 'Dividend Yield', 'Face Value',\n",
       "       'Non-Institution', 'Promoters', 'Fi/Banks/Insurance',\n",
       "       'Mutual Funds/Uti', 'Government', 'FII', 'Industry', 'Unnamed: 39',\n",
       "       'Unnamed: 40', 'Unnamed: 41', 'Unnamed: 42', 'URL'],\n",
       "      dtype='object')"
      ]
     },
     "execution_count": 25,
     "metadata": {},
     "output_type": "execute_result"
    }
   ],
   "source": [
    "# for i in df.columns:\n",
    "#     print(i)\n",
    "df.columns\n"
   ]
  },
  {
   "cell_type": "code",
   "execution_count": 8,
   "id": "e5d1d83a",
   "metadata": {},
   "outputs": [
    {
     "data": {
      "text/plain": [
       "array(['Mangalam Timber Prod', 10.75, 10.75, 10.3, 10.15, 10.3, 4.37,\n",
       "       4.37, -0.48, -1.46, -0.48, 15.39, 15.39, 5.56, 5.36, 2.64, 99.03,\n",
       "       99.03, nan, nan, nan, 'Wood & Wood Products', 19.04, -9.94, 0.0,\n",
       "       -39.13, -0.27, -1.14, -23.62, -368.22, 0.0, 10, 62.52, 37.46, 0.0,\n",
       "       0.0, 0.0, 0, nan, nan, nan, nan, 'Mangalam Timber Prod',\n",
       "       'https://www.financialexpress.com/market/stock-market/mangalam-timber-products-ltd-stock-price/'],\n",
       "      dtype=object)"
      ]
     },
     "execution_count": 8,
     "metadata": {},
     "output_type": "execute_result"
    }
   ],
   "source": [
    "arr=df.to_numpy()\n",
    "arr\n",
    "arr[0]"
   ]
  },
  {
   "cell_type": "markdown",
   "id": "dd83ab4a",
   "metadata": {},
   "source": [
    "## Filter"
   ]
  },
  {
   "cell_type": "code",
   "execution_count": 26,
   "id": "0f7c1a67",
   "metadata": {
    "collapsed": true
   },
   "outputs": [
    {
     "data": {
      "text/html": [
       "<div>\n",
       "<style scoped>\n",
       "    .dataframe tbody tr th:only-of-type {\n",
       "        vertical-align: middle;\n",
       "    }\n",
       "\n",
       "    .dataframe tbody tr th {\n",
       "        vertical-align: top;\n",
       "    }\n",
       "\n",
       "    .dataframe thead th {\n",
       "        text-align: right;\n",
       "    }\n",
       "</style>\n",
       "<table border=\"1\" class=\"dataframe\">\n",
       "  <thead>\n",
       "    <tr style=\"text-align: right;\">\n",
       "      <th></th>\n",
       "      <th>Stokes</th>\n",
       "      <th>p(t)</th>\n",
       "      <th>...</th>\n",
       "      <th>Unnamed: 42</th>\n",
       "      <th>URL</th>\n",
       "    </tr>\n",
       "  </thead>\n",
       "  <tbody>\n",
       "    <tr>\n",
       "      <th>99</th>\n",
       "      <td>DCM</td>\n",
       "      <td>26.75</td>\n",
       "      <td>...</td>\n",
       "      <td>DCM</td>\n",
       "      <td>https://www.financialexpress.com/market/stock-...</td>\n",
       "    </tr>\n",
       "  </tbody>\n",
       "</table>\n",
       "<p>1 rows × 44 columns</p>\n",
       "</div>"
      ],
      "text/plain": [
       "   Stokes   p(t)  ...  Unnamed: 42  \\\n",
       "99    DCM  26.75  ...          DCM   \n",
       "\n",
       "                                                  URL  \n",
       "99  https://www.financialexpress.com/market/stock-...  \n",
       "\n",
       "[1 rows x 44 columns]"
      ]
     },
     "execution_count": 26,
     "metadata": {},
     "output_type": "execute_result"
    }
   ],
   "source": [
    "#filter data according to one condition\n",
    "\n",
    "filt=(df['Stokes']== 'DCM')\n",
    "df.loc[filt]\n",
    "\n",
    "#2nd way\n",
    "df[df['Stokes']== 'DCM']"
   ]
  },
  {
   "cell_type": "code",
   "execution_count": 28,
   "id": "6a2f919f",
   "metadata": {},
   "outputs": [
    {
     "data": {
      "text/html": [
       "<div>\n",
       "<style scoped>\n",
       "    .dataframe tbody tr th:only-of-type {\n",
       "        vertical-align: middle;\n",
       "    }\n",
       "\n",
       "    .dataframe tbody tr th {\n",
       "        vertical-align: top;\n",
       "    }\n",
       "\n",
       "    .dataframe thead th {\n",
       "        text-align: right;\n",
       "    }\n",
       "</style>\n",
       "<table border=\"1\" class=\"dataframe\">\n",
       "  <thead>\n",
       "    <tr style=\"text-align: right;\">\n",
       "      <th></th>\n",
       "      <th>Stokes</th>\n",
       "      <th>p(t)</th>\n",
       "      <th>...</th>\n",
       "      <th>Unnamed: 42</th>\n",
       "      <th>URL</th>\n",
       "    </tr>\n",
       "  </thead>\n",
       "  <tbody>\n",
       "    <tr>\n",
       "      <th>98</th>\n",
       "      <td>Sumeet Inds</td>\n",
       "      <td>4.40</td>\n",
       "      <td>...</td>\n",
       "      <td>Sumeet Inds</td>\n",
       "      <td>https://www.financialexpress.com/market/stock-...</td>\n",
       "    </tr>\n",
       "    <tr>\n",
       "      <th>99</th>\n",
       "      <td>DCM</td>\n",
       "      <td>26.75</td>\n",
       "      <td>...</td>\n",
       "      <td>DCM</td>\n",
       "      <td>https://www.financialexpress.com/market/stock-...</td>\n",
       "    </tr>\n",
       "  </tbody>\n",
       "</table>\n",
       "<p>2 rows × 44 columns</p>\n",
       "</div>"
      ],
      "text/plain": [
       "         Stokes   p(t)  ...  Unnamed: 42  \\\n",
       "98  Sumeet Inds   4.40  ...  Sumeet Inds   \n",
       "99          DCM  26.75  ...          DCM   \n",
       "\n",
       "                                                  URL  \n",
       "98  https://www.financialexpress.com/market/stock-...  \n",
       "99  https://www.financialexpress.com/market/stock-...  \n",
       "\n",
       "[2 rows x 44 columns]"
      ]
     },
     "execution_count": 28,
     "metadata": {},
     "output_type": "execute_result"
    }
   ],
   "source": [
    "# filter data according to multiple condition with (&-->represent 'and' condition) (|-->represend 'or' condition)\n",
    "\n",
    "filt=(df['Stokes']== 'DCM') | (df['Stokes']== 'Sumeet Inds')\n",
    "df.loc[filt]\n",
    "\n",
    "# 2nd way\n",
    "df[filt]\n",
    "\n"
   ]
  },
  {
   "cell_type": "code",
   "execution_count": 44,
   "id": "cc38e3f0",
   "metadata": {
    "collapsed": true
   },
   "outputs": [
    {
     "data": {
      "text/html": [
       "<div>\n",
       "<style scoped>\n",
       "    .dataframe tbody tr th:only-of-type {\n",
       "        vertical-align: middle;\n",
       "    }\n",
       "\n",
       "    .dataframe tbody tr th {\n",
       "        vertical-align: top;\n",
       "    }\n",
       "\n",
       "    .dataframe thead th {\n",
       "        text-align: right;\n",
       "    }\n",
       "</style>\n",
       "<table border=\"1\" class=\"dataframe\">\n",
       "  <thead>\n",
       "    <tr style=\"text-align: right;\">\n",
       "      <th></th>\n",
       "      <th>Stokes</th>\n",
       "      <th>p(t)</th>\n",
       "      <th>P(t+1)</th>\n",
       "      <th>P(t+2)</th>\n",
       "      <th>P(t+3)</th>\n",
       "      <th>p(t+4)</th>\n",
       "      <th>%(t)</th>\n",
       "      <th>%(t+1)</th>\n",
       "      <th>%(t+2)</th>\n",
       "      <th>%(t+3)</th>\n",
       "      <th>...</th>\n",
       "      <th>Fi/Banks/Insurance</th>\n",
       "      <th>Mutual Funds/Uti</th>\n",
       "      <th>Government</th>\n",
       "      <th>FII</th>\n",
       "      <th>Industry</th>\n",
       "      <th>Unnamed: 39</th>\n",
       "      <th>Unnamed: 40</th>\n",
       "      <th>Unnamed: 41</th>\n",
       "      <th>Unnamed: 42</th>\n",
       "      <th>URL</th>\n",
       "    </tr>\n",
       "  </thead>\n",
       "  <tbody>\n",
       "    <tr>\n",
       "      <th>0</th>\n",
       "      <td>Mangalam Timber Prod</td>\n",
       "      <td>10.75</td>\n",
       "      <td>10.75</td>\n",
       "      <td>10.30</td>\n",
       "      <td>10.15</td>\n",
       "      <td>10.30</td>\n",
       "      <td>4.37</td>\n",
       "      <td>4.37</td>\n",
       "      <td>-0.48</td>\n",
       "      <td>-1.46</td>\n",
       "      <td>...</td>\n",
       "      <td>0.0</td>\n",
       "      <td>0.00</td>\n",
       "      <td>0.0</td>\n",
       "      <td>0</td>\n",
       "      <td>NaN</td>\n",
       "      <td>NaN</td>\n",
       "      <td>NaN</td>\n",
       "      <td>NaN</td>\n",
       "      <td>Mangalam Timber Prod</td>\n",
       "      <td>https://www.financialexpress.com/market/stock-...</td>\n",
       "    </tr>\n",
       "    <tr>\n",
       "      <th>1</th>\n",
       "      <td>Century Plyboards(I)</td>\n",
       "      <td>344.00</td>\n",
       "      <td>344.00</td>\n",
       "      <td>347.70</td>\n",
       "      <td>361.10</td>\n",
       "      <td>366.85</td>\n",
       "      <td>-1.06</td>\n",
       "      <td>-1.06</td>\n",
       "      <td>-0.52</td>\n",
       "      <td>-1.57</td>\n",
       "      <td>...</td>\n",
       "      <td>0.0</td>\n",
       "      <td>10.65</td>\n",
       "      <td>0.0</td>\n",
       "      <td>0</td>\n",
       "      <td>NaN</td>\n",
       "      <td>NaN</td>\n",
       "      <td>NaN</td>\n",
       "      <td>NaN</td>\n",
       "      <td>Century Plyboards(I)</td>\n",
       "      <td>https://www.financialexpress.com/market/stock-...</td>\n",
       "    </tr>\n",
       "    <tr>\n",
       "      <th>2</th>\n",
       "      <td>Greenply Industries</td>\n",
       "      <td>205.10</td>\n",
       "      <td>205.10</td>\n",
       "      <td>200.75</td>\n",
       "      <td>205.90</td>\n",
       "      <td>205.50</td>\n",
       "      <td>2.17</td>\n",
       "      <td>2.17</td>\n",
       "      <td>-0.57</td>\n",
       "      <td>0.19</td>\n",
       "      <td>...</td>\n",
       "      <td>0.0</td>\n",
       "      <td>27.25</td>\n",
       "      <td>0.0</td>\n",
       "      <td>0</td>\n",
       "      <td>NaN</td>\n",
       "      <td>NaN</td>\n",
       "      <td>NaN</td>\n",
       "      <td>NaN</td>\n",
       "      <td>Greenply Industries</td>\n",
       "      <td>https://www.financialexpress.com/market/stock-...</td>\n",
       "    </tr>\n",
       "    <tr>\n",
       "      <th>3</th>\n",
       "      <td>Archidply Inds</td>\n",
       "      <td>33.50</td>\n",
       "      <td>33.50</td>\n",
       "      <td>34.10</td>\n",
       "      <td>34.75</td>\n",
       "      <td>35.15</td>\n",
       "      <td>-1.76</td>\n",
       "      <td>-1.76</td>\n",
       "      <td>-0.87</td>\n",
       "      <td>-1.14</td>\n",
       "      <td>...</td>\n",
       "      <td>0.0</td>\n",
       "      <td>0.00</td>\n",
       "      <td>0.0</td>\n",
       "      <td>0</td>\n",
       "      <td>NaN</td>\n",
       "      <td>NaN</td>\n",
       "      <td>NaN</td>\n",
       "      <td>NaN</td>\n",
       "      <td>Archidply Inds</td>\n",
       "      <td>https://www.financialexpress.com/market/stock-...</td>\n",
       "    </tr>\n",
       "    <tr>\n",
       "      <th>4</th>\n",
       "      <td>Greenpanel Inds.</td>\n",
       "      <td>233.80</td>\n",
       "      <td>233.80</td>\n",
       "      <td>231.75</td>\n",
       "      <td>230.00</td>\n",
       "      <td>224.30</td>\n",
       "      <td>0.88</td>\n",
       "      <td>0.88</td>\n",
       "      <td>-1.15</td>\n",
       "      <td>2.54</td>\n",
       "      <td>...</td>\n",
       "      <td>0.0</td>\n",
       "      <td>0.00</td>\n",
       "      <td>0.0</td>\n",
       "      <td>0</td>\n",
       "      <td>NaN</td>\n",
       "      <td>NaN</td>\n",
       "      <td>NaN</td>\n",
       "      <td>NaN</td>\n",
       "      <td>Greenpanel Inds.</td>\n",
       "      <td>https://www.financialexpress.com/market/stock-...</td>\n",
       "    </tr>\n",
       "    <tr>\n",
       "      <th>...</th>\n",
       "      <td>...</td>\n",
       "      <td>...</td>\n",
       "      <td>...</td>\n",
       "      <td>...</td>\n",
       "      <td>...</td>\n",
       "      <td>...</td>\n",
       "      <td>...</td>\n",
       "      <td>...</td>\n",
       "      <td>...</td>\n",
       "      <td>...</td>\n",
       "      <td>...</td>\n",
       "      <td>...</td>\n",
       "      <td>...</td>\n",
       "      <td>...</td>\n",
       "      <td>...</td>\n",
       "      <td>...</td>\n",
       "      <td>...</td>\n",
       "      <td>...</td>\n",
       "      <td>...</td>\n",
       "      <td>...</td>\n",
       "      <td>...</td>\n",
       "    </tr>\n",
       "    <tr>\n",
       "      <th>94</th>\n",
       "      <td>Ginni Filaments</td>\n",
       "      <td>27.65</td>\n",
       "      <td>27.65</td>\n",
       "      <td>27.40</td>\n",
       "      <td>26.90</td>\n",
       "      <td>22.45</td>\n",
       "      <td>0.91</td>\n",
       "      <td>0.91</td>\n",
       "      <td>-1.97</td>\n",
       "      <td>19.82</td>\n",
       "      <td>...</td>\n",
       "      <td>0.0</td>\n",
       "      <td>0.00</td>\n",
       "      <td>0.0</td>\n",
       "      <td>0</td>\n",
       "      <td>NaN</td>\n",
       "      <td>NaN</td>\n",
       "      <td>NaN</td>\n",
       "      <td>NaN</td>\n",
       "      <td>Ginni Filaments</td>\n",
       "      <td>https://www.financialexpress.com/market/stock-...</td>\n",
       "    </tr>\n",
       "    <tr>\n",
       "      <th>95</th>\n",
       "      <td>Lambodhara Textiles</td>\n",
       "      <td>60.15</td>\n",
       "      <td>60.15</td>\n",
       "      <td>58.80</td>\n",
       "      <td>58.40</td>\n",
       "      <td>55.10</td>\n",
       "      <td>2.30</td>\n",
       "      <td>2.30</td>\n",
       "      <td>-2.65</td>\n",
       "      <td>5.99</td>\n",
       "      <td>...</td>\n",
       "      <td>0.0</td>\n",
       "      <td>0.00</td>\n",
       "      <td>0.0</td>\n",
       "      <td>0</td>\n",
       "      <td>NaN</td>\n",
       "      <td>NaN</td>\n",
       "      <td>NaN</td>\n",
       "      <td>NaN</td>\n",
       "      <td>Lambodhara Textiles</td>\n",
       "      <td>https://www.financialexpress.com/market/stock-...</td>\n",
       "    </tr>\n",
       "    <tr>\n",
       "      <th>96</th>\n",
       "      <td>GTN Textiles</td>\n",
       "      <td>5.60</td>\n",
       "      <td>5.60</td>\n",
       "      <td>5.45</td>\n",
       "      <td>5.45</td>\n",
       "      <td>5.55</td>\n",
       "      <td>2.75</td>\n",
       "      <td>2.75</td>\n",
       "      <td>-4.39</td>\n",
       "      <td>-1.80</td>\n",
       "      <td>...</td>\n",
       "      <td>0.0</td>\n",
       "      <td>0.00</td>\n",
       "      <td>0.0</td>\n",
       "      <td>0</td>\n",
       "      <td>NaN</td>\n",
       "      <td>NaN</td>\n",
       "      <td>NaN</td>\n",
       "      <td>NaN</td>\n",
       "      <td>GTN Textiles</td>\n",
       "      <td>https://www.financialexpress.com/market/stock-...</td>\n",
       "    </tr>\n",
       "    <tr>\n",
       "      <th>97</th>\n",
       "      <td>Super Spinning Mills</td>\n",
       "      <td>6.00</td>\n",
       "      <td>6.00</td>\n",
       "      <td>6.20</td>\n",
       "      <td>6.20</td>\n",
       "      <td>5.65</td>\n",
       "      <td>-3.23</td>\n",
       "      <td>-3.23</td>\n",
       "      <td>-4.62</td>\n",
       "      <td>9.73</td>\n",
       "      <td>...</td>\n",
       "      <td>0.0</td>\n",
       "      <td>0.00</td>\n",
       "      <td>0.0</td>\n",
       "      <td>0</td>\n",
       "      <td>NaN</td>\n",
       "      <td>NaN</td>\n",
       "      <td>NaN</td>\n",
       "      <td>NaN</td>\n",
       "      <td>Super Spinning Mills</td>\n",
       "      <td>https://www.financialexpress.com/market/stock-...</td>\n",
       "    </tr>\n",
       "    <tr>\n",
       "      <th>100</th>\n",
       "      <td>Sarla Perform. Fibre</td>\n",
       "      <td>31.50</td>\n",
       "      <td>31.50</td>\n",
       "      <td>31.30</td>\n",
       "      <td>29.75</td>\n",
       "      <td>30.30</td>\n",
       "      <td>0.64</td>\n",
       "      <td>0.64</td>\n",
       "      <td>5.74</td>\n",
       "      <td>-1.82</td>\n",
       "      <td>...</td>\n",
       "      <td>0.0</td>\n",
       "      <td>0.00</td>\n",
       "      <td>0.0</td>\n",
       "      <td>0</td>\n",
       "      <td>NaN</td>\n",
       "      <td>NaN</td>\n",
       "      <td>NaN</td>\n",
       "      <td>NaN</td>\n",
       "      <td>Sarla Perform. Fibre</td>\n",
       "      <td>https://www.financialexpress.com/market/stock-...</td>\n",
       "    </tr>\n",
       "  </tbody>\n",
       "</table>\n",
       "<p>99 rows × 44 columns</p>\n",
       "</div>"
      ],
      "text/plain": [
       "                   Stokes    p(t)  P(t+1)  P(t+2)  P(t+3)  p(t+4)  %(t)  \\\n",
       "0    Mangalam Timber Prod   10.75   10.75   10.30   10.15   10.30  4.37   \n",
       "1    Century Plyboards(I)  344.00  344.00  347.70  361.10  366.85 -1.06   \n",
       "2     Greenply Industries  205.10  205.10  200.75  205.90  205.50  2.17   \n",
       "3          Archidply Inds   33.50   33.50   34.10   34.75   35.15 -1.76   \n",
       "4        Greenpanel Inds.  233.80  233.80  231.75  230.00  224.30  0.88   \n",
       "..                    ...     ...     ...     ...     ...     ...   ...   \n",
       "94        Ginni Filaments   27.65   27.65   27.40   26.90   22.45  0.91   \n",
       "95    Lambodhara Textiles   60.15   60.15   58.80   58.40   55.10  2.30   \n",
       "96           GTN Textiles    5.60    5.60    5.45    5.45    5.55  2.75   \n",
       "97   Super Spinning Mills    6.00    6.00    6.20    6.20    5.65 -3.23   \n",
       "100  Sarla Perform. Fibre   31.50   31.50   31.30   29.75   30.30  0.64   \n",
       "\n",
       "     %(t+1)  %(t+2)  %(t+3)  ...  Fi/Banks/Insurance  Mutual Funds/Uti  \\\n",
       "0      4.37   -0.48   -1.46  ...                 0.0              0.00   \n",
       "1     -1.06   -0.52   -1.57  ...                 0.0             10.65   \n",
       "2      2.17   -0.57    0.19  ...                 0.0             27.25   \n",
       "3     -1.76   -0.87   -1.14  ...                 0.0              0.00   \n",
       "4      0.88   -1.15    2.54  ...                 0.0              0.00   \n",
       "..      ...     ...     ...  ...                 ...               ...   \n",
       "94     0.91   -1.97   19.82  ...                 0.0              0.00   \n",
       "95     2.30   -2.65    5.99  ...                 0.0              0.00   \n",
       "96     2.75   -4.39   -1.80  ...                 0.0              0.00   \n",
       "97    -3.23   -4.62    9.73  ...                 0.0              0.00   \n",
       "100    0.64    5.74   -1.82  ...                 0.0              0.00   \n",
       "\n",
       "     Government  FII  Industry  Unnamed: 39  Unnamed: 40  Unnamed: 41  \\\n",
       "0           0.0    0       NaN          NaN          NaN          NaN   \n",
       "1           0.0    0       NaN          NaN          NaN          NaN   \n",
       "2           0.0    0       NaN          NaN          NaN          NaN   \n",
       "3           0.0    0       NaN          NaN          NaN          NaN   \n",
       "4           0.0    0       NaN          NaN          NaN          NaN   \n",
       "..          ...  ...       ...          ...          ...          ...   \n",
       "94          0.0    0       NaN          NaN          NaN          NaN   \n",
       "95          0.0    0       NaN          NaN          NaN          NaN   \n",
       "96          0.0    0       NaN          NaN          NaN          NaN   \n",
       "97          0.0    0       NaN          NaN          NaN          NaN   \n",
       "100         0.0    0       NaN          NaN          NaN          NaN   \n",
       "\n",
       "              Unnamed: 42                                                URL  \n",
       "0    Mangalam Timber Prod  https://www.financialexpress.com/market/stock-...  \n",
       "1    Century Plyboards(I)  https://www.financialexpress.com/market/stock-...  \n",
       "2     Greenply Industries  https://www.financialexpress.com/market/stock-...  \n",
       "3          Archidply Inds  https://www.financialexpress.com/market/stock-...  \n",
       "4        Greenpanel Inds.  https://www.financialexpress.com/market/stock-...  \n",
       "..                    ...                                                ...  \n",
       "94        Ginni Filaments  https://www.financialexpress.com/market/stock-...  \n",
       "95    Lambodhara Textiles  https://www.financialexpress.com/market/stock-...  \n",
       "96           GTN Textiles  https://www.financialexpress.com/market/stock-...  \n",
       "97   Super Spinning Mills  https://www.financialexpress.com/market/stock-...  \n",
       "100  Sarla Perform. Fibre  https://www.financialexpress.com/market/stock-...  \n",
       "\n",
       "[99 rows x 44 columns]"
      ]
     },
     "execution_count": 44,
     "metadata": {},
     "output_type": "execute_result"
    }
   ],
   "source": [
    "# filter data which is oppsitive to multiple condition (&-->represent 'and' condition) (|-->represend 'or' condition): Provide (-)minus to final condition\n",
    "# Ex-1\n",
    "filt=(df['Stokes']== 'DCM') | (df['Stokes']== 'Sumeet Inds')\n",
    "df.loc[-(filt)]\n"
   ]
  },
  {
   "cell_type": "code",
   "execution_count": 45,
   "id": "f74bfc8c",
   "metadata": {
    "collapsed": true
   },
   "outputs": [
    {
     "data": {
      "text/plain": [
       "0      https://www.financialexpress.com/market/stock-...\n",
       "1      https://www.financialexpress.com/market/stock-...\n",
       "2      https://www.financialexpress.com/market/stock-...\n",
       "3      https://www.financialexpress.com/market/stock-...\n",
       "4      https://www.financialexpress.com/market/stock-...\n",
       "                             ...                        \n",
       "94     https://www.financialexpress.com/market/stock-...\n",
       "95     https://www.financialexpress.com/market/stock-...\n",
       "96     https://www.financialexpress.com/market/stock-...\n",
       "97     https://www.financialexpress.com/market/stock-...\n",
       "100    https://www.financialexpress.com/market/stock-...\n",
       "Name: URL, Length: 99, dtype: object"
      ]
     },
     "execution_count": 45,
     "metadata": {},
     "output_type": "execute_result"
    }
   ],
   "source": [
    "# filter data which is oppsitive to multiple condition (&-->represent 'and' condition) (|-->represend 'or' condition): Provide (-)minus to final condition\n",
    "# Ex-2\n",
    "filt=(df['Stokes']== 'DCM') | (df['Stokes']== 'Sumeet Inds')\n",
    "df.loc[-(filt),'URL']\n"
   ]
  },
  {
   "cell_type": "code",
   "execution_count": null,
   "id": "00c0699d",
   "metadata": {},
   "outputs": [],
   "source": [
    "#greater salary >7000    by isin method  (eg--> f=df['a'].isin['kakk','guddu'])\n",
    "# find special country data bt str.contens(eg-->  f=df['a'].str.contens['vijay','kakkry']\n"
   ]
  },
  {
   "cell_type": "code",
   "execution_count": 39,
   "id": "81642eb2",
   "metadata": {},
   "outputs": [
    {
     "data": {
      "text/plain": [
       "0      20\n",
       "1      20\n",
       "2      19\n",
       "3      14\n",
       "4      16\n",
       "       ..\n",
       "96     12\n",
       "97     20\n",
       "98     11\n",
       "99      3\n",
       "100    20\n",
       "Name: Stokes, Length: 101, dtype: int64"
      ]
     },
     "execution_count": 39,
     "metadata": {},
     "output_type": "execute_result"
    }
   ],
   "source": [
    "df['Stokes'].apply(len)"
   ]
  },
  {
   "cell_type": "markdown",
   "id": "4d0b3705",
   "metadata": {},
   "source": [
    "# Update & modifying row & columns & data value"
   ]
  },
  {
   "cell_type": "code",
   "execution_count": 42,
   "id": "ed750a8e",
   "metadata": {
    "collapsed": true
   },
   "outputs": [
    {
     "data": {
      "text/html": [
       "<div>\n",
       "<style scoped>\n",
       "    .dataframe tbody tr th:only-of-type {\n",
       "        vertical-align: middle;\n",
       "    }\n",
       "\n",
       "    .dataframe tbody tr th {\n",
       "        vertical-align: top;\n",
       "    }\n",
       "\n",
       "    .dataframe thead th {\n",
       "        text-align: right;\n",
       "    }\n",
       "</style>\n",
       "<table border=\"1\" class=\"dataframe\">\n",
       "  <thead>\n",
       "    <tr style=\"text-align: right;\">\n",
       "      <th></th>\n",
       "      <th>a</th>\n",
       "      <th>b</th>\n",
       "      <th>c</th>\n",
       "    </tr>\n",
       "  </thead>\n",
       "  <tbody>\n",
       "    <tr>\n",
       "      <th>0</th>\n",
       "      <td>1</td>\n",
       "      <td>11</td>\n",
       "      <td>111</td>\n",
       "    </tr>\n",
       "    <tr>\n",
       "      <th>1</th>\n",
       "      <td>2</td>\n",
       "      <td>22</td>\n",
       "      <td>222</td>\n",
       "    </tr>\n",
       "    <tr>\n",
       "      <th>2</th>\n",
       "      <td>3</td>\n",
       "      <td>33</td>\n",
       "      <td>333</td>\n",
       "    </tr>\n",
       "  </tbody>\n",
       "</table>\n",
       "</div>"
      ],
      "text/plain": [
       "   a   b    c\n",
       "0  1  11  111\n",
       "1  2  22  222\n",
       "2  3  33  333"
      ]
     },
     "execution_count": 42,
     "metadata": {},
     "output_type": "execute_result"
    }
   ],
   "source": [
    "d3={'a':[1,2,3],'b':[11,22,33],'c':[111,222,333]}\n",
    "df=pandas.DataFrame(d3)\n",
    "df"
   ]
  },
  {
   "cell_type": "code",
   "execution_count": 61,
   "id": "0d88441c",
   "metadata": {},
   "outputs": [
    {
     "name": "stdout",
     "output_type": "stream",
     "text": [
      "Index(['a', 'b', 'CC'], dtype='object') Int64Index([11, 22, 33], dtype='int64')\n"
     ]
    }
   ],
   "source": [
    "#get row index or columns index of dataframe\n",
    "col_x=df.columns\n",
    "row_x=df.index\n",
    "print(col_x,row_x)"
   ]
  },
  {
   "cell_type": "code",
   "execution_count": 54,
   "id": "3b5db507",
   "metadata": {},
   "outputs": [
    {
     "data": {
      "text/html": [
       "<div>\n",
       "<style scoped>\n",
       "    .dataframe tbody tr th:only-of-type {\n",
       "        vertical-align: middle;\n",
       "    }\n",
       "\n",
       "    .dataframe tbody tr th {\n",
       "        vertical-align: top;\n",
       "    }\n",
       "\n",
       "    .dataframe thead th {\n",
       "        text-align: right;\n",
       "    }\n",
       "</style>\n",
       "<table border=\"1\" class=\"dataframe\">\n",
       "  <thead>\n",
       "    <tr style=\"text-align: right;\">\n",
       "      <th></th>\n",
       "      <th>aa</th>\n",
       "      <th>bb</th>\n",
       "      <th>cc</th>\n",
       "    </tr>\n",
       "  </thead>\n",
       "  <tbody>\n",
       "    <tr>\n",
       "      <th>0</th>\n",
       "      <td>1</td>\n",
       "      <td>11</td>\n",
       "      <td>111</td>\n",
       "    </tr>\n",
       "    <tr>\n",
       "      <th>1</th>\n",
       "      <td>2</td>\n",
       "      <td>22</td>\n",
       "      <td>222</td>\n",
       "    </tr>\n",
       "    <tr>\n",
       "      <th>2</th>\n",
       "      <td>3</td>\n",
       "      <td>33</td>\n",
       "      <td>333</td>\n",
       "    </tr>\n",
       "  </tbody>\n",
       "</table>\n",
       "</div>"
      ],
      "text/plain": [
       "   aa  bb   cc\n",
       "0   1  11  111\n",
       "1   2  22  222\n",
       "2   3  33  333"
      ]
     },
     "execution_count": 54,
     "metadata": {},
     "output_type": "execute_result"
    }
   ],
   "source": [
    "#Rename columns index, number of columns should equal to original dataframe no. of columns\n",
    "# df.columns=['aa','bb','cc']\n",
    "df.columns=['aa','bb','cc']\n",
    "df"
   ]
  },
  {
   "cell_type": "code",
   "execution_count": 59,
   "id": "503fe715",
   "metadata": {},
   "outputs": [
    {
     "data": {
      "text/plain": [
       "Int64Index([11, 22, 33], dtype='int64')"
      ]
     },
     "execution_count": 59,
     "metadata": {},
     "output_type": "execute_result"
    }
   ],
   "source": [
    "#Rename row_index\n",
    "df.index=[11,22,33]"
   ]
  },
  {
   "cell_type": "code",
   "execution_count": 69,
   "id": "5edfbe8c",
   "metadata": {
    "collapsed": true
   },
   "outputs": [
    {
     "ename": "KeyError",
     "evalue": "\"None of ['a'] are in the columns\"",
     "output_type": "error",
     "traceback": [
      "\u001b[1;31m---------------------------------------------------------------------------\u001b[0m",
      "\u001b[1;31mKeyError\u001b[0m                                  Traceback (most recent call last)",
      "\u001b[1;32m<ipython-input-69-d9a698d63b0a>\u001b[0m in \u001b[0;36m<module>\u001b[1;34m\u001b[0m\n\u001b[0;32m      1\u001b[0m \u001b[1;31m#Set particular columns as index\u001b[0m\u001b[1;33m\u001b[0m\u001b[1;33m\u001b[0m\u001b[1;33m\u001b[0m\u001b[0m\n\u001b[1;32m----> 2\u001b[1;33m \u001b[0mdf\u001b[0m\u001b[1;33m.\u001b[0m\u001b[0mset_index\u001b[0m\u001b[1;33m(\u001b[0m\u001b[1;34m\"a\"\u001b[0m\u001b[1;33m,\u001b[0m\u001b[0minplace\u001b[0m\u001b[1;33m=\u001b[0m\u001b[1;32mTrue\u001b[0m\u001b[1;33m)\u001b[0m\u001b[1;33m\u001b[0m\u001b[1;33m\u001b[0m\u001b[0m\n\u001b[0m",
      "\u001b[1;32mc:\\users\\dell\\appdata\\local\\programs\\python\\python39\\lib\\site-packages\\pandas\\core\\frame.py\u001b[0m in \u001b[0;36mset_index\u001b[1;34m(self, keys, drop, append, inplace, verify_integrity)\u001b[0m\n\u001b[0;32m   4725\u001b[0m \u001b[1;33m\u001b[0m\u001b[0m\n\u001b[0;32m   4726\u001b[0m         \u001b[1;32mif\u001b[0m \u001b[0mmissing\u001b[0m\u001b[1;33m:\u001b[0m\u001b[1;33m\u001b[0m\u001b[1;33m\u001b[0m\u001b[0m\n\u001b[1;32m-> 4727\u001b[1;33m             \u001b[1;32mraise\u001b[0m \u001b[0mKeyError\u001b[0m\u001b[1;33m(\u001b[0m\u001b[1;34mf\"None of {missing} are in the columns\"\u001b[0m\u001b[1;33m)\u001b[0m\u001b[1;33m\u001b[0m\u001b[1;33m\u001b[0m\u001b[0m\n\u001b[0m\u001b[0;32m   4728\u001b[0m \u001b[1;33m\u001b[0m\u001b[0m\n\u001b[0;32m   4729\u001b[0m         \u001b[1;32mif\u001b[0m \u001b[0minplace\u001b[0m\u001b[1;33m:\u001b[0m\u001b[1;33m\u001b[0m\u001b[1;33m\u001b[0m\u001b[0m\n",
      "\u001b[1;31mKeyError\u001b[0m: \"None of ['a'] are in the columns\""
     ]
    }
   ],
   "source": [
    "#Set particular columns as index\n",
    "df.set_index(\"a\",inplace=True)\n"
   ]
  },
  {
   "cell_type": "code",
   "execution_count": 70,
   "id": "050d8c45",
   "metadata": {
    "collapsed": true
   },
   "outputs": [
    {
     "data": {
      "text/html": [
       "<div>\n",
       "<style scoped>\n",
       "    .dataframe tbody tr th:only-of-type {\n",
       "        vertical-align: middle;\n",
       "    }\n",
       "\n",
       "    .dataframe tbody tr th {\n",
       "        vertical-align: top;\n",
       "    }\n",
       "\n",
       "    .dataframe thead th {\n",
       "        text-align: right;\n",
       "    }\n",
       "</style>\n",
       "<table border=\"1\" class=\"dataframe\">\n",
       "  <thead>\n",
       "    <tr style=\"text-align: right;\">\n",
       "      <th></th>\n",
       "      <th>B</th>\n",
       "      <th>CC</th>\n",
       "    </tr>\n",
       "    <tr>\n",
       "      <th>a</th>\n",
       "      <th></th>\n",
       "      <th></th>\n",
       "    </tr>\n",
       "  </thead>\n",
       "  <tbody>\n",
       "    <tr>\n",
       "      <th>1</th>\n",
       "      <td>11</td>\n",
       "      <td>111</td>\n",
       "    </tr>\n",
       "    <tr>\n",
       "      <th>2</th>\n",
       "      <td>22</td>\n",
       "      <td>222</td>\n",
       "    </tr>\n",
       "    <tr>\n",
       "      <th>3</th>\n",
       "      <td>33</td>\n",
       "      <td>333</td>\n",
       "    </tr>\n",
       "  </tbody>\n",
       "</table>\n",
       "</div>"
      ],
      "text/plain": [
       "    B   CC\n",
       "a         \n",
       "1  11  111\n",
       "2  22  222\n",
       "3  33  333"
      ]
     },
     "execution_count": 70,
     "metadata": {},
     "output_type": "execute_result"
    }
   ],
   "source": [
    "#Set original index number\n",
    "df.reset_index()\n",
    "df"
   ]
  },
  {
   "cell_type": "code",
   "execution_count": 79,
   "id": "e20f08c5",
   "metadata": {
    "collapsed": true
   },
   "outputs": [
    {
     "data": {
      "text/html": [
       "<div>\n",
       "<style scoped>\n",
       "    .dataframe tbody tr th:only-of-type {\n",
       "        vertical-align: middle;\n",
       "    }\n",
       "\n",
       "    .dataframe tbody tr th {\n",
       "        vertical-align: top;\n",
       "    }\n",
       "\n",
       "    .dataframe thead th {\n",
       "        text-align: right;\n",
       "    }\n",
       "</style>\n",
       "<table border=\"1\" class=\"dataframe\">\n",
       "  <thead>\n",
       "    <tr style=\"text-align: right;\">\n",
       "      <th></th>\n",
       "      <th>B</th>\n",
       "      <th>CC</th>\n",
       "      <th>1</th>\n",
       "    </tr>\n",
       "    <tr>\n",
       "      <th>a</th>\n",
       "      <th></th>\n",
       "      <th></th>\n",
       "      <th></th>\n",
       "    </tr>\n",
       "  </thead>\n",
       "  <tbody>\n",
       "    <tr>\n",
       "      <th>ab</th>\n",
       "      <td>j</td>\n",
       "      <td>j</td>\n",
       "      <td>j</td>\n",
       "    </tr>\n",
       "    <tr>\n",
       "      <th>cd</th>\n",
       "      <td>22</td>\n",
       "      <td>222</td>\n",
       "      <td>j</td>\n",
       "    </tr>\n",
       "    <tr>\n",
       "      <th>3</th>\n",
       "      <td>33</td>\n",
       "      <td>333</td>\n",
       "      <td>j</td>\n",
       "    </tr>\n",
       "  </tbody>\n",
       "</table>\n",
       "</div>"
      ],
      "text/plain": [
       "     B   CC  1\n",
       "a             \n",
       "ab   j    j  j\n",
       "cd  22  222  j\n",
       "3   33  333  j"
      ]
     },
     "execution_count": 79,
     "metadata": {},
     "output_type": "execute_result"
    }
   ],
   "source": [
    "# rename particular raw index\n",
    "df.rename(index={1:'ab',2:'cd'},inplace=True)\n",
    "df"
   ]
  },
  {
   "cell_type": "code",
   "execution_count": null,
   "id": "b3ed801d",
   "metadata": {},
   "outputs": [],
   "source": [
    "# add new row to df"
   ]
  },
  {
   "cell_type": "code",
   "execution_count": 65,
   "id": "d39e059b",
   "metadata": {},
   "outputs": [
    {
     "data": {
      "text/plain": [
       "Index(['B', 'CC'], dtype='object')"
      ]
     },
     "execution_count": 65,
     "metadata": {},
     "output_type": "execute_result"
    }
   ],
   "source": [
    "#Rename all columns index name as upper case: by using list comprehension\n",
    "df.columns=[x.upper() for x in df.columns]\n",
    "df.columns"
   ]
  },
  {
   "cell_type": "code",
   "execution_count": 56,
   "id": "46ff1ffa",
   "metadata": {},
   "outputs": [
    {
     "data": {
      "text/html": [
       "<div>\n",
       "<style scoped>\n",
       "    .dataframe tbody tr th:only-of-type {\n",
       "        vertical-align: middle;\n",
       "    }\n",
       "\n",
       "    .dataframe tbody tr th {\n",
       "        vertical-align: top;\n",
       "    }\n",
       "\n",
       "    .dataframe thead th {\n",
       "        text-align: right;\n",
       "    }\n",
       "</style>\n",
       "<table border=\"1\" class=\"dataframe\">\n",
       "  <thead>\n",
       "    <tr style=\"text-align: right;\">\n",
       "      <th></th>\n",
       "      <th>a</th>\n",
       "      <th>b</th>\n",
       "      <th>CC</th>\n",
       "    </tr>\n",
       "  </thead>\n",
       "  <tbody>\n",
       "    <tr>\n",
       "      <th>0</th>\n",
       "      <td>1</td>\n",
       "      <td>11</td>\n",
       "      <td>111</td>\n",
       "    </tr>\n",
       "    <tr>\n",
       "      <th>1</th>\n",
       "      <td>2</td>\n",
       "      <td>22</td>\n",
       "      <td>222</td>\n",
       "    </tr>\n",
       "    <tr>\n",
       "      <th>2</th>\n",
       "      <td>3</td>\n",
       "      <td>33</td>\n",
       "      <td>333</td>\n",
       "    </tr>\n",
       "  </tbody>\n",
       "</table>\n",
       "</div>"
      ],
      "text/plain": [
       "   a   b   CC\n",
       "0  1  11  111\n",
       "1  2  22  222\n",
       "2  3  33  333"
      ]
     },
     "execution_count": 56,
     "metadata": {},
     "output_type": "execute_result"
    }
   ],
   "source": [
    "#Rename particular columns index name \n",
    "df.rename(columns={'AA':'a','BB':'b'},inplace=True)\n",
    "df"
   ]
  },
  {
   "cell_type": "code",
   "execution_count": 303,
   "id": "191ffe0f",
   "metadata": {
    "collapsed": true
   },
   "outputs": [
    {
     "data": {
      "text/html": [
       "<div>\n",
       "<style scoped>\n",
       "    .dataframe tbody tr th:only-of-type {\n",
       "        vertical-align: middle;\n",
       "    }\n",
       "\n",
       "    .dataframe tbody tr th {\n",
       "        vertical-align: top;\n",
       "    }\n",
       "\n",
       "    .dataframe thead th {\n",
       "        text-align: right;\n",
       "    }\n",
       "</style>\n",
       "<table border=\"1\" class=\"dataframe\">\n",
       "  <thead>\n",
       "    <tr style=\"text-align: right;\">\n",
       "      <th></th>\n",
       "      <th>a</th>\n",
       "      <th>b</th>\n",
       "      <th>c</th>\n",
       "    </tr>\n",
       "  </thead>\n",
       "  <tbody>\n",
       "    <tr>\n",
       "      <th>0</th>\n",
       "      <td>1</td>\n",
       "      <td>11</td>\n",
       "      <td>111</td>\n",
       "    </tr>\n",
       "    <tr>\n",
       "      <th>1</th>\n",
       "      <td>2</td>\n",
       "      <td>22</td>\n",
       "      <td>222</td>\n",
       "    </tr>\n",
       "    <tr>\n",
       "      <th>2</th>\n",
       "      <td>3</td>\n",
       "      <td>33</td>\n",
       "      <td>333</td>\n",
       "    </tr>\n",
       "  </tbody>\n",
       "</table>\n",
       "</div>"
      ],
      "text/plain": [
       "   a   b    c\n",
       "0  1  11  111\n",
       "1  2  22  222\n",
       "2  3  33  333"
      ]
     },
     "execution_count": 303,
     "metadata": {},
     "output_type": "execute_result"
    }
   ],
   "source": [
    "#Update and modify any data\n",
    "#first we access that data which we want to update, end assign value to it by pressing equal to\n",
    "#loc and iloc method is best for accessing the data\n"
   ]
  },
  {
   "cell_type": "code",
   "execution_count": 305,
   "id": "45aee939",
   "metadata": {},
   "outputs": [
    {
     "data": {
      "text/plain": [
       "2"
      ]
     },
     "execution_count": 305,
     "metadata": {},
     "output_type": "execute_result"
    }
   ],
   "source": [
    "df.loc[1,'a']=10\n",
    "df"
   ]
  },
  {
   "cell_type": "code",
   "execution_count": 302,
   "id": "4e6038bc",
   "metadata": {
    "collapsed": true
   },
   "outputs": [
    {
     "ename": "TypeError",
     "evalue": "'slice(None, None, None)' is an invalid key",
     "output_type": "error",
     "traceback": [
      "\u001b[1;31m---------------------------------------------------------------------------\u001b[0m",
      "\u001b[1;31mTypeError\u001b[0m                                 Traceback (most recent call last)",
      "\u001b[1;32m<ipython-input-302-a9e83301f5cf>\u001b[0m in \u001b[0;36m<module>\u001b[1;34m\u001b[0m\n\u001b[1;32m----> 1\u001b[1;33m \u001b[0mdf\u001b[0m\u001b[1;33m.\u001b[0m\u001b[0mat\u001b[0m\u001b[1;33m[\u001b[0m\u001b[1;33m:\u001b[0m\u001b[1;33m,\u001b[0m\u001b[1;34m'a'\u001b[0m\u001b[1;33m]\u001b[0m\u001b[1;33m\u001b[0m\u001b[1;33m\u001b[0m\u001b[0m\n\u001b[0m",
      "\u001b[1;32mc:\\users\\dell\\appdata\\local\\programs\\python\\python39\\lib\\site-packages\\pandas\\core\\indexing.py\u001b[0m in \u001b[0;36m__getitem__\u001b[1;34m(self, key)\u001b[0m\n\u001b[0;32m   2154\u001b[0m             \u001b[1;32mreturn\u001b[0m \u001b[0mself\u001b[0m\u001b[1;33m.\u001b[0m\u001b[0mobj\u001b[0m\u001b[1;33m.\u001b[0m\u001b[0mloc\u001b[0m\u001b[1;33m[\u001b[0m\u001b[0mkey\u001b[0m\u001b[1;33m]\u001b[0m\u001b[1;33m\u001b[0m\u001b[1;33m\u001b[0m\u001b[0m\n\u001b[0;32m   2155\u001b[0m \u001b[1;33m\u001b[0m\u001b[0m\n\u001b[1;32m-> 2156\u001b[1;33m         \u001b[1;32mreturn\u001b[0m \u001b[0msuper\u001b[0m\u001b[1;33m(\u001b[0m\u001b[1;33m)\u001b[0m\u001b[1;33m.\u001b[0m\u001b[0m__getitem__\u001b[0m\u001b[1;33m(\u001b[0m\u001b[0mkey\u001b[0m\u001b[1;33m)\u001b[0m\u001b[1;33m\u001b[0m\u001b[1;33m\u001b[0m\u001b[0m\n\u001b[0m\u001b[0;32m   2157\u001b[0m \u001b[1;33m\u001b[0m\u001b[0m\n\u001b[0;32m   2158\u001b[0m     \u001b[1;32mdef\u001b[0m \u001b[0m__setitem__\u001b[0m\u001b[1;33m(\u001b[0m\u001b[0mself\u001b[0m\u001b[1;33m,\u001b[0m \u001b[0mkey\u001b[0m\u001b[1;33m,\u001b[0m \u001b[0mvalue\u001b[0m\u001b[1;33m)\u001b[0m\u001b[1;33m:\u001b[0m\u001b[1;33m\u001b[0m\u001b[1;33m\u001b[0m\u001b[0m\n",
      "\u001b[1;32mc:\\users\\dell\\appdata\\local\\programs\\python\\python39\\lib\\site-packages\\pandas\\core\\indexing.py\u001b[0m in \u001b[0;36m__getitem__\u001b[1;34m(self, key)\u001b[0m\n\u001b[0;32m   2101\u001b[0m \u001b[1;33m\u001b[0m\u001b[0m\n\u001b[0;32m   2102\u001b[0m         \u001b[0mkey\u001b[0m \u001b[1;33m=\u001b[0m \u001b[0mself\u001b[0m\u001b[1;33m.\u001b[0m\u001b[0m_convert_key\u001b[0m\u001b[1;33m(\u001b[0m\u001b[0mkey\u001b[0m\u001b[1;33m)\u001b[0m\u001b[1;33m\u001b[0m\u001b[1;33m\u001b[0m\u001b[0m\n\u001b[1;32m-> 2103\u001b[1;33m         \u001b[1;32mreturn\u001b[0m \u001b[0mself\u001b[0m\u001b[1;33m.\u001b[0m\u001b[0mobj\u001b[0m\u001b[1;33m.\u001b[0m\u001b[0m_get_value\u001b[0m\u001b[1;33m(\u001b[0m\u001b[1;33m*\u001b[0m\u001b[0mkey\u001b[0m\u001b[1;33m,\u001b[0m \u001b[0mtakeable\u001b[0m\u001b[1;33m=\u001b[0m\u001b[0mself\u001b[0m\u001b[1;33m.\u001b[0m\u001b[0m_takeable\u001b[0m\u001b[1;33m)\u001b[0m\u001b[1;33m\u001b[0m\u001b[1;33m\u001b[0m\u001b[0m\n\u001b[0m\u001b[0;32m   2104\u001b[0m \u001b[1;33m\u001b[0m\u001b[0m\n\u001b[0;32m   2105\u001b[0m     \u001b[1;32mdef\u001b[0m \u001b[0m__setitem__\u001b[0m\u001b[1;33m(\u001b[0m\u001b[0mself\u001b[0m\u001b[1;33m,\u001b[0m \u001b[0mkey\u001b[0m\u001b[1;33m,\u001b[0m \u001b[0mvalue\u001b[0m\u001b[1;33m)\u001b[0m\u001b[1;33m:\u001b[0m\u001b[1;33m\u001b[0m\u001b[1;33m\u001b[0m\u001b[0m\n",
      "\u001b[1;32mc:\\users\\dell\\appdata\\local\\programs\\python\\python39\\lib\\site-packages\\pandas\\core\\frame.py\u001b[0m in \u001b[0;36m_get_value\u001b[1;34m(self, index, col, takeable)\u001b[0m\n\u001b[0;32m   3131\u001b[0m \u001b[1;33m\u001b[0m\u001b[0m\n\u001b[0;32m   3132\u001b[0m         \u001b[1;32mtry\u001b[0m\u001b[1;33m:\u001b[0m\u001b[1;33m\u001b[0m\u001b[1;33m\u001b[0m\u001b[0m\n\u001b[1;32m-> 3133\u001b[1;33m             \u001b[0mloc\u001b[0m \u001b[1;33m=\u001b[0m \u001b[0mengine\u001b[0m\u001b[1;33m.\u001b[0m\u001b[0mget_loc\u001b[0m\u001b[1;33m(\u001b[0m\u001b[0mindex\u001b[0m\u001b[1;33m)\u001b[0m\u001b[1;33m\u001b[0m\u001b[1;33m\u001b[0m\u001b[0m\n\u001b[0m\u001b[0;32m   3134\u001b[0m             \u001b[1;32mreturn\u001b[0m \u001b[0mseries\u001b[0m\u001b[1;33m.\u001b[0m\u001b[0m_values\u001b[0m\u001b[1;33m[\u001b[0m\u001b[0mloc\u001b[0m\u001b[1;33m]\u001b[0m\u001b[1;33m\u001b[0m\u001b[1;33m\u001b[0m\u001b[0m\n\u001b[0;32m   3135\u001b[0m         \u001b[1;32mexcept\u001b[0m \u001b[0mKeyError\u001b[0m\u001b[1;33m:\u001b[0m\u001b[1;33m\u001b[0m\u001b[1;33m\u001b[0m\u001b[0m\n",
      "\u001b[1;32mpandas\\_libs\\index.pyx\u001b[0m in \u001b[0;36mpandas._libs.index.IndexEngine.get_loc\u001b[1;34m()\u001b[0m\n",
      "\u001b[1;32mpandas\\_libs\\index.pyx\u001b[0m in \u001b[0;36mpandas._libs.index.IndexEngine.get_loc\u001b[1;34m()\u001b[0m\n",
      "\u001b[1;31mTypeError\u001b[0m: 'slice(None, None, None)' is an invalid key"
     ]
    }
   ],
   "source": [
    "df.loc[[1,2],'a']=20\n",
    "df"
   ]
  },
  {
   "cell_type": "code",
   "execution_count": 306,
   "id": "3301c7a7",
   "metadata": {
    "collapsed": true
   },
   "outputs": [
    {
     "data": {
      "text/html": [
       "<div>\n",
       "<style scoped>\n",
       "    .dataframe tbody tr th:only-of-type {\n",
       "        vertical-align: middle;\n",
       "    }\n",
       "\n",
       "    .dataframe tbody tr th {\n",
       "        vertical-align: top;\n",
       "    }\n",
       "\n",
       "    .dataframe thead th {\n",
       "        text-align: right;\n",
       "    }\n",
       "</style>\n",
       "<table border=\"1\" class=\"dataframe\">\n",
       "  <thead>\n",
       "    <tr style=\"text-align: right;\">\n",
       "      <th></th>\n",
       "      <th>a</th>\n",
       "      <th>b</th>\n",
       "      <th>c</th>\n",
       "    </tr>\n",
       "  </thead>\n",
       "  <tbody>\n",
       "    <tr>\n",
       "      <th>0</th>\n",
       "      <td>1</td>\n",
       "      <td>11</td>\n",
       "      <td>111</td>\n",
       "    </tr>\n",
       "    <tr>\n",
       "      <th>1</th>\n",
       "      <td>30</td>\n",
       "      <td>22</td>\n",
       "      <td>222</td>\n",
       "    </tr>\n",
       "    <tr>\n",
       "      <th>2</th>\n",
       "      <td>40</td>\n",
       "      <td>33</td>\n",
       "      <td>333</td>\n",
       "    </tr>\n",
       "  </tbody>\n",
       "</table>\n",
       "</div>"
      ],
      "text/plain": [
       "    a   b    c\n",
       "0   1  11  111\n",
       "1  30  22  222\n",
       "2  40  33  333"
      ]
     },
     "execution_count": 306,
     "metadata": {},
     "output_type": "execute_result"
    }
   ],
   "source": [
    "df.loc[[1,2],'a']=[30,40]\n",
    "df"
   ]
  },
  {
   "cell_type": "code",
   "execution_count": 320,
   "id": "1ceacd28",
   "metadata": {
    "collapsed": true
   },
   "outputs": [
    {
     "data": {
      "text/html": [
       "<div>\n",
       "<style scoped>\n",
       "    .dataframe tbody tr th:only-of-type {\n",
       "        vertical-align: middle;\n",
       "    }\n",
       "\n",
       "    .dataframe tbody tr th {\n",
       "        vertical-align: top;\n",
       "    }\n",
       "\n",
       "    .dataframe thead th {\n",
       "        text-align: right;\n",
       "    }\n",
       "</style>\n",
       "<table border=\"1\" class=\"dataframe\">\n",
       "  <thead>\n",
       "    <tr style=\"text-align: right;\">\n",
       "      <th></th>\n",
       "      <th>a</th>\n",
       "      <th>b</th>\n",
       "      <th>c</th>\n",
       "    </tr>\n",
       "  </thead>\n",
       "  <tbody>\n",
       "    <tr>\n",
       "      <th>0</th>\n",
       "      <td>100</td>\n",
       "      <td>2</td>\n",
       "      <td>100</td>\n",
       "    </tr>\n",
       "    <tr>\n",
       "      <th>1</th>\n",
       "      <td>2</td>\n",
       "      <td>2</td>\n",
       "      <td>500</td>\n",
       "    </tr>\n",
       "    <tr>\n",
       "      <th>2</th>\n",
       "      <td>40</td>\n",
       "      <td>33</td>\n",
       "      <td>333</td>\n",
       "    </tr>\n",
       "  </tbody>\n",
       "</table>\n",
       "</div>"
      ],
      "text/plain": [
       "     a   b    c\n",
       "0  100   2  100\n",
       "1    2   2  500\n",
       "2   40  33  333"
      ]
     },
     "execution_count": 320,
     "metadata": {},
     "output_type": "execute_result"
    }
   ],
   "source": [
    "#If you want to change data according value, it can be possible by filter\n",
    "filt=(df['a']==2)\n",
    "df.loc[filt,'c']=500\n",
    "df\n",
    "\n"
   ]
  },
  {
   "cell_type": "code",
   "execution_count": 316,
   "id": "06618968",
   "metadata": {},
   "outputs": [
    {
     "data": {
      "text/html": [
       "<div>\n",
       "<style scoped>\n",
       "    .dataframe tbody tr th:only-of-type {\n",
       "        vertical-align: middle;\n",
       "    }\n",
       "\n",
       "    .dataframe tbody tr th {\n",
       "        vertical-align: top;\n",
       "    }\n",
       "\n",
       "    .dataframe thead th {\n",
       "        text-align: right;\n",
       "    }\n",
       "</style>\n",
       "<table border=\"1\" class=\"dataframe\">\n",
       "  <thead>\n",
       "    <tr style=\"text-align: right;\">\n",
       "      <th></th>\n",
       "      <th>a</th>\n",
       "      <th>b</th>\n",
       "      <th>c</th>\n",
       "    </tr>\n",
       "  </thead>\n",
       "  <tbody>\n",
       "    <tr>\n",
       "      <th>0</th>\n",
       "      <td>100</td>\n",
       "      <td>2</td>\n",
       "      <td>100</td>\n",
       "    </tr>\n",
       "    <tr>\n",
       "      <th>1</th>\n",
       "      <td>2</td>\n",
       "      <td>2</td>\n",
       "      <td>2</td>\n",
       "    </tr>\n",
       "    <tr>\n",
       "      <th>2</th>\n",
       "      <td>40</td>\n",
       "      <td>33</td>\n",
       "      <td>333</td>\n",
       "    </tr>\n",
       "  </tbody>\n",
       "</table>\n",
       "</div>"
      ],
      "text/plain": [
       "     a   b    c\n",
       "0  100   2  100\n",
       "1    2   2    2\n",
       "2   40  33  333"
      ]
     },
     "execution_count": 316,
     "metadata": {},
     "output_type": "execute_result"
    }
   ],
   "source": [
    "df.loc[1,:]=2\n",
    "df"
   ]
  }
 ],
 "metadata": {
  "kernelspec": {
   "display_name": "Python 3",
   "language": "python",
   "name": "python3"
  },
  "language_info": {
   "codemirror_mode": {
    "name": "ipython",
    "version": 3
   },
   "file_extension": ".py",
   "mimetype": "text/x-python",
   "name": "python",
   "nbconvert_exporter": "python",
   "pygments_lexer": "ipython3",
   "version": "3.9.4"
  }
 },
 "nbformat": 4,
 "nbformat_minor": 5
}

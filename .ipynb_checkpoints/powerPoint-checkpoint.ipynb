{
 "cells": [
  {
   "cell_type": "code",
   "execution_count": 1,
   "id": "ac4fc545",
   "metadata": {
    "collapsed": true
   },
   "outputs": [],
   "source": [
    "import win32com.client\n",
    "\n",
    "powerpoint_object = win32com.client.Dispatch(\"Powerpoint.Application\")\n",
    "powerpoint_object.visible = True\n",
    "powerpoint_presentation = powerpoint_object.Presentations.Open(\"example_powerpoint.pptx\")\n",
    "\n",
    "\n",
    "excel_object = win32com.client.Dispatch(\"Excel.Application\")\n",
    "excel_object.visible = True\n",
    "excel_workbook = excel_object.Workbooks.Open(Filename=\"example_excel.xlsx\")\n",
    "excel_worksheet = excel_workbook.Worksheets(\"Sheet1\")\n",
    "excel_range = excel_worksheet.Range(\"A1:L100\")\n",
    "excel_range.Copy()\n",
    "\n",
    "powerpoint_slide = powerpoint_presentation.Slides.Add(1,12)\n",
    "powerpoint_slide.Shapes().Paste()"
   ]
  },
  {
   "cell_type": "code",
   "execution_count": null,
   "id": "c191b993",
   "metadata": {},
   "outputs": [],
   "source": [
    "# VBA Code\n",
    "Option Explicit\n",
    "\n",
    "Sub checkName()\n",
    "    Dim ppApp As PowerPoint.Application\n",
    "    Dim pp As PowerPoint.Presentation\n",
    "    Dim pptSlide As PowerPoint.Slide\n",
    "    Dim pptShape As PowerPoint.Shape\n",
    "    Dim a As Object\n",
    "    Dim exlRange As Range\n",
    "    Dim shapePaste As PowerPoint.ShapeRange\n",
    "    \n",
    "    Set ppApp = CreateObject(\"PowerPoint.Application\")\n",
    "    ppApp.Visible = True\n",
    "    Set pp = ppApp.Presentations.Open(\"C:\\Users\\DELL\\Desktop\\Test1.pptx\")\n",
    "    Set pptSlide = pp.Slides(1)\n",
    "    Set pptShape = pptSlide.Shapes(1)\n",
    "    Debug.Print (pptShape.Name)\n",
    "    \n",
    "    Set exlRange = Range(\"A1:C10\")\n",
    "    exlRange.Copy\n",
    "    Set shapePaste = pptSlide.Shapes.PasteSpecial(ppPasteBitmap)\n",
    "    Debug.Print shapePaste.Name\n",
    "'    ppApp.Activate\n",
    "'    Set a = ActiveWindow.Selection\n",
    "\n",
    "    Debug.Print \"Work\"\n",
    "    \n",
    "    \n",
    "End Sub\n"
   ]
  },
  {
   "cell_type": "code",
   "execution_count": 22,
   "id": "683300e3",
   "metadata": {},
   "outputs": [],
   "source": [
    "import win32com.client"
   ]
  },
  {
   "cell_type": "code",
   "execution_count": 23,
   "id": "35e6f589",
   "metadata": {},
   "outputs": [
    {
     "name": "stdout",
     "output_type": "stream",
     "text": [
      "Rectangle 1\n"
     ]
    }
   ],
   "source": [
    "ppApp=win32com.client.Dispatch(\"Powerpoint.Application\")\n",
    "ppApp.visible=True\n",
    "pp=ppApp.Presentations.Open(r\"C:\\Users\\DELL\\Desktop\\Test1.pptx\")\n",
    "ppS_1=pp.Slides(1)\n",
    "ppSh_1=ppS_1.Shapes(1)\n",
    "print(ppSh_1.Name)"
   ]
  },
  {
   "cell_type": "code",
   "execution_count": 24,
   "id": "eb5661f7",
   "metadata": {},
   "outputs": [
    {
     "name": "stdout",
     "output_type": "stream",
     "text": [
      "Table 2\n"
     ]
    }
   ],
   "source": [
    "excel_object = win32com.client.Dispatch(\"Excel.Application\")\n",
    "# excel_object.visible = True\n",
    "excel_workbook = excel_object.Workbooks.Open(r\"C:\\Users\\DELL\\Desktop\\New Microsoft Excel Worksheet.xlsx\")\n",
    "excel_worksheet = excel_workbook.Worksheets(\"Sheet1\")\n",
    "excel_range = excel_worksheet.Range(\"A1:b10\")\n",
    "excel_range.Copy()\n",
    "pastedShape=ppS_1.Shapes.Paste()\n",
    "print(pastedShape.Name)"
   ]
  },
  {
   "cell_type": "code",
   "execution_count": 25,
   "id": "bc7b2061",
   "metadata": {},
   "outputs": [],
   "source": [
    "pastedShape.Name=\"Abhilash Shape\""
   ]
  },
  {
   "cell_type": "code",
   "execution_count": 26,
   "id": "4a3e5b29",
   "metadata": {},
   "outputs": [
    {
     "data": {
      "text/plain": [
       "'Abhilash Shape'"
      ]
     },
     "execution_count": 26,
     "metadata": {},
     "output_type": "execute_result"
    }
   ],
   "source": [
    "pastedShape.Name"
   ]
  },
  {
   "cell_type": "code",
   "execution_count": 16,
   "id": "5e5b7e38",
   "metadata": {
    "collapsed": true
   },
   "outputs": [
    {
     "data": {
      "text/plain": [
       "['_ApplyTypes_',\n",
       " '_FlagAsMethod',\n",
       " '_LazyAddAttr_',\n",
       " '_NewEnum',\n",
       " '_Release_',\n",
       " '__AttrToID__',\n",
       " '__LazyMap__',\n",
       " '__bool__',\n",
       " '__call__',\n",
       " '__class__',\n",
       " '__delattr__',\n",
       " '__dict__',\n",
       " '__dir__',\n",
       " '__doc__',\n",
       " '__eq__',\n",
       " '__format__',\n",
       " '__ge__',\n",
       " '__getattr__',\n",
       " '__getattribute__',\n",
       " '__getitem__',\n",
       " '__gt__',\n",
       " '__hash__',\n",
       " '__init__',\n",
       " '__init_subclass__',\n",
       " '__int__',\n",
       " '__le__',\n",
       " '__len__',\n",
       " '__lt__',\n",
       " '__module__',\n",
       " '__ne__',\n",
       " '__new__',\n",
       " '__reduce__',\n",
       " '__reduce_ex__',\n",
       " '__repr__',\n",
       " '__setattr__',\n",
       " '__setitem__',\n",
       " '__sizeof__',\n",
       " '__str__',\n",
       " '__subclasshook__',\n",
       " '__weakref__',\n",
       " '_builtMethods_',\n",
       " '_enum_',\n",
       " '_find_dispatch_type_',\n",
       " '_get_good_object_',\n",
       " '_get_good_single_object_',\n",
       " '_lazydata_',\n",
       " '_make_method_',\n",
       " '_mapCachedItems_',\n",
       " '_oleobj_',\n",
       " '_olerepr_',\n",
       " '_print_details_',\n",
       " '_proc_',\n",
       " '_unicode_to_string_',\n",
       " '_username_',\n",
       " '_wrap_dispatch_']"
      ]
     },
     "execution_count": 16,
     "metadata": {},
     "output_type": "execute_result"
    }
   ],
   "source": [
    "Sub EditPowerPointLinks()\n",
    "Dim ppApp As New PowerPoint.Application\n",
    "Dim oldFilePath As String\n",
    "Dim newFilePath As String\n",
    "Dim pptPresentation As PowerPoint.Presentation\n",
    "Dim pptSlide As PowerPoint.Slide\n",
    "Dim pptShape As PowerPoint.Shape\n",
    "\n",
    "oldFilePath = getFileNameWithEx(ThisWorkbook.Worksheets(\"Sheet1\").Range(\"C4\"))\n",
    "newFilePath = getFileNameWithEx(ThisWorkbook.Worksheets(\"Sheet1\").Range(\"C5\"))\n",
    "ppFilePath = ThisWorkbook.Worksheets(\"Sheet1\").Range(\"C3\")\n",
    "Set pptPresentation = ppApp.Presentations.Open(ppFilePath)\n",
    "For Each pptSlide In pptPresentation.Slides\n",
    "    For Each pptShape In pptSlide.Shapes\n",
    "        If pptShape.Type = msoLinkedPicture Or pptShape.Type = msoLinkedOLEObject Or pptShape.Type = msoLinkedChart Then\n",
    "            sourceFile = pptShape.LinkFormat.SourceFullName\n",
    "            newSource = Replace(sourceFile, oldFilePath, newFilePath)\n",
    "            On Error Resume Next\n",
    "                pptShape.LinkFormat.SourceFullName = newSource\n",
    "            On Error GoTo 0\n",
    "        End If\n",
    "    Next\n",
    "Next\n",
    "pptPresentation.updateLinks\n",
    "End Sub\n",
    "Function getFileNameWithEx(Filepath As String) As String\n",
    "    Dim fso As New Scripting.FileSystemObject\n",
    "    Dim fileName As Variant\n",
    "    \n",
    "    fileName = fso.getFileName(Filepath)\n",
    "    getFileNameWithEx = fileName\n",
    "    \n",
    "    Set fileName = Nothing\n",
    "    Set fso = Nothing\n",
    "End Function\n"
   ]
  },
  {
   "cell_type": "code",
   "execution_count": 97,
   "id": "48f8492d",
   "metadata": {},
   "outputs": [
    {
     "name": "stdout",
     "output_type": "stream",
     "text": [
      "C:\\Users\\DELL\\OneDrive\\Documents\\Test1.xlsx!Sheet1!R1C1\n",
      "C:\\Users\\DELL\\Desktop\\Test2.xlsx!Sheet1!R1C1\n",
      "C:\\Users\\DELL\\OneDrive\\Documents\\Test1.xlsx!Sheet1![Test1.xlsx]Sheet1 Chart 1\n",
      "C:\\Users\\DELL\\Desktop\\Test2.xlsx!Sheet1![Test2.xlsx]Sheet1 Chart 1\n",
      "d\n"
     ]
    }
   ],
   "source": [
    "import win32com.client\n",
    "import os\n",
    "ppFilePath=r\"C:\\Users\\DELL\\Desktop\\Test1.pptx\"\n",
    "newFilePath=r\"C:\\Users\\DELL\\Desktop\\Test2.xlsx\"\n",
    "\n",
    "ppApp = win32com.client.Dispatch(\"Powerpoint.Application\")\n",
    "ppApp.visible=True\n",
    "pres=ppApp.Presentations.Open(ppFilePath)\n",
    "try:\n",
    "    for pptSlide in pres.Slides:\n",
    "        for pptShape in pptSlide.Shapes:\n",
    "    #         print(pptShape.Type)\n",
    "            if pptShape.Type == 10:\n",
    "                sourceFile = pptShape.LinkFormat.SourceFullName\n",
    "                fileNameOfSourceFile=sourceFile[:sourceFile.find(\"!\")]\n",
    "                basenameSourceFile=os.path.basename(fileNameOfSourceFile)\n",
    "                basenameOfnewfile=os.path.basename(newFilePath)\n",
    "                newsourceFile1=sourceFile.replace(basenameSourceFile,basenameOfnewfile)\n",
    "                \n",
    "                fileNameOfSourceFile=newsourceFile1[:newsourceFile1.find(\"!\")]\n",
    "                newsourceFile=newsourceFile1.replace(fileNameOfSourceFile,newFilePath)\n",
    "                \n",
    "                print(sourceFile)\n",
    "                print(newsourceFile)\n",
    "                pptShape.LinkFormat.SourceFullName = newsourceFile\n",
    "\n",
    "\n",
    "except:\n",
    "    pass\n",
    "print('d')        \n",
    "\n"
   ]
  },
  {
   "cell_type": "code",
   "execution_count": 48,
   "id": "3f1d47d1",
   "metadata": {},
   "outputs": [],
   "source": [
    "pres.Save()\n"
   ]
  },
  {
   "cell_type": "code",
   "execution_count": 49,
   "id": "b0aa2fd0",
   "metadata": {},
   "outputs": [],
   "source": [
    "pres.Close()\n"
   ]
  },
  {
   "cell_type": "code",
   "execution_count": 51,
   "id": "2dbbda77",
   "metadata": {},
   "outputs": [],
   "source": [
    "ppApp.Quit()\n"
   ]
  },
  {
   "cell_type": "code",
   "execution_count": 52,
   "id": "5acbca54",
   "metadata": {},
   "outputs": [],
   "source": [
    "pres=None\n",
    "ppApp=None"
   ]
  },
  {
   "cell_type": "code",
   "execution_count": 43,
   "id": "de11f8c4",
   "metadata": {},
   "outputs": [
    {
     "ename": "AttributeError",
     "evalue": "'NoneType' object has no attribute 'visible'",
     "output_type": "error",
     "traceback": [
      "\u001b[1;31m---------------------------------------------------------------------------\u001b[0m",
      "\u001b[1;31mAttributeError\u001b[0m                            Traceback (most recent call last)",
      "\u001b[1;32m<ipython-input-43-e5053920ad9c>\u001b[0m in \u001b[0;36m<module>\u001b[1;34m\u001b[0m\n\u001b[1;32m----> 1\u001b[1;33m \u001b[0mppApp\u001b[0m\u001b[1;33m.\u001b[0m\u001b[0mvisible\u001b[0m\u001b[1;33m=\u001b[0m\u001b[1;32mFalse\u001b[0m\u001b[1;33m\u001b[0m\u001b[1;33m\u001b[0m\u001b[0m\n\u001b[0m",
      "\u001b[1;31mAttributeError\u001b[0m: 'NoneType' object has no attribute 'visible'"
     ]
    }
   ],
   "source": []
  },
  {
   "cell_type": "code",
   "execution_count": 15,
   "id": "9efcb631",
   "metadata": {},
   "outputs": [
    {
     "data": {
      "text/plain": [
       "'C:\\\\Users\\\\DELL\\\\Desktop\\\\Test1.xlsx'"
      ]
     },
     "execution_count": 15,
     "metadata": {},
     "output_type": "execute_result"
    }
   ],
   "source": [
    "# newFilePath=r\"C:\\Users\\DELL\\Desktop\\Test1.xlsx\"\n",
    "# import os\n",
    "# file1=os.path.basename(newFilePath)\n",
    "# file1\n",
    "# x = txt.replace(\"bananas\", \"apples\")\n",
    "s=r\"C:\\Users\\DELL\\Desktop\\Test1.xlsx!Sheet1!R1C1\"\n",
    "s.find(\"!\")\n",
    "s[:s.find(\"!\")]"
   ]
  }
 ],
 "metadata": {
  "kernelspec": {
   "display_name": "Python 3",
   "language": "python",
   "name": "python3"
  },
  "language_info": {
   "codemirror_mode": {
    "name": "ipython",
    "version": 3
   },
   "file_extension": ".py",
   "mimetype": "text/x-python",
   "name": "python",
   "nbconvert_exporter": "python",
   "pygments_lexer": "ipython3",
   "version": "3.9.4"
  }
 },
 "nbformat": 4,
 "nbformat_minor": 5
}

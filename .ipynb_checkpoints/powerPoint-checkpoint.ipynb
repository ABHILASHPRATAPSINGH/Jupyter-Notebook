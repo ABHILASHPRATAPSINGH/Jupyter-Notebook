{
 "cells": [
  {
   "cell_type": "code",
   "execution_count": 1,
   "id": "ac4fc545",
   "metadata": {},
   "outputs": [],
   "source": [
    "import win32com.client\n",
    "\n",
    "powerpoint_object = win32com.client.Dispatch(\"Powerpoint.Application\")\n",
    "powerpoint_object.visible = True\n",
    "powerpoint_presentation = powerpoint_object.Presentations.Open(\"example_powerpoint.pptx\")\n",
    "\n",
    "\n",
    "excel_object = win32com.client.Dispatch(\"Excel.Application\")\n",
    "excel_object.visible = True\n",
    "excel_workbook = excel_object.Workbooks.Open(Filename=\"example_excel.xlsx\")\n",
    "excel_worksheet = excel_workbook.Worksheets(\"Sheet1\")\n",
    "excel_range = excel_worksheet.Range(\"A1:L100\")\n",
    "excel_range.Copy()\n",
    "\n",
    "powerpoint_slide = powerpoint_presentation.Slides.Add(1,12)\n",
    "powerpoint_slide.Shapes().Paste()"
   ]
  },
  {
   "cell_type": "code",
   "execution_count": null,
   "id": "c191b993",
   "metadata": {},
   "outputs": [],
   "source": [
    "# VBA Code\n",
    "Option Explicit\n",
    "\n",
    "Sub checkName()\n",
    "    Dim ppApp As PowerPoint.Application\n",
    "    Dim pp As PowerPoint.Presentation\n",
    "    Dim pptSlide As PowerPoint.Slide\n",
    "    Dim pptShape As PowerPoint.Shape\n",
    "    Dim a As Object\n",
    "    Dim exlRange As Range\n",
    "    Dim shapePaste As PowerPoint.ShapeRange\n",
    "    \n",
    "    Set ppApp = CreateObject(\"PowerPoint.Application\")\n",
    "    ppApp.Visible = True\n",
    "    Set pp = ppApp.Presentations.Open(\"C:\\Users\\DELL\\Desktop\\Test1.pptx\")\n",
    "    Set pptSlide = pp.Slides(1)\n",
    "    Set pptShape = pptSlide.Shapes(1)\n",
    "    Debug.Print (pptShape.Name)\n",
    "    \n",
    "    Set exlRange = Range(\"A1:C10\")\n",
    "    exlRange.Copy\n",
    "    Set shapePaste = pptSlide.Shapes.PasteSpecial(ppPasteBitmap)\n",
    "    Debug.Print shapePaste.Name\n",
    "'    ppApp.Activate\n",
    "'    Set a = ActiveWindow.Selection\n",
    "\n",
    "    Debug.Print \"Work\"\n",
    "    \n",
    "    \n",
    "End Sub\n"
   ]
  },
  {
   "cell_type": "code",
   "execution_count": 22,
   "id": "683300e3",
   "metadata": {},
   "outputs": [],
   "source": [
    "import win32com.client"
   ]
  },
  {
   "cell_type": "code",
   "execution_count": 23,
   "id": "35e6f589",
   "metadata": {},
   "outputs": [
    {
     "name": "stdout",
     "output_type": "stream",
     "text": [
      "Rectangle 1\n"
     ]
    }
   ],
   "source": [
    "ppApp=win32com.client.Dispatch(\"Powerpoint.Application\")\n",
    "ppApp.visible=True\n",
    "pp=ppApp.Presentations.Open(r\"C:\\Users\\DELL\\Desktop\\Test1.pptx\")\n",
    "ppS_1=pp.Slides(1)\n",
    "ppSh_1=ppS_1.Shapes(1)\n",
    "print(ppSh_1.Name)"
   ]
  },
  {
   "cell_type": "code",
   "execution_count": 24,
   "id": "eb5661f7",
   "metadata": {},
   "outputs": [
    {
     "name": "stdout",
     "output_type": "stream",
     "text": [
      "Table 2\n"
     ]
    }
   ],
   "source": [
    "excel_object = win32com.client.Dispatch(\"Excel.Application\")\n",
    "# excel_object.visible = True\n",
    "excel_workbook = excel_object.Workbooks.Open(r\"C:\\Users\\DELL\\Desktop\\New Microsoft Excel Worksheet.xlsx\")\n",
    "excel_worksheet = excel_workbook.Worksheets(\"Sheet1\")\n",
    "excel_range = excel_worksheet.Range(\"A1:b10\")\n",
    "excel_range.Copy()\n",
    "pastedShape=ppS_1.Shapes.Paste()\n",
    "print(pastedShape.Name)"
   ]
  },
  {
   "cell_type": "code",
   "execution_count": 25,
   "id": "bc7b2061",
   "metadata": {},
   "outputs": [],
   "source": [
    "pastedShape.Name=\"Abhilash Shape\""
   ]
  },
  {
   "cell_type": "code",
   "execution_count": 26,
   "id": "4a3e5b29",
   "metadata": {},
   "outputs": [
    {
     "data": {
      "text/plain": [
       "'Abhilash Shape'"
      ]
     },
     "execution_count": 26,
     "metadata": {},
     "output_type": "execute_result"
    }
   ],
   "source": [
    "pastedShape.Name"
   ]
  },
  {
   "cell_type": "code",
   "execution_count": 16,
   "id": "5e5b7e38",
   "metadata": {},
   "outputs": [
    {
     "data": {
      "text/plain": [
       "['_ApplyTypes_',\n",
       " '_FlagAsMethod',\n",
       " '_LazyAddAttr_',\n",
       " '_NewEnum',\n",
       " '_Release_',\n",
       " '__AttrToID__',\n",
       " '__LazyMap__',\n",
       " '__bool__',\n",
       " '__call__',\n",
       " '__class__',\n",
       " '__delattr__',\n",
       " '__dict__',\n",
       " '__dir__',\n",
       " '__doc__',\n",
       " '__eq__',\n",
       " '__format__',\n",
       " '__ge__',\n",
       " '__getattr__',\n",
       " '__getattribute__',\n",
       " '__getitem__',\n",
       " '__gt__',\n",
       " '__hash__',\n",
       " '__init__',\n",
       " '__init_subclass__',\n",
       " '__int__',\n",
       " '__le__',\n",
       " '__len__',\n",
       " '__lt__',\n",
       " '__module__',\n",
       " '__ne__',\n",
       " '__new__',\n",
       " '__reduce__',\n",
       " '__reduce_ex__',\n",
       " '__repr__',\n",
       " '__setattr__',\n",
       " '__setitem__',\n",
       " '__sizeof__',\n",
       " '__str__',\n",
       " '__subclasshook__',\n",
       " '__weakref__',\n",
       " '_builtMethods_',\n",
       " '_enum_',\n",
       " '_find_dispatch_type_',\n",
       " '_get_good_object_',\n",
       " '_get_good_single_object_',\n",
       " '_lazydata_',\n",
       " '_make_method_',\n",
       " '_mapCachedItems_',\n",
       " '_oleobj_',\n",
       " '_olerepr_',\n",
       " '_print_details_',\n",
       " '_proc_',\n",
       " '_unicode_to_string_',\n",
       " '_username_',\n",
       " '_wrap_dispatch_']"
      ]
     },
     "execution_count": 16,
     "metadata": {},
     "output_type": "execute_result"
    }
   ],
   "source": [
    "dir(ppS_1)"
   ]
  }
 ],
 "metadata": {
  "kernelspec": {
   "display_name": "Python 3",
   "language": "python",
   "name": "python3"
  },
  "language_info": {
   "codemirror_mode": {
    "name": "ipython",
    "version": 3
   },
   "file_extension": ".py",
   "mimetype": "text/x-python",
   "name": "python",
   "nbconvert_exporter": "python",
   "pygments_lexer": "ipython3",
   "version": "3.9.4"
  }
 },
 "nbformat": 4,
 "nbformat_minor": 5
}

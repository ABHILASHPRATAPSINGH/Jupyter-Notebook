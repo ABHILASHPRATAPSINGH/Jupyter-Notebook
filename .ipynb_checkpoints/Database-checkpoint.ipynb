{
 "cells": [
  {
   "cell_type": "markdown",
   "id": "b8035d49",
   "metadata": {},
   "source": [
    "# DATABASE (SQL server)"
   ]
  },
  {
   "cell_type": "markdown",
   "id": "e22fd665",
   "metadata": {},
   "source": [
    "### Important step to work on any database\n",
    "***\n"
   ]
  },
  {
   "cell_type": "code",
   "execution_count": null,
   "id": "24af62d4",
   "metadata": {},
   "outputs": [],
   "source": [
    "# step-1) first we need to install module \n",
    "# step-2) we have to make connection with database. (for doing this so, (.connect) is a method)\n",
    "# step-3) to communecate with data in database , we have to make special object that name is cursor, so cursor is resposible for to excute our query. it has many methods\n",
    "# step-4) after doing opertion in database we make sure to close cursor object and close connection with database"
   ]
  },
  {
   "cell_type": "code",
   "execution_count": 2,
   "id": "44464508",
   "metadata": {
    "collapsed": true
   },
   "outputs": [
    {
     "name": "stdout",
     "output_type": "stream",
     "text": [
      "Collecting pyodbc\n",
      "  Downloading pyodbc-4.0.30-cp39-cp39-win_amd64.whl (67 kB)\n",
      "Installing collected packages: pyodbc\n",
      "Successfully installed pyodbc-4.0.30\n"
     ]
    },
    {
     "name": "stderr",
     "output_type": "stream",
     "text": [
      "WARNING: You are using pip version 20.2.3; however, version 21.1.1 is available.\n",
      "You should consider upgrading via the 'c:\\users\\dell\\appdata\\local\\programs\\python\\python39\\python.exe -m pip install --upgrade pip' command.\n"
     ]
    }
   ],
   "source": [
    "!pip install pyodbc"
   ]
  },
  {
   "cell_type": "code",
   "execution_count": 3,
   "id": "3bc97302",
   "metadata": {},
   "outputs": [],
   "source": [
    "# for Database like oracle, sql server, mysql pyodbc is a best library\n",
    "import pyodbc"
   ]
  },
  {
   "cell_type": "code",
   "execution_count": null,
   "id": "b938c514",
   "metadata": {},
   "outputs": [],
   "source": [
    "# How to make connection with database\n",
    "# step-1:-we have to pass sql driver in {} bracket\n",
    "        # pyodbc contains many driver\n",
    "        # to check all driver of in pyodbc libary (pyodbc.drivers() is a method)\n",
    "#step-2:- we have to pass server name, in order to get our server name ----> open ssms->copy server name(top in small window)\n",
    "#step-3:- now we have to pass database name\n",
    "#step-4:- in Tursted_connection we have to pass 'yes'\n",
    "#step-5:- all above thing will pass in string sprated by (;)\n",
    "#example:-'Driver={SQL Server};Server=DESKTOP-2CDQJ66\\SQLEXPRESS;Database=Stock_Market_K;Trusted_Connection=yes;'"
   ]
  },
  {
   "cell_type": "code",
   "execution_count": 47,
   "id": "55ed9b93",
   "metadata": {},
   "outputs": [
    {
     "name": "stdout",
     "output_type": "stream",
     "text": [
      "close\n"
     ]
    }
   ],
   "source": [
    "connection_string='Driver={SQL Server};Server=DESKTOP-2CDQJ66\\SQLEXPRESS;Database=Stock_Market_K;Trusted_Connection=yes;'\n",
    "# insertQuery=\"insert into [Share Details] values ('%s','%s',%d)\"\n",
    "# insertQuery=\"insert into [Share Details] values ('{}','{}',{})\"\n",
    "# deleteQuery=\"Delete from [Share Details] where [Share name]='dddds'\"\n",
    "updateQuery=\"UPDATE [Share Details] set [Market cap]=15000 where [Share name]='TCS'\"\n",
    "try:\n",
    "    con=pyodbc.connect(connection_string)\n",
    "    cursor=con.cursor()\n",
    "#     cursor.execute(insertQuery %('wipro','IT',1600))\n",
    "#     cursor.execute(insertQuery.format('dddds','daT',1600))\n",
    "#     cursor.execute(deleteQuery)\n",
    "    cursor.execute(updateQuery)\n",
    "    cursor.commit()\n",
    "# except ProgrammingError:\n",
    "#     print(\"sql m error aa gyi\")\n",
    "finally:\n",
    "    cursor.close()\n",
    "    con.close()\n",
    "    print('close')\n",
    "\n"
   ]
  },
  {
   "cell_type": "code",
   "execution_count": 88,
   "id": "bcc7bbcb",
   "metadata": {},
   "outputs": [],
   "source": [
    "    "
   ]
  },
  {
   "cell_type": "code",
   "execution_count": 89,
   "id": "a1663a22",
   "metadata": {},
   "outputs": [
    {
     "data": {
      "text/plain": [
       "<__main__.Student at 0x1cc298e0670>"
      ]
     },
     "execution_count": 89,
     "metadata": {},
     "output_type": "execute_result"
    }
   ],
   "source": []
  },
  {
   "cell_type": "code",
   "execution_count": 83,
   "id": "d1264f0d",
   "metadata": {},
   "outputs": [
    {
     "name": "stdout",
     "output_type": "stream",
     "text": [
      "[('Aarti Drugs', 'Aarti Drugs', 714), ('Angel Broking', 'Angel Broking', 426), ('Anik Industries', 'Anik Industries', 11), ('Beardsell', 'Beardsell', 12), ('Coforge', 'Coforge', 2892), ('Dr Lal Pathlabs', 'Dr Lal Pathlabs', 2836), ('Emmbi Industries', 'Emmbi Industries', 86), ('Essar Shipping', 'Essar Shipping', 9), ('Geekay Wires', 'Geekay Wires', 85), ('GTL', 'GTL', 6), ('HCL', 'IT', 600), ('Indraprastha Medical', 'Indraprastha Medical', 83), ('ITC', 'FMCG', 10000), ('Mastek', 'Mastek', 1619), ('Panache Digilife', 'Panache Digilife', 57), ('R Systems Intl.', 'R Systems Intl.', 125), ('SBIN', 'Bank', 20000), ('Shreyas Shipping', 'Shreyas Shipping', 97), ('Subex', 'Subex', 53), ('Tainwala Chem&Plast.', 'Tainwala Chem&Plast.', 66), ('TCS', 'IT', 15000), ('Tokyo Plast Intl.', 'Tokyo Plast Intl.', 70), ('Vaswani Industries', 'Vaswani Industries', 12), ('wipro', 'IT', 2000)]\n",
      "close\n"
     ]
    }
   ],
   "source": [
    "connection_string='Driver={SQL Server};Server=DESKTOP-2CDQJ66\\SQLEXPRESS;Database=Stock_Market_K;Trusted_Connection=yes;'\n",
    "query=\"Select * from [Share Details]\"\n",
    "try:\n",
    "    con=pyodbc.connect(connection_string)\n",
    "    cursor=con.cursor()\n",
    "    cursor.execute(query)\n",
    "#     df=cursor.fetchone()\n",
    "#     df=cursor.fetchmany(3)\n",
    "    df=cursor.fetchall()\n",
    "    print(df)\n",
    "    \n",
    "finally:\n",
    "    cursor.close()\n",
    "    con.close()\n",
    "    print('close')\n",
    "\n"
   ]
  },
  {
   "cell_type": "code",
   "execution_count": 86,
   "id": "94f30485",
   "metadata": {
    "collapsed": true
   },
   "outputs": [
    {
     "data": {
      "text/html": [
       "<div>\n",
       "<style scoped>\n",
       "    .dataframe tbody tr th:only-of-type {\n",
       "        vertical-align: middle;\n",
       "    }\n",
       "\n",
       "    .dataframe tbody tr th {\n",
       "        vertical-align: top;\n",
       "    }\n",
       "\n",
       "    .dataframe thead th {\n",
       "        text-align: right;\n",
       "    }\n",
       "</style>\n",
       "<table border=\"1\" class=\"dataframe\">\n",
       "  <thead>\n",
       "    <tr style=\"text-align: right;\">\n",
       "      <th></th>\n",
       "      <th>0</th>\n",
       "      <th>1</th>\n",
       "      <th>2</th>\n",
       "    </tr>\n",
       "  </thead>\n",
       "  <tbody>\n",
       "    <tr>\n",
       "      <th>0</th>\n",
       "      <td>Aarti Drugs</td>\n",
       "      <td>Aarti Drugs</td>\n",
       "      <td>714</td>\n",
       "    </tr>\n",
       "    <tr>\n",
       "      <th>1</th>\n",
       "      <td>Angel Broking</td>\n",
       "      <td>Angel Broking</td>\n",
       "      <td>426</td>\n",
       "    </tr>\n",
       "    <tr>\n",
       "      <th>2</th>\n",
       "      <td>Anik Industries</td>\n",
       "      <td>Anik Industries</td>\n",
       "      <td>11</td>\n",
       "    </tr>\n",
       "    <tr>\n",
       "      <th>3</th>\n",
       "      <td>Beardsell</td>\n",
       "      <td>Beardsell</td>\n",
       "      <td>12</td>\n",
       "    </tr>\n",
       "    <tr>\n",
       "      <th>4</th>\n",
       "      <td>Coforge</td>\n",
       "      <td>Coforge</td>\n",
       "      <td>2892</td>\n",
       "    </tr>\n",
       "    <tr>\n",
       "      <th>5</th>\n",
       "      <td>Dr Lal Pathlabs</td>\n",
       "      <td>Dr Lal Pathlabs</td>\n",
       "      <td>2836</td>\n",
       "    </tr>\n",
       "    <tr>\n",
       "      <th>6</th>\n",
       "      <td>Emmbi Industries</td>\n",
       "      <td>Emmbi Industries</td>\n",
       "      <td>86</td>\n",
       "    </tr>\n",
       "    <tr>\n",
       "      <th>7</th>\n",
       "      <td>Essar Shipping</td>\n",
       "      <td>Essar Shipping</td>\n",
       "      <td>9</td>\n",
       "    </tr>\n",
       "    <tr>\n",
       "      <th>8</th>\n",
       "      <td>Geekay Wires</td>\n",
       "      <td>Geekay Wires</td>\n",
       "      <td>85</td>\n",
       "    </tr>\n",
       "    <tr>\n",
       "      <th>9</th>\n",
       "      <td>GTL</td>\n",
       "      <td>GTL</td>\n",
       "      <td>6</td>\n",
       "    </tr>\n",
       "    <tr>\n",
       "      <th>10</th>\n",
       "      <td>HCL</td>\n",
       "      <td>IT</td>\n",
       "      <td>600</td>\n",
       "    </tr>\n",
       "    <tr>\n",
       "      <th>11</th>\n",
       "      <td>Indraprastha Medical</td>\n",
       "      <td>Indraprastha Medical</td>\n",
       "      <td>83</td>\n",
       "    </tr>\n",
       "    <tr>\n",
       "      <th>12</th>\n",
       "      <td>ITC</td>\n",
       "      <td>FMCG</td>\n",
       "      <td>10000</td>\n",
       "    </tr>\n",
       "    <tr>\n",
       "      <th>13</th>\n",
       "      <td>Mastek</td>\n",
       "      <td>Mastek</td>\n",
       "      <td>1619</td>\n",
       "    </tr>\n",
       "    <tr>\n",
       "      <th>14</th>\n",
       "      <td>Panache Digilife</td>\n",
       "      <td>Panache Digilife</td>\n",
       "      <td>57</td>\n",
       "    </tr>\n",
       "    <tr>\n",
       "      <th>15</th>\n",
       "      <td>R Systems Intl.</td>\n",
       "      <td>R Systems Intl.</td>\n",
       "      <td>125</td>\n",
       "    </tr>\n",
       "    <tr>\n",
       "      <th>16</th>\n",
       "      <td>SBIN</td>\n",
       "      <td>Bank</td>\n",
       "      <td>20000</td>\n",
       "    </tr>\n",
       "    <tr>\n",
       "      <th>17</th>\n",
       "      <td>Shreyas Shipping</td>\n",
       "      <td>Shreyas Shipping</td>\n",
       "      <td>97</td>\n",
       "    </tr>\n",
       "    <tr>\n",
       "      <th>18</th>\n",
       "      <td>Subex</td>\n",
       "      <td>Subex</td>\n",
       "      <td>53</td>\n",
       "    </tr>\n",
       "    <tr>\n",
       "      <th>19</th>\n",
       "      <td>Tainwala Chem&amp;Plast.</td>\n",
       "      <td>Tainwala Chem&amp;Plast.</td>\n",
       "      <td>66</td>\n",
       "    </tr>\n",
       "    <tr>\n",
       "      <th>20</th>\n",
       "      <td>TCS</td>\n",
       "      <td>IT</td>\n",
       "      <td>15000</td>\n",
       "    </tr>\n",
       "    <tr>\n",
       "      <th>21</th>\n",
       "      <td>Tokyo Plast Intl.</td>\n",
       "      <td>Tokyo Plast Intl.</td>\n",
       "      <td>70</td>\n",
       "    </tr>\n",
       "    <tr>\n",
       "      <th>22</th>\n",
       "      <td>Vaswani Industries</td>\n",
       "      <td>Vaswani Industries</td>\n",
       "      <td>12</td>\n",
       "    </tr>\n",
       "    <tr>\n",
       "      <th>23</th>\n",
       "      <td>wipro</td>\n",
       "      <td>IT</td>\n",
       "      <td>2000</td>\n",
       "    </tr>\n",
       "  </tbody>\n",
       "</table>\n",
       "</div>"
      ],
      "text/plain": [
       "                       0                     1      2\n",
       "0            Aarti Drugs           Aarti Drugs    714\n",
       "1          Angel Broking         Angel Broking    426\n",
       "2        Anik Industries       Anik Industries     11\n",
       "3              Beardsell             Beardsell     12\n",
       "4                Coforge               Coforge   2892\n",
       "5        Dr Lal Pathlabs       Dr Lal Pathlabs   2836\n",
       "6       Emmbi Industries      Emmbi Industries     86\n",
       "7         Essar Shipping        Essar Shipping      9\n",
       "8           Geekay Wires          Geekay Wires     85\n",
       "9                    GTL                   GTL      6\n",
       "10                   HCL                    IT    600\n",
       "11  Indraprastha Medical  Indraprastha Medical     83\n",
       "12                   ITC                  FMCG  10000\n",
       "13                Mastek                Mastek   1619\n",
       "14      Panache Digilife      Panache Digilife     57\n",
       "15       R Systems Intl.       R Systems Intl.    125\n",
       "16                  SBIN                  Bank  20000\n",
       "17      Shreyas Shipping      Shreyas Shipping     97\n",
       "18                 Subex                 Subex     53\n",
       "19  Tainwala Chem&Plast.  Tainwala Chem&Plast.     66\n",
       "20                   TCS                    IT  15000\n",
       "21     Tokyo Plast Intl.     Tokyo Plast Intl.     70\n",
       "22    Vaswani Industries    Vaswani Industries     12\n",
       "23                 wipro                    IT   2000"
      ]
     },
     "execution_count": 86,
     "metadata": {},
     "output_type": "execute_result"
    }
   ],
   "source": [
    "import pandas\n",
    "lst=[]\n",
    "for i in df:\n",
    "    l=[]\n",
    "    l.append(i[0])\n",
    "    l.append(i[1])\n",
    "    l.append(i[2])\n",
    "    lst.append(l)\n",
    "data=pandas.DataFrame(lst)\n",
    "data\n"
   ]
  },
  {
   "cell_type": "code",
   "execution_count": 82,
   "id": "6715a33d",
   "metadata": {},
   "outputs": [
    {
     "name": "stdout",
     "output_type": "stream",
     "text": [
      "close\n"
     ]
    }
   ],
   "source": [
    "\n",
    "import pandas,openpyxl\n",
    "\n",
    "df=pandas.read_excel(r\"C:\\Users\\DELL\\Desktop\\abhil.xlsx\")\n",
    "query=\"insert into [Share Details] values ('{}','{}',{})\"\n",
    "\n",
    "try:\n",
    "    connection_string='Driver={SQL Server};Server=DESKTOP-2CDQJ66\\SQLEXPRESS;Database=Stock_Market_K;Trusted_Connection=yes;'\n",
    "    con=pyodbc.connect(connection_string)\n",
    "    cursor=con.cursor()\n",
    "    for i in range(11,20):\n",
    "        cursor.execute(query.format(df.iloc[i-1,0],df.iloc[i-1,1],df.iloc[i-1,2]))\n",
    "    cursor.commit()\n",
    "\n",
    "finally:\n",
    "    cursor.close()\n",
    "    con.close()\n",
    "    print('close')\n",
    "\n"
   ]
  }
 ],
 "metadata": {
  "kernelspec": {
   "display_name": "Python 3",
   "language": "python",
   "name": "python3"
  },
  "language_info": {
   "codemirror_mode": {
    "name": "ipython",
    "version": 3
   },
   "file_extension": ".py",
   "mimetype": "text/x-python",
   "name": "python",
   "nbconvert_exporter": "python",
   "pygments_lexer": "ipython3",
   "version": "3.9.4"
  }
 },
 "nbformat": 4,
 "nbformat_minor": 5
}

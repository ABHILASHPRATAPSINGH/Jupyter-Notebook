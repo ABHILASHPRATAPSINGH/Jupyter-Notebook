{
 "cells": [
  {
   "cell_type": "markdown",
   "id": "8f5c24e9",
   "metadata": {},
   "source": [
    "# Python Cookies Session Concept"
   ]
  },
  {
   "cell_type": "code",
   "execution_count": 2,
   "id": "c82f6ae2",
   "metadata": {
    "collapsed": true
   },
   "outputs": [
    {
     "name": "stdout",
     "output_type": "stream",
     "text": [
      "Collecting requests\n",
      "  Downloading requests-2.25.1-py2.py3-none-any.whl (61 kB)\n",
      "Collecting certifi>=2017.4.17\n",
      "  Downloading certifi-2020.12.5-py2.py3-none-any.whl (147 kB)\n",
      "Collecting chardet<5,>=3.0.2\n",
      "  Downloading chardet-4.0.0-py2.py3-none-any.whl (178 kB)\n",
      "Collecting idna<3,>=2.5\n",
      "  Downloading idna-2.10-py2.py3-none-any.whl (58 kB)\n",
      "Requirement already satisfied: urllib3<1.27,>=1.21.1 in c:\\users\\dell\\appdata\\local\\programs\\python\\python39\\lib\\site-packages (from requests) (1.26.4)\n",
      "Installing collected packages: certifi, chardet, idna, requests\n",
      "Successfully installed certifi-2020.12.5 chardet-4.0.0 idna-2.10 requests-2.25.1\n"
     ]
    },
    {
     "name": "stderr",
     "output_type": "stream",
     "text": [
      "WARNING: You are using pip version 20.2.3; however, version 21.1.1 is available.\n",
      "You should consider upgrading via the 'c:\\users\\dell\\appdata\\local\\programs\\python\\python39\\python.exe -m pip install --upgrade pip' command.\n"
     ]
    }
   ],
   "source": [
    "!pip install requests"
   ]
  },
  {
   "cell_type": "code",
   "execution_count": 1,
   "id": "cbaf78e0",
   "metadata": {},
   "outputs": [],
   "source": [
    "import requests"
   ]
  },
  {
   "cell_type": "code",
   "execution_count": 20,
   "id": "e165489e",
   "metadata": {
    "collapsed": true
   },
   "outputs": [
    {
     "data": {
      "text/plain": [
       "'<HTML>\\r\\n<HEAD>\\r\\n<META NAME=\"GENERATOR\" Content=\"Microsoft Visual Studio 6.0\">\\r\\n<TITLE>Grade Card</TITLE>\\r\\n<h1> Grade Card </h1>\\r\\n<h1>&nbsp;</h1>\\r\\n\\r\\n</HEAD>\\r\\n<BODY  bgcolor=Lavender>\\r\\n<div align=right><a href=\"javascript:history.back()\">&nbsp;<br>\\r\\n  </a></div>\\r\\n\\r\\n\\r\\n\\r\\n\\r\\n<form name=FRMResult method=post action=Result.asp>\\r\\n<HTML>\\r\\n<HEAD>\\r\\n<META NAME=\"GENERATOR\" Content=\"Microsoft Visual Studio 6.0\">\\r\\n<TITLE></TITLE>\\r\\n</HEAD>\\r\\n<BODY>\\r\\n<center><b> <font size=+2> Indira Gandhi National Open University</b> </font> <br><b> Grade Card Status as on April 14, 2021</b><br><b> (For information only)</b></center><b> Enrolment Number: 117664823</b><br><b> Name: CHITRESH PRATAP SINGH</b><br><b> Program: MCA</b><p><font size=-1><b> The Status is indicative only & cannot be used as a substitute for the final grade card which is sent by SRE at the end of a semester.</font></b><br><table border=1 width=\\'80%\\' background=\\'ignou.gif\\'><tr><td width=\\'10%\\'> <b> Course Code </b></td><td width=\\'10%\\' align=center> <b> Asgn1 </b></td><td width=\\'10%\\' align=center> <b> Lab1 </b></td><td  width=\\'10%\\' align=center> <b> Lab2 </b></td><td  width=\\'10%\\' align=center> <b> Lab3 </b></td><td  width=\\'10%\\' align=center> <b> Lab4 </b></td><td  width=\\'10%\\'> <b> Term End Theory </b></td><td width=\\'10%\\'> <b> Status </b></td></tr><tr><td width=\\'5%\\' ><strong>MCS031</td><td width=\\'10%\\' ><strong>83</td><td>#</td><td>#</td><td>#</td><td>#</td><td width=\\'10%\\' ><strong>40</td><td width=\\'20%\\' ><strong>Completed</td></tr><tr><td width=\\'5%\\' ><strong>MCS032</td><td width=\\'10%\\' ><strong>81</td><td>#</td><td>#</td><td>#</td><td>#</td><td width=\\'10%\\' ><strong>50</td><td width=\\'20%\\' ><strong>Completed</td></tr><tr><td width=\\'5%\\' ><strong>MCS033</td><td width=\\'10%\\' ><strong>86</td><td>#</td><td>#</td><td>#</td><td>#</td><td width=\\'10%\\' ><strong>40</td><td width=\\'20%\\' ><strong>Completed</td></tr><tr><td width=\\'5%\\' ><strong>MCS034</td><td width=\\'10%\\' ><strong>70</td><td>#</td><td>#</td><td>#</td><td>#</td><td width=\\'10%\\' ><strong>69</td><td width=\\'20%\\' ><strong>Completed</td></tr><tr><td width=\\'5%\\' ><strong>MCS035</td><td width=\\'10%\\' ><strong>82</td><td>#</td><td>#</td><td>#</td><td>#</td><td width=\\'10%\\' ><strong>45</td><td width=\\'20%\\' ><strong>Completed</td></tr><tr><td width=\\'5%\\' ><strong>MCS041</td><td width=\\'10%\\' ><strong>78</td><td>#</td><td>#</td><td>#</td><td>#</td><td width=\\'10%\\' ><strong>55</td><td width=\\'20%\\' ><strong>Completed</td></tr><tr><td width=\\'5%\\' ><strong>MCS042</td><td width=\\'10%\\' ><strong>87</td><td>#</td><td>#</td><td>#</td><td>#</td><td width=\\'10%\\' ><strong>41</td><td width=\\'20%\\' ><strong>Completed</td></tr><tr><td width=\\'5%\\' ><strong>MCS043</td><td width=\\'10%\\' ><strong>68</td><td>#</td><td>#</td><td>#</td><td>#</td><td width=\\'10%\\' ><strong>65</td><td width=\\'20%\\' ><strong>Completed</td></tr><tr><td width=\\'5%\\' ><strong>MCS044</td><td width=\\'10%\\' ><strong>86</td><td>#</td><td>#</td><td>#</td><td><b>92</td><td width=\\'10%\\' ><strong>76</td><td width=\\'20%\\' ><strong>Completed</td></tr><tr><td width=\\'5%\\' ><strong>MCS051</td><td width=\\'10%\\' ><strong>89</td><td>#</td><td>#</td><td>#</td><td>#</td><td width=\\'10%\\' ><strong>70</td><td width=\\'20%\\' ><strong>Completed</td></tr><tr><td width=\\'5%\\' ><strong>MCS052</td><td width=\\'10%\\' ><strong>83</td><td>#</td><td>#</td><td>#</td><td>#</td><td width=\\'10%\\' ><strong>60</td><td width=\\'20%\\' ><strong>Completed</td></tr><tr><td width=\\'5%\\' ><strong>MCS053</td><td width=\\'10%\\' ><strong>87</td><td>#</td><td>#</td><td>#</td><td>#</td><td width=\\'10%\\' ><strong>40</td><td width=\\'20%\\' ><strong>Completed</td></tr><tr><td width=\\'5%\\' ><strong>MCSE003</td><td width=\\'10%\\' ><strong>90</td><td>#</td><td>#</td><td>#</td><td>#</td><td width=\\'10%\\' ><strong>56</td><td width=\\'20%\\' ><strong>Completed</td></tr><tr><td width=\\'5%\\' ><strong>MCSE004</td><td width=\\'10%\\' ><strong>91</td><td>#</td><td>#</td><td>#</td><td>#</td><td width=\\'10%\\' ><strong>48</td><td width=\\'20%\\' ><strong>Completed</td></tr><tr><td width=\\'5%\\' ><strong>MCSE011</td><td width=\\'10%\\' ><strong>80</td><td>#</td><td>#</td><td>#</td><td>#</td><td width=\\'10%\\' ><strong>45</td><td width=\\'20%\\' ><strong>Completed</td></tr><tr><td width=\\'5%\\' ><strong>MCSL036</td><td width=\\'10%\\' ><strong>90</td><td width=\\'10%\\' ><strong>83</td><td width=\\'10%\\' ><strong>73</td><td width=\\'10%\\' ><strong>75</td><td width=\\'10%\\' ><strong>-</td><td width=\\'10%\\' ><strong>#</td><td width=\\'20%\\' ><strong>Completed</td></tr><tr><td width=\\'5%\\' ><strong>MCSL045</td><td width=\\'10%\\' ><strong>84</td><td width=\\'10%\\' ><strong>52</td><td width=\\'10%\\' ><strong>68</td><td width=\\'10%\\' ><strong>-</td><td width=\\'10%\\' ><strong>-</td><td width=\\'10%\\' ><strong>#</td><td width=\\'20%\\' ><strong>Completed</td></tr><tr><td width=\\'5%\\' ><strong>MCSL054</td><td width=\\'10%\\' ><strong>90</td><td width=\\'10%\\' ><strong>72</td><td width=\\'10%\\' ><strong>52</td><td width=\\'10%\\' ><strong>-</td><td width=\\'10%\\' ><strong>-</td><td width=\\'10%\\' ><strong>#</td><td width=\\'20%\\' ><strong>Completed</td></tr><tr><td width=\\'5%\\' ><strong>MCSP060</td><td width=\\'10%\\' ><strong>-</td><td>#</td><td>#</td><td>#</td><td><b>95</td><td width=\\'10%\\' ><strong>25</td><td width=\\'20%\\' ><strong>Completed</td></tr></table><p>&nbsp;</p><b><u>Note:- # indicates Not Applicable.</b></u><p>For MCS-044 Course Viva Marks are depicted in Term End Theory Field<br>For MCS-044 Course Report Marks are depicted in Lab4 Field<br>For MCSP060 Course Viva Marks are depicted in Term End Theory Field<br>For MCSP060 Course Report Marks are depicted in Lab4 Field<br>\\r\\n\\r\\n</BODY>\\r\\n</HTML>\\r\\n'"
      ]
     },
     "execution_count": 20,
     "metadata": {},
     "output_type": "execute_result"
    }
   ],
   "source": [
    "baseUrl=\"https://gradecard.ignou.ac.in/gradecardM/Result.asp\"\n",
    "d={\n",
    "    \"Program\": \"MCA\",\n",
    "    \"eno\": \"117664823\",\n",
    "\"submit\": \"Submit\",\n",
    "\"hidden_submit\": \"OK\"\n",
    "}\n",
    "resp=requests.post(baseUrl,data=d)\n",
    "resp.text"
   ]
  },
  {
   "cell_type": "code",
   "execution_count": 22,
   "id": "5626d501",
   "metadata": {
    "collapsed": true
   },
   "outputs": [
    {
     "data": {
      "text/plain": [
       "'<HTML>\\r\\n<HEAD>\\r\\n<META NAME=\"GENERATOR\" Content=\"Microsoft Visual Studio 6.0\">\\r\\n<TITLE>Grade Card</TITLE>\\r\\n<h1> Grade Card </h1>\\r\\n<h1>&nbsp;</h1>\\r\\n\\r\\n</HEAD>\\r\\n<BODY  bgcolor=Lavender>\\r\\n<div align=right><a href=\"javascript:history.back()\">&nbsp;<br>\\r\\n  </a></div>\\r\\n\\r\\n\\r\\n\\r\\n\\r\\n<form name=FRMResult method=post action=Result.asp>\\r\\n<HTML>\\r\\n<HEAD>\\r\\n<META NAME=\"GENERATOR\" Content=\"Microsoft Visual Studio 6.0\">\\r\\n<TITLE></TITLE>\\r\\n</HEAD>\\r\\n<BODY>\\r\\n<center><b> <font size=+2> Indira Gandhi National Open University</b> </font> <br><b> Grade Card Status as on April 14, 2021</b><br><b> (For information only)</b></center><b> Enrolment Number: 117664823</b><br><b> Name: CHITRESH PRATAP SINGH</b><br><b> Program: MCA</b><p><font size=-1><b> The Status is indicative only & cannot be used as a substitute for the final grade card which is sent by SRE at the end of a semester.</font></b><br><table border=1 width=\\'80%\\' background=\\'ignou.gif\\'><tr><td width=\\'10%\\'> <b> Course Code </b></td><td width=\\'10%\\' align=center> <b> Asgn1 </b></td><td width=\\'10%\\' align=center> <b> Lab1 </b></td><td  width=\\'10%\\' align=center> <b> Lab2 </b></td><td  width=\\'10%\\' align=center> <b> Lab3 </b></td><td  width=\\'10%\\' align=center> <b> Lab4 </b></td><td  width=\\'10%\\'> <b> Term End Theory </b></td><td width=\\'10%\\'> <b> Status </b></td></tr><tr><td width=\\'5%\\' ><strong>MCS031</td><td width=\\'10%\\' ><strong>83</td><td>#</td><td>#</td><td>#</td><td>#</td><td width=\\'10%\\' ><strong>40</td><td width=\\'20%\\' ><strong>Completed</td></tr><tr><td width=\\'5%\\' ><strong>MCS032</td><td width=\\'10%\\' ><strong>81</td><td>#</td><td>#</td><td>#</td><td>#</td><td width=\\'10%\\' ><strong>50</td><td width=\\'20%\\' ><strong>Completed</td></tr><tr><td width=\\'5%\\' ><strong>MCS033</td><td width=\\'10%\\' ><strong>86</td><td>#</td><td>#</td><td>#</td><td>#</td><td width=\\'10%\\' ><strong>40</td><td width=\\'20%\\' ><strong>Completed</td></tr><tr><td width=\\'5%\\' ><strong>MCS034</td><td width=\\'10%\\' ><strong>70</td><td>#</td><td>#</td><td>#</td><td>#</td><td width=\\'10%\\' ><strong>69</td><td width=\\'20%\\' ><strong>Completed</td></tr><tr><td width=\\'5%\\' ><strong>MCS035</td><td width=\\'10%\\' ><strong>82</td><td>#</td><td>#</td><td>#</td><td>#</td><td width=\\'10%\\' ><strong>45</td><td width=\\'20%\\' ><strong>Completed</td></tr><tr><td width=\\'5%\\' ><strong>MCS041</td><td width=\\'10%\\' ><strong>78</td><td>#</td><td>#</td><td>#</td><td>#</td><td width=\\'10%\\' ><strong>55</td><td width=\\'20%\\' ><strong>Completed</td></tr><tr><td width=\\'5%\\' ><strong>MCS042</td><td width=\\'10%\\' ><strong>87</td><td>#</td><td>#</td><td>#</td><td>#</td><td width=\\'10%\\' ><strong>41</td><td width=\\'20%\\' ><strong>Completed</td></tr><tr><td width=\\'5%\\' ><strong>MCS043</td><td width=\\'10%\\' ><strong>68</td><td>#</td><td>#</td><td>#</td><td>#</td><td width=\\'10%\\' ><strong>65</td><td width=\\'20%\\' ><strong>Completed</td></tr><tr><td width=\\'5%\\' ><strong>MCS044</td><td width=\\'10%\\' ><strong>86</td><td>#</td><td>#</td><td>#</td><td><b>92</td><td width=\\'10%\\' ><strong>76</td><td width=\\'20%\\' ><strong>Completed</td></tr><tr><td width=\\'5%\\' ><strong>MCS051</td><td width=\\'10%\\' ><strong>89</td><td>#</td><td>#</td><td>#</td><td>#</td><td width=\\'10%\\' ><strong>70</td><td width=\\'20%\\' ><strong>Completed</td></tr><tr><td width=\\'5%\\' ><strong>MCS052</td><td width=\\'10%\\' ><strong>83</td><td>#</td><td>#</td><td>#</td><td>#</td><td width=\\'10%\\' ><strong>60</td><td width=\\'20%\\' ><strong>Completed</td></tr><tr><td width=\\'5%\\' ><strong>MCS053</td><td width=\\'10%\\' ><strong>87</td><td>#</td><td>#</td><td>#</td><td>#</td><td width=\\'10%\\' ><strong>40</td><td width=\\'20%\\' ><strong>Completed</td></tr><tr><td width=\\'5%\\' ><strong>MCSE003</td><td width=\\'10%\\' ><strong>90</td><td>#</td><td>#</td><td>#</td><td>#</td><td width=\\'10%\\' ><strong>56</td><td width=\\'20%\\' ><strong>Completed</td></tr><tr><td width=\\'5%\\' ><strong>MCSE004</td><td width=\\'10%\\' ><strong>91</td><td>#</td><td>#</td><td>#</td><td>#</td><td width=\\'10%\\' ><strong>48</td><td width=\\'20%\\' ><strong>Completed</td></tr><tr><td width=\\'5%\\' ><strong>MCSE011</td><td width=\\'10%\\' ><strong>80</td><td>#</td><td>#</td><td>#</td><td>#</td><td width=\\'10%\\' ><strong>45</td><td width=\\'20%\\' ><strong>Completed</td></tr><tr><td width=\\'5%\\' ><strong>MCSL036</td><td width=\\'10%\\' ><strong>90</td><td width=\\'10%\\' ><strong>83</td><td width=\\'10%\\' ><strong>73</td><td width=\\'10%\\' ><strong>75</td><td width=\\'10%\\' ><strong>-</td><td width=\\'10%\\' ><strong>#</td><td width=\\'20%\\' ><strong>Completed</td></tr><tr><td width=\\'5%\\' ><strong>MCSL045</td><td width=\\'10%\\' ><strong>84</td><td width=\\'10%\\' ><strong>52</td><td width=\\'10%\\' ><strong>68</td><td width=\\'10%\\' ><strong>-</td><td width=\\'10%\\' ><strong>-</td><td width=\\'10%\\' ><strong>#</td><td width=\\'20%\\' ><strong>Completed</td></tr><tr><td width=\\'5%\\' ><strong>MCSL054</td><td width=\\'10%\\' ><strong>90</td><td width=\\'10%\\' ><strong>72</td><td width=\\'10%\\' ><strong>52</td><td width=\\'10%\\' ><strong>-</td><td width=\\'10%\\' ><strong>-</td><td width=\\'10%\\' ><strong>#</td><td width=\\'20%\\' ><strong>Completed</td></tr><tr><td width=\\'5%\\' ><strong>MCSP060</td><td width=\\'10%\\' ><strong>-</td><td>#</td><td>#</td><td>#</td><td><b>95</td><td width=\\'10%\\' ><strong>25</td><td width=\\'20%\\' ><strong>Completed</td></tr></table><p>&nbsp;</p><b><u>Note:- # indicates Not Applicable.</b></u><p>For MCS-044 Course Viva Marks are depicted in Term End Theory Field<br>For MCS-044 Course Report Marks are depicted in Lab4 Field<br>For MCSP060 Course Viva Marks are depicted in Term End Theory Field<br>For MCSP060 Course Report Marks are depicted in Lab4 Field<br>\\r\\n\\r\\n</BODY>\\r\\n</HTML>\\r\\n'"
      ]
     },
     "execution_count": 22,
     "metadata": {},
     "output_type": "execute_result"
    }
   ],
   "source": [
    "baseUrl=\"https://gradecard.ignou.ac.in/gradecardM/Result.asp?Program=MCA&eno=117664823&submit=Submit&hidden_submit=OK\"\n",
    "resp=requests.get(baseUrl)\n",
    "resp.text"
   ]
  },
  {
   "cell_type": "code",
   "execution_count": 2,
   "id": "57d75308",
   "metadata": {},
   "outputs": [],
   "source": [
    "resp=requests.get(\"https://kite.zerodha.com/\")\n",
    "resp.text\n",
    "u=\"https://www.facebook.com/login/?privacy_mutation_token=eyJ0eXBlIjowLCJjcmVhdGlvbl90aW1lIjoxNjIwNDEwNTI0LCJjYWxsc2l0ZV9pZCI6MzgxMjI5MDc5NTc1OTQ2fQ%3D%3D?jazoest=2954&lsd=AVrVuRSH6vM&email=abhilashpratapsingh25@gmail.com&encpass#PWD_BROWSER:5:1620410996:AahQAL5wAN0O2va7csASxDgmes2GoTxJoWh084vwfTanj2oL8V6J1JdDR4ewmhpMhx2zVhXIYraF4Y558rAbe2aYZFgJwf6IhUMzz21G+YIwsB1R3+YE8ndqFYjWPPd7L+6GqnTN5a/sD9datoJeTg==&next&login_source=comet_headerless_login\"\n",
    "ssn=requests.Session()\n",
    "resp=ssn.get(u)\n",
    "resp.text\n"
   ]
  },
  {
   "cell_type": "code",
   "execution_count": null,
   "id": "8b971ea4",
   "metadata": {},
   "outputs": [],
   "source": [
    "base_url="
   ]
  }
 ],
 "metadata": {
  "kernelspec": {
   "display_name": "Python 3",
   "language": "python",
   "name": "python3"
  },
  "language_info": {
   "codemirror_mode": {
    "name": "ipython",
    "version": 3
   },
   "file_extension": ".py",
   "mimetype": "text/x-python",
   "name": "python",
   "nbconvert_exporter": "python",
   "pygments_lexer": "ipython3",
   "version": "3.9.4"
  }
 },
 "nbformat": 4,
 "nbformat_minor": 5
}

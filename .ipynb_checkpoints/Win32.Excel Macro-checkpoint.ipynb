{
 "cells": [
  {
   "cell_type": "code",
   "execution_count": null,
   "id": "8d42cd4d",
   "metadata": {},
   "outputs": [],
   "source": [
    "import win32com.client as win32"
   ]
  },
  {
   "cell_type": "code",
   "execution_count": null,
   "id": "c6ff51c5",
   "metadata": {},
   "outputs": [],
   "source": [
    "# Open particular existing worksheet\n",
    "\n",
    "import win32com.client as win32\n",
    "\n",
    "xl = win32.gencache.EnsureDispatch('Excel.Application')\n",
    "ss=xl.Workbooks.Open(r\"C:\\Users\\DELL\\Desktop\\Market watch.xlsm\")\n",
    "ws = ss.Worksheets('All') \n",
    "xl.Visible = True\n"
   ]
  },
  {
   "cell_type": "code",
   "execution_count": null,
   "id": "3bbd7eb0",
   "metadata": {},
   "outputs": [],
   "source": [
    "# Add new worksheet\n",
    "xl = win32.gencache.EnsureDispatch('Excel.Application')\n",
    "# xl.Visible = True\n",
    "ss = xl.Workbooks.Add()\n",
    "xl.Visible = True\n",
    "xlmodule = ss.VBProject.VBComponents.Add(1)\n",
    "xlmodule.Name = 'testing123'\n",
    "code = '''sub TestMacro()\n",
    "    msgbox \"Testing 1 2 3\"\n",
    "    end sub'''\n",
    "xlmodule.CodeModule.AddFromString(code)\n",
    "ss.Application.Run('testing123.TestMacro')"
   ]
  },
  {
   "cell_type": "code",
   "execution_count": null,
   "id": "929a7fe3",
   "metadata": {},
   "outputs": [],
   "source": [
    "\n",
    "xl = win32.gencache.EnsureDispatch('Excel.Application')\n",
    "ss=xl.Workbooks.Open(r\"C:\\Users\\DELL\\Desktop\\a.xlsm\")\n",
    "ws = ss.Worksheets('Sheet1') \n",
    "xl.Visible = True\n",
    "xlmodule = ss.VBProject.VBComponents.Add(1)\n",
    "xlmodule.Name = 'testing123'\n",
    "code = '''sub TestMacro()\n",
    "    workbooks(\"a.xlsm\").activate\n",
    "    dim k as string\n",
    "    k=\"abhilash\"\n",
    "    worksheets(\"Sheet1\").range(\"a1\").value=k\n",
    "    \n",
    "    \n",
    "    end sub'''\n",
    "xlmodule.CodeModule.AddFromString(code)\n",
    "ss.Application.Run('testing123.TestMacro')"
   ]
  },
  {
   "cell_type": "code",
   "execution_count": 27,
   "id": "722c019d",
   "metadata": {
    "collapsed": true
   },
   "outputs": [
    {
     "ename": "com_error",
     "evalue": "(-2147352567, 'Exception occurred.', (0, 'Microsoft Office Excel', \"'C:\\\\Users\\\\DELL\\\\Desktop\\\\a.xlsm' could not be found. Check the spelling of the file name, and verify that the file location is correct.\\n\\nIf you are trying to open the file from your list of most recently used files, make sure that the file has not been renamed, moved, or deleted.\", 'C:\\\\Program Files (x86)\\\\Microsoft Office\\\\Office12\\\\1033\\\\XLMAIN11.CHM', 0, -2146827284), None)",
     "output_type": "error",
     "traceback": [
      "\u001b[1;31m---------------------------------------------------------------------------\u001b[0m",
      "\u001b[1;31mcom_error\u001b[0m                                 Traceback (most recent call last)",
      "\u001b[1;32m<ipython-input-27-e55fb55215a0>\u001b[0m in \u001b[0;36m<module>\u001b[1;34m\u001b[0m\n\u001b[0;32m      4\u001b[0m \u001b[1;33m\u001b[0m\u001b[0m\n\u001b[0;32m      5\u001b[0m \u001b[0mxl\u001b[0m \u001b[1;33m=\u001b[0m \u001b[0mwin32\u001b[0m\u001b[1;33m.\u001b[0m\u001b[0mgencache\u001b[0m\u001b[1;33m.\u001b[0m\u001b[0mEnsureDispatch\u001b[0m\u001b[1;33m(\u001b[0m\u001b[1;34m'Excel.Application'\u001b[0m\u001b[1;33m)\u001b[0m\u001b[1;33m\u001b[0m\u001b[1;33m\u001b[0m\u001b[0m\n\u001b[1;32m----> 6\u001b[1;33m \u001b[0mwb\u001b[0m \u001b[1;33m=\u001b[0m \u001b[0mxl\u001b[0m\u001b[1;33m.\u001b[0m\u001b[0mWorkbooks\u001b[0m\u001b[1;33m.\u001b[0m\u001b[0mOpen\u001b[0m\u001b[1;33m(\u001b[0m\u001b[1;34mr\"C:\\Users\\DELL\\Desktop\\a.xlsm\"\u001b[0m\u001b[1;33m)\u001b[0m \u001b[1;31m#create a workbook object\u001b[0m\u001b[1;33m\u001b[0m\u001b[1;33m\u001b[0m\u001b[0m\n\u001b[0m\u001b[0;32m      7\u001b[0m \u001b[1;31m# xl.Visible = True\u001b[0m\u001b[1;33m\u001b[0m\u001b[1;33m\u001b[0m\u001b[1;33m\u001b[0m\u001b[0m\n\u001b[0;32m      8\u001b[0m \u001b[0mxl\u001b[0m\u001b[1;33m.\u001b[0m\u001b[0mApplication\u001b[0m\u001b[1;33m.\u001b[0m\u001b[0mRun\u001b[0m\u001b[1;33m(\u001b[0m\u001b[1;34m\"a b.xlsm!Module1.test1\"\u001b[0m\u001b[1;33m)\u001b[0m\u001b[1;33m\u001b[0m\u001b[1;33m\u001b[0m\u001b[0m\n",
      "\u001b[1;32m~\\AppData\\Local\\Temp\\gen_py\\3.9\\00020813-0000-0000-C000-000000000046x0x1x6\\Workbooks.py\u001b[0m in \u001b[0;36mOpen\u001b[1;34m(self, Filename, UpdateLinks, ReadOnly, Format, Password, WriteResPassword, IgnoreReadOnlyRecommended, Origin, Delimiter, Editable, Notify, Converter, AddToMru, Local, CorruptLoad)\u001b[0m\n\u001b[0;32m     73\u001b[0m                         \u001b[1;33m,\u001b[0m \u001b[0mEditable\u001b[0m\u001b[1;33m=\u001b[0m\u001b[0mdefaultNamedOptArg\u001b[0m\u001b[1;33m,\u001b[0m \u001b[0mNotify\u001b[0m\u001b[1;33m=\u001b[0m\u001b[0mdefaultNamedOptArg\u001b[0m\u001b[1;33m,\u001b[0m \u001b[0mConverter\u001b[0m\u001b[1;33m=\u001b[0m\u001b[0mdefaultNamedOptArg\u001b[0m\u001b[1;33m,\u001b[0m \u001b[0mAddToMru\u001b[0m\u001b[1;33m=\u001b[0m\u001b[0mdefaultNamedOptArg\u001b[0m\u001b[1;33m,\u001b[0m \u001b[0mLocal\u001b[0m\u001b[1;33m=\u001b[0m\u001b[0mdefaultNamedOptArg\u001b[0m\u001b[1;33m\u001b[0m\u001b[1;33m\u001b[0m\u001b[0m\n\u001b[0;32m     74\u001b[0m \t\t\t, CorruptLoad=defaultNamedOptArg):\n\u001b[1;32m---> 75\u001b[1;33m \t\tret = self._oleobj_.InvokeTypes(1923, LCID, 1, (13, 0), ((8, 1), (12, 17), (12, 17), (12, 17), (12, 17), (12, 17), (12, 17), (12, 17), (12, 17), (12, 17), (12, 17), (12, 17), (12, 17), (12, 17), (12, 17)),Filename\n\u001b[0m\u001b[0;32m     76\u001b[0m                         \u001b[1;33m,\u001b[0m \u001b[0mUpdateLinks\u001b[0m\u001b[1;33m,\u001b[0m \u001b[0mReadOnly\u001b[0m\u001b[1;33m,\u001b[0m \u001b[0mFormat\u001b[0m\u001b[1;33m,\u001b[0m \u001b[0mPassword\u001b[0m\u001b[1;33m,\u001b[0m \u001b[0mWriteResPassword\u001b[0m\u001b[1;33m\u001b[0m\u001b[1;33m\u001b[0m\u001b[0m\n\u001b[0;32m     77\u001b[0m                         \u001b[1;33m,\u001b[0m \u001b[0mIgnoreReadOnlyRecommended\u001b[0m\u001b[1;33m,\u001b[0m \u001b[0mOrigin\u001b[0m\u001b[1;33m,\u001b[0m \u001b[0mDelimiter\u001b[0m\u001b[1;33m,\u001b[0m \u001b[0mEditable\u001b[0m\u001b[1;33m,\u001b[0m \u001b[0mNotify\u001b[0m\u001b[1;33m\u001b[0m\u001b[1;33m\u001b[0m\u001b[0m\n",
      "\u001b[1;31mcom_error\u001b[0m: (-2147352567, 'Exception occurred.', (0, 'Microsoft Office Excel', \"'C:\\\\Users\\\\DELL\\\\Desktop\\\\a.xlsm' could not be found. Check the spelling of the file name, and verify that the file location is correct.\\n\\nIf you are trying to open the file from your list of most recently used files, make sure that the file has not been renamed, moved, or deleted.\", 'C:\\\\Program Files (x86)\\\\Microsoft Office\\\\Office12\\\\1033\\\\XLMAIN11.CHM', 0, -2146827284), None)"
     ]
    }
   ],
   "source": [
    "# Run Existing macro file\n",
    "import win32com.client as win32\n",
    "xl = win32.gencache.EnsureDispatch('Excel.Application')\n",
    "wb = xl.Workbooks.Open(r\"C:\\Users\\DELL\\Desktop\\a.xlsm\") #create a workbook object\n",
    "# xl.Visible = True\n",
    "xl.Application.Run(\"a.xlsm!Module1.test1\") #excel sheet name should not contain space\n",
    "wb.Close(True)   \n",
    "del wb\n",
    "del xl\n"
   ]
  },
  {
   "cell_type": "code",
   "execution_count": 30,
   "id": "310cb0d9",
   "metadata": {
    "collapsed": true
   },
   "outputs": [
    {
     "ename": "com_error",
     "evalue": "(-2147352567, 'Exception occurred.', (0, None, None, None, 0, -2146788248), None)",
     "output_type": "error",
     "traceback": [
      "\u001b[1;31m---------------------------------------------------------------------------\u001b[0m",
      "\u001b[1;31mcom_error\u001b[0m                                 Traceback (most recent call last)",
      "\u001b[1;32m<ipython-input-30-a3370ed31234>\u001b[0m in \u001b[0;36m<module>\u001b[1;34m\u001b[0m\n\u001b[0;32m      3\u001b[0m \u001b[0mxl\u001b[0m\u001b[1;33m.\u001b[0m\u001b[0mVisible\u001b[0m \u001b[1;33m=\u001b[0m \u001b[1;32mTrue\u001b[0m\u001b[1;33m\u001b[0m\u001b[1;33m\u001b[0m\u001b[0m\n\u001b[0;32m      4\u001b[0m \u001b[1;32mtry\u001b[0m\u001b[1;33m:\u001b[0m\u001b[1;33m\u001b[0m\u001b[1;33m\u001b[0m\u001b[0m\n\u001b[1;32m----> 5\u001b[1;33m     \u001b[0mxl\u001b[0m\u001b[1;33m.\u001b[0m\u001b[0mApplication\u001b[0m\u001b[1;33m.\u001b[0m\u001b[0mRun\u001b[0m\u001b[1;33m(\u001b[0m\u001b[1;34m\"Market_watch.xlsm!Index.refresh_all_sheet\"\u001b[0m\u001b[1;33m)\u001b[0m\u001b[1;33m\u001b[0m\u001b[1;33m\u001b[0m\u001b[0m\n\u001b[0m\u001b[0;32m      6\u001b[0m \u001b[1;32mfinally\u001b[0m\u001b[1;33m:\u001b[0m\u001b[1;33m\u001b[0m\u001b[1;33m\u001b[0m\u001b[0m\n\u001b[0;32m      7\u001b[0m     \u001b[0mwb\u001b[0m\u001b[1;33m.\u001b[0m\u001b[0mClose\u001b[0m\u001b[1;33m(\u001b[0m\u001b[1;32mTrue\u001b[0m\u001b[1;33m)\u001b[0m\u001b[1;33m\u001b[0m\u001b[1;33m\u001b[0m\u001b[0m\n",
      "\u001b[1;32m~\\AppData\\Local\\Temp\\gen_py\\3.9\\00020813-0000-0000-C000-000000000046x0x1x6\\_Application.py\u001b[0m in \u001b[0;36mRun\u001b[1;34m(self, Macro, Arg1, Arg2, Arg3, Arg4, Arg5, Arg6, Arg7, Arg8, Arg9, Arg10, Arg11, Arg12, Arg13, Arg14, Arg15, Arg16, Arg17, Arg18, Arg19, Arg20, Arg21, Arg22, Arg23, Arg24, Arg25, Arg26, Arg27, Arg28, Arg29, Arg30)\u001b[0m\n\u001b[0;32m    367\u001b[0m                         \u001b[1;33m,\u001b[0m \u001b[0mArg24\u001b[0m\u001b[1;33m=\u001b[0m\u001b[0mdefaultNamedOptArg\u001b[0m\u001b[1;33m,\u001b[0m \u001b[0mArg25\u001b[0m\u001b[1;33m=\u001b[0m\u001b[0mdefaultNamedOptArg\u001b[0m\u001b[1;33m,\u001b[0m \u001b[0mArg26\u001b[0m\u001b[1;33m=\u001b[0m\u001b[0mdefaultNamedOptArg\u001b[0m\u001b[1;33m,\u001b[0m \u001b[0mArg27\u001b[0m\u001b[1;33m=\u001b[0m\u001b[0mdefaultNamedOptArg\u001b[0m\u001b[1;33m,\u001b[0m \u001b[0mArg28\u001b[0m\u001b[1;33m=\u001b[0m\u001b[0mdefaultNamedOptArg\u001b[0m\u001b[1;33m\u001b[0m\u001b[1;33m\u001b[0m\u001b[0m\n\u001b[0;32m    368\u001b[0m \t\t\t, Arg29=defaultNamedOptArg, Arg30=defaultNamedOptArg):\n\u001b[1;32m--> 369\u001b[1;33m \t\treturn self._ApplyTypes_(259, 1, (12, 0), ((12, 17), (12, 17), (12, 17), (12, 17), (12, 17), (12, 17), (12, 17), (12, 17), (12, 17), (12, 17), (12, 17), (12, 17), (12, 17), (12, 17), (12, 17), (12, 17), (12, 17), (12, 17), (12, 17), (12, 17), (12, 17), (12, 17), (12, 17), (12, 17), (12, 17), (12, 17), (12, 17), (12, 17), (12, 17), (12, 17), (12, 17)), 'Run', None,Macro\n\u001b[0m\u001b[0;32m    370\u001b[0m                         \u001b[1;33m,\u001b[0m \u001b[0mArg1\u001b[0m\u001b[1;33m,\u001b[0m \u001b[0mArg2\u001b[0m\u001b[1;33m,\u001b[0m \u001b[0mArg3\u001b[0m\u001b[1;33m,\u001b[0m \u001b[0mArg4\u001b[0m\u001b[1;33m,\u001b[0m \u001b[0mArg5\u001b[0m\u001b[1;33m\u001b[0m\u001b[1;33m\u001b[0m\u001b[0m\n\u001b[0;32m    371\u001b[0m                         \u001b[1;33m,\u001b[0m \u001b[0mArg6\u001b[0m\u001b[1;33m,\u001b[0m \u001b[0mArg7\u001b[0m\u001b[1;33m,\u001b[0m \u001b[0mArg8\u001b[0m\u001b[1;33m,\u001b[0m \u001b[0mArg9\u001b[0m\u001b[1;33m,\u001b[0m \u001b[0mArg10\u001b[0m\u001b[1;33m\u001b[0m\u001b[1;33m\u001b[0m\u001b[0m\n",
      "\u001b[1;32mc:\\users\\dell\\appdata\\local\\programs\\python\\python39\\lib\\site-packages\\win32com\\client\\__init__.py\u001b[0m in \u001b[0;36m_ApplyTypes_\u001b[1;34m(self, dispid, wFlags, retType, argTypes, user, resultCLSID, *args)\u001b[0m\n\u001b[0;32m    465\u001b[0m         \u001b[1;32mdef\u001b[0m \u001b[0m_ApplyTypes_\u001b[0m\u001b[1;33m(\u001b[0m\u001b[0mself\u001b[0m\u001b[1;33m,\u001b[0m \u001b[0mdispid\u001b[0m\u001b[1;33m,\u001b[0m \u001b[0mwFlags\u001b[0m\u001b[1;33m,\u001b[0m \u001b[0mretType\u001b[0m\u001b[1;33m,\u001b[0m \u001b[0margTypes\u001b[0m\u001b[1;33m,\u001b[0m \u001b[0muser\u001b[0m\u001b[1;33m,\u001b[0m \u001b[0mresultCLSID\u001b[0m\u001b[1;33m,\u001b[0m \u001b[1;33m*\u001b[0m\u001b[0margs\u001b[0m\u001b[1;33m)\u001b[0m\u001b[1;33m:\u001b[0m\u001b[1;33m\u001b[0m\u001b[1;33m\u001b[0m\u001b[0m\n\u001b[0;32m    466\u001b[0m \t\treturn self._get_good_object_(\n\u001b[1;32m--> 467\u001b[1;33m                         \u001b[0mself\u001b[0m\u001b[1;33m.\u001b[0m\u001b[0m_oleobj_\u001b[0m\u001b[1;33m.\u001b[0m\u001b[0mInvokeTypes\u001b[0m\u001b[1;33m(\u001b[0m\u001b[0mdispid\u001b[0m\u001b[1;33m,\u001b[0m \u001b[1;36m0\u001b[0m\u001b[1;33m,\u001b[0m \u001b[0mwFlags\u001b[0m\u001b[1;33m,\u001b[0m \u001b[0mretType\u001b[0m\u001b[1;33m,\u001b[0m \u001b[0margTypes\u001b[0m\u001b[1;33m,\u001b[0m \u001b[1;33m*\u001b[0m\u001b[0margs\u001b[0m\u001b[1;33m)\u001b[0m\u001b[1;33m,\u001b[0m\u001b[1;33m\u001b[0m\u001b[1;33m\u001b[0m\u001b[0m\n\u001b[0m\u001b[0;32m    468\u001b[0m \t\t\tuser, resultCLSID)\n\u001b[0;32m    469\u001b[0m \u001b[1;33m\u001b[0m\u001b[0m\n",
      "\u001b[1;31mcom_error\u001b[0m: (-2147352567, 'Exception occurred.', (0, None, None, None, 0, -2146788248), None)"
     ]
    }
   ],
   "source": []
  },
  {
   "cell_type": "code",
   "execution_count": null,
   "id": "794970e6",
   "metadata": {},
   "outputs": [],
   "source": []
  }
 ],
 "metadata": {
  "kernelspec": {
   "display_name": "Python 3",
   "language": "python",
   "name": "python3"
  },
  "language_info": {
   "codemirror_mode": {
    "name": "ipython",
    "version": 3
   },
   "file_extension": ".py",
   "mimetype": "text/x-python",
   "name": "python",
   "nbconvert_exporter": "python",
   "pygments_lexer": "ipython3",
   "version": "3.9.4"
  }
 },
 "nbformat": 4,
 "nbformat_minor": 5
}

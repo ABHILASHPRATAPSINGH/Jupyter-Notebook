{
 "cells": [
  {
   "cell_type": "code",
   "execution_count": 1,
   "id": "f86828f9",
   "metadata": {},
   "outputs": [],
   "source": [
    "import os"
   ]
  },
  {
   "cell_type": "code",
   "execution_count": 9,
   "id": "70495bc5",
   "metadata": {},
   "outputs": [
    {
     "name": "stdout",
     "output_type": "stream",
     "text": [
      "<class 'list'>\n"
     ]
    }
   ],
   "source": [
    "filePath=r\"C:\\Users\\DELL\\Desktop\\Kpython\"\n",
    "all_files=os.listdir(filePath)\n",
    "\n",
    "for i in all_files.:\n",
    "    print(i)\n",
    "    "
   ]
  },
  {
   "cell_type": "code",
   "execution_count": 21,
   "id": "d57024fb",
   "metadata": {},
   "outputs": [
    {
     "name": "stdout",
     "output_type": "stream",
     "text": [
      "C:\\Users\\DELL\\Desktop\\temp\n"
     ]
    }
   ],
   "source": [
    "import os\n",
    "p=os.environ['USERPROFILE']\n",
    "p=p+'\\Desktop'+'\\\\temp'\n",
    "print(p)"
   ]
  },
  {
   "cell_type": "code",
   "execution_count": 22,
   "id": "7b81d954",
   "metadata": {},
   "outputs": [],
   "source": [
    "import os"
   ]
  },
  {
   "cell_type": "code",
   "execution_count": 24,
   "id": "d3d96a02",
   "metadata": {},
   "outputs": [],
   "source": [
    "import pathlib"
   ]
  },
  {
   "cell_type": "code",
   "execution_count": 25,
   "id": "2f7a22c7",
   "metadata": {},
   "outputs": [],
   "source": [
    "userProfile=os.environ[\"USERPROFILE\"]"
   ]
  },
  {
   "cell_type": "code",
   "execution_count": 29,
   "id": "b5feedfe",
   "metadata": {},
   "outputs": [
    {
     "name": "stdout",
     "output_type": "stream",
     "text": [
      "<class 'pathlib.WindowsPath'> C:\\Users\\DELL\n"
     ]
    }
   ],
   "source": [
    "p=pathlib.Path(userProfile)\n",
    "\n",
    "print(type(p),p)"
   ]
  },
  {
   "cell_type": "code",
   "execution_count": 30,
   "id": "47cb4a53",
   "metadata": {},
   "outputs": [],
   "source": [
    "dktop= p / \"desktop\""
   ]
  },
  {
   "cell_type": "code",
   "execution_count": 31,
   "id": "8969298c",
   "metadata": {},
   "outputs": [],
   "source": [
    "tmp = dktop / \"temp\""
   ]
  },
  {
   "cell_type": "code",
   "execution_count": 32,
   "id": "3bd2c1f0",
   "metadata": {},
   "outputs": [
    {
     "data": {
      "text/plain": [
       "'C:'"
      ]
     },
     "execution_count": 32,
     "metadata": {},
     "output_type": "execute_result"
    }
   ],
   "source": [
    "tmp.drive"
   ]
  },
  {
   "cell_type": "code",
   "execution_count": 33,
   "id": "5b9916ba",
   "metadata": {},
   "outputs": [
    {
     "data": {
      "text/plain": [
       "False"
      ]
     },
     "execution_count": 33,
     "metadata": {},
     "output_type": "execute_result"
    }
   ],
   "source": [
    "tmp.exists()"
   ]
  },
  {
   "cell_type": "code",
   "execution_count": 35,
   "id": "bb9bee33",
   "metadata": {},
   "outputs": [
    {
     "data": {
      "text/plain": [
       "False"
      ]
     },
     "execution_count": 35,
     "metadata": {},
     "output_type": "execute_result"
    }
   ],
   "source": [
    "tmp.is_dir()"
   ]
  },
  {
   "cell_type": "code",
   "execution_count": 36,
   "id": "e4469243",
   "metadata": {},
   "outputs": [
    {
     "data": {
      "text/plain": [
       "False"
      ]
     },
     "execution_count": 36,
     "metadata": {},
     "output_type": "execute_result"
    }
   ],
   "source": [
    "tmp.is_file()"
   ]
  },
  {
   "cell_type": "code",
   "execution_count": 37,
   "id": "8d15ad5e",
   "metadata": {},
   "outputs": [],
   "source": [
    "tmp.mkdir()"
   ]
  },
  {
   "cell_type": "code",
   "execution_count": 38,
   "id": "94d7e83f",
   "metadata": {},
   "outputs": [
    {
     "data": {
      "text/plain": [
       "True"
      ]
     },
     "execution_count": 38,
     "metadata": {},
     "output_type": "execute_result"
    }
   ],
   "source": [
    "tmp.is_dir()"
   ]
  },
  {
   "cell_type": "code",
   "execution_count": 40,
   "id": "eb3b5758",
   "metadata": {},
   "outputs": [],
   "source": [
    "txtFilePath=pathlib.Path(r\"C:\\Users\\DELL\\Desktop\\jk.txt\")"
   ]
  },
  {
   "cell_type": "code",
   "execution_count": 41,
   "id": "4c0554c3",
   "metadata": {},
   "outputs": [
    {
     "data": {
      "text/plain": [
       "WindowsPath('C:/Users/DELL/Desktop/jk.py')"
      ]
     },
     "execution_count": 41,
     "metadata": {},
     "output_type": "execute_result"
    }
   ],
   "source": [
    "pyFilePath=txtFilePath.with_suffix(\".py\")\n",
    "pyFilePath"
   ]
  },
  {
   "cell_type": "code",
   "execution_count": 43,
   "id": "c4eb5300",
   "metadata": {},
   "outputs": [],
   "source": [
    "with open(pyFilePath.__str__(),\"w\") as f:\n",
    "    f.write(\"print(\\\"hello\\\")\")"
   ]
  },
  {
   "cell_type": "code",
   "execution_count": 44,
   "id": "7bf1fe2a",
   "metadata": {},
   "outputs": [
    {
     "data": {
      "text/plain": [
       "WindowsPath('C:/Users/DELL/Desktop/jk.py')"
      ]
     },
     "execution_count": 44,
     "metadata": {},
     "output_type": "execute_result"
    }
   ],
   "source": [
    "pyFilePath"
   ]
  },
  {
   "cell_type": "code",
   "execution_count": 46,
   "id": "1b92c292",
   "metadata": {},
   "outputs": [
    {
     "data": {
      "text/plain": [
       "True"
      ]
     },
     "execution_count": 46,
     "metadata": {},
     "output_type": "execute_result"
    }
   ],
   "source": [
    "pyFilePath.is_file()"
   ]
  },
  {
   "cell_type": "code",
   "execution_count": 47,
   "id": "d61b54d9",
   "metadata": {},
   "outputs": [
    {
     "data": {
      "text/plain": [
       "'jk.py'"
      ]
     },
     "execution_count": 47,
     "metadata": {},
     "output_type": "execute_result"
    }
   ],
   "source": [
    "pyFilePath.name"
   ]
  },
  {
   "cell_type": "code",
   "execution_count": 49,
   "id": "0ff4359a",
   "metadata": {},
   "outputs": [
    {
     "data": {
      "text/plain": [
       "WindowsPath('C:/Users/DELL/Desktop/Hello.txt')"
      ]
     },
     "execution_count": 49,
     "metadata": {},
     "output_type": "execute_result"
    }
   ],
   "source": [
    "pyFilePath.with_name(\"Hello.txt\")"
   ]
  },
  {
   "cell_type": "code",
   "execution_count": 50,
   "id": "098d7334",
   "metadata": {},
   "outputs": [],
   "source": [
    "pyFilePath.unlink()"
   ]
  },
  {
   "cell_type": "code",
   "execution_count": 14,
   "id": "1179fe71",
   "metadata": {},
   "outputs": [
    {
     "ename": "KeyError",
     "evalue": "'\\n    border-radius '",
     "output_type": "error",
     "traceback": [
      "\u001b[1;31m---------------------------------------------------------------------------\u001b[0m",
      "\u001b[1;31mKeyError\u001b[0m                                  Traceback (most recent call last)",
      "\u001b[1;32m<ipython-input-14-c7bfa8b4a364>\u001b[0m in \u001b[0;36m<module>\u001b[1;34m\u001b[0m\n\u001b[0;32m     13\u001b[0m                   \u001b[1;34m\"    border: 2px #d4d4d4\\n\"\u001b[0m\u001b[1;33m\u001b[0m\u001b[1;33m\u001b[0m\u001b[0m\n\u001b[0;32m     14\u001b[0m                   \"}\")\n\u001b[1;32m---> 15\u001b[1;33m \u001b[0mprint\u001b[0m\u001b[1;33m(\u001b[0m\u001b[0mx\u001b[0m\u001b[1;33m.\u001b[0m\u001b[0mformat\u001b[0m\u001b[1;33m(\u001b[0m\u001b[1;36m1\u001b[0m\u001b[1;33m)\u001b[0m\u001b[1;33m)\u001b[0m\u001b[1;33m\u001b[0m\u001b[1;33m\u001b[0m\u001b[0m\n\u001b[0m",
      "\u001b[1;31mKeyError\u001b[0m: '\\n    border-radius '"
     ]
    }
   ],
   "source": [
    "# r,g,b,a=0\n",
    "\n",
    "x=(\"QLabel {\\n\"\n",
    "\n",
    "                  \"    border-radius : 10px \\n\"\n",
    "                  \"    background-color: qlineargradient(spread:pad, x1:0, y1:0, x2:1, y2:1, stop:0 rgba(\"+values+\"), stop:1 rgba(255, 255, 255, 255)) \\n\"\n",
    "                  \"    font: 87 8pt \\\"Arial Black\\\" \\n\"\n",
    "                  \"    border-color: rgb(0, 0, 0) \\n\"\n",
    "                  \"    border: 2px solid White\\n\"\n",
    "                  \"}\\n\"\n",
    "                  \"QLabel:hover {\\n\"\n",
    "                  \"    border: 2px #d4d4d4\\n\"\n",
    "                  \"}\")\n"
   ]
  },
  {
   "cell_type": "code",
   "execution_count": 17,
   "id": "059edd94",
   "metadata": {},
   "outputs": [
    {
     "name": "stdout",
     "output_type": "stream",
     "text": [
      "QLabel {\n",
      "    border-radius : 10px \n",
      "    background-color: qlineargradient(spread:pad, x1:0, y1:0, x2:1, y2:1, stop:0 rgba(10, 10, 10, 10), stop:1 rgba(255, 255, 255, 255)) \n",
      "    font: 87 8pt \"Arial Black\" \n",
      "    border-color: rgb(0, 0, 0) \n",
      "    border: 2px solid White\n",
      "}\n",
      "QLabel:hover {\n",
      "    border: 2px #d4d4d4\n",
      "}\n"
     ]
    }
   ],
   "source": [
    "r=0\n",
    "g=0\n",
    "b=0\n",
    "a=0\n",
    "values = \"{}, {}, {}, {}\".format(a+10,g+10,b+10,a+10)                                     \n",
    "print(\"QLabel { background-color: rgba(\"+values+\"); }\")\n",
    "x=(\"QLabel {\\n\"\n",
    "\n",
    "                  \"    border-radius : 10px \\n\"\n",
    "                  \"    background-color: qlineargradient(spread:pad, x1:0, y1:0, x2:1, y2:1, stop:0 rgba(\"+values+\"), stop:1 rgba(255, 255, 255, 255)) \\n\"\n",
    "                  \"    font: 87 8pt \\\"Arial Black\\\" \\n\"\n",
    "                  \"    border-color: rgb(0, 0, 0) \\n\"\n",
    "                  \"    border: 2px solid White\\n\"\n",
    "                  \"}\\n\"\n",
    "                  \"QLabel:hover {\\n\"\n",
    "                  \"    border: 2px #d4d4d4\\n\"\n",
    "                  \"}\")\n",
    "print(x)"
   ]
  },
  {
   "cell_type": "code",
   "execution_count": 18,
   "id": "46a75bd6",
   "metadata": {},
   "outputs": [
    {
     "ename": "TypeError",
     "evalue": "cannot unpack non-iterable int object",
     "output_type": "error",
     "traceback": [
      "\u001b[1;31m---------------------------------------------------------------------------\u001b[0m",
      "\u001b[1;31mTypeError\u001b[0m                                 Traceback (most recent call last)",
      "\u001b[1;32m<ipython-input-18-00b72ae6ce3e>\u001b[0m in \u001b[0;36m<module>\u001b[1;34m\u001b[0m\n\u001b[1;32m----> 1\u001b[1;33m \u001b[0mr\u001b[0m\u001b[1;33m,\u001b[0m\u001b[0mg\u001b[0m\u001b[1;33m,\u001b[0m\u001b[0mb\u001b[0m\u001b[1;33m,\u001b[0m\u001b[0ma\u001b[0m\u001b[1;33m=\u001b[0m\u001b[1;36m0\u001b[0m\u001b[1;33m\u001b[0m\u001b[1;33m\u001b[0m\u001b[0m\n\u001b[0m\u001b[0;32m      2\u001b[0m \u001b[0mvalues\u001b[0m \u001b[1;33m=\u001b[0m \u001b[1;34m\"{}, {}, {}, {}\"\u001b[0m\u001b[1;33m.\u001b[0m\u001b[0mformat\u001b[0m\u001b[1;33m(\u001b[0m\u001b[0mr\u001b[0m\u001b[1;33m+\u001b[0m\u001b[1;36m10\u001b[0m\u001b[1;33m,\u001b[0m\u001b[0mg\u001b[0m\u001b[1;33m+\u001b[0m\u001b[1;36m10\u001b[0m\u001b[1;33m,\u001b[0m\u001b[0mb\u001b[0m\u001b[1;33m+\u001b[0m\u001b[1;36m10\u001b[0m\u001b[1;33m,\u001b[0m\u001b[0ma\u001b[0m\u001b[1;33m+\u001b[0m\u001b[1;36m10\u001b[0m\u001b[1;33m)\u001b[0m\u001b[1;33m\u001b[0m\u001b[1;33m\u001b[0m\u001b[0m\n\u001b[0;32m      3\u001b[0m \u001b[0mprint\u001b[0m\u001b[1;33m(\u001b[0m\u001b[1;34m\"QLabel { background-color: rgba(\"\u001b[0m\u001b[1;33m+\u001b[0m\u001b[0mvalues\u001b[0m\u001b[1;33m+\u001b[0m\u001b[1;34m\"); }\"\u001b[0m\u001b[1;33m)\u001b[0m\u001b[1;33m\u001b[0m\u001b[1;33m\u001b[0m\u001b[0m\n",
      "\u001b[1;31mTypeError\u001b[0m: cannot unpack non-iterable int object"
     ]
    }
   ],
   "source": [
    "r,g,b,a=\n",
    "values = \"{}, {}, {}, {}\".format(r+10,g+10,b+10,a+10)                                     \n",
    "print(\"QLabel { background-color: rgba(\"+values+\"); }\")\n",
    "\n",
    "\n"
   ]
  },
  {
   "cell_type": "code",
   "execution_count": 60,
   "id": "08b4fd63",
   "metadata": {},
   "outputs": [
    {
     "ename": "KeyError",
     "evalue": "'kakkey0'",
     "output_type": "error",
     "traceback": [
      "\u001b[1;31m---------------------------------------------------------------------------\u001b[0m",
      "\u001b[1;31mKeyError\u001b[0m                                  Traceback (most recent call last)",
      "\u001b[1;32m<ipython-input-60-c7bf85d5ca89>\u001b[0m in \u001b[0;36m<module>\u001b[1;34m\u001b[0m\n\u001b[0;32m      1\u001b[0m \u001b[1;32mfor\u001b[0m \u001b[0mi\u001b[0m \u001b[1;32min\u001b[0m \u001b[0mrange\u001b[0m\u001b[1;33m(\u001b[0m\u001b[1;36m10\u001b[0m\u001b[1;33m)\u001b[0m\u001b[1;33m:\u001b[0m\u001b[1;33m\u001b[0m\u001b[1;33m\u001b[0m\u001b[0m\n\u001b[1;32m----> 2\u001b[1;33m     \u001b[0mprint\u001b[0m\u001b[1;33m(\u001b[0m\u001b[0mglobals\u001b[0m\u001b[1;33m(\u001b[0m\u001b[1;33m)\u001b[0m\u001b[1;33m[\u001b[0m\u001b[1;34mf\"kakkey{i}\"\u001b[0m\u001b[1;33m]\u001b[0m\u001b[1;33m)\u001b[0m\u001b[1;33m\u001b[0m\u001b[1;33m\u001b[0m\u001b[0m\n\u001b[0m\u001b[0;32m      3\u001b[0m \u001b[0mprint\u001b[0m\u001b[1;33m(\u001b[0m\u001b[0mmy_variable_2\u001b[0m\u001b[1;33m)\u001b[0m\u001b[1;33m\u001b[0m\u001b[1;33m\u001b[0m\u001b[0m\n\u001b[0;32m      4\u001b[0m \u001b[1;33m\u001b[0m\u001b[0m\n\u001b[0;32m      5\u001b[0m \u001b[1;31m# for k in range(5):\u001b[0m\u001b[1;33m\u001b[0m\u001b[1;33m\u001b[0m\u001b[1;33m\u001b[0m\u001b[0m\n",
      "\u001b[1;31mKeyError\u001b[0m: 'kakkey0'"
     ]
    }
   ],
   "source": [
    "\n",
    "for i in range(10):\n",
    "    print(globals()[f\"kakkey{i}\"])\n",
    "print(my_variable_2)\n",
    "    \n",
    "# for k in range(5):\n",
    "#     globals()[\"my_variable_{}\".format(k)]='abhilash{}'.format(k)\n",
    "#     print(globals()[\"my_variable_{}\".format(k)])\n",
    "    "
   ]
  },
  {
   "cell_type": "code",
   "execution_count": 15,
   "id": "dde3b9f4",
   "metadata": {},
   "outputs": [
    {
     "name": "stdout",
     "output_type": "stream",
     "text": [
      "Z\n",
      "A\n",
      "B\n",
      "C\n"
     ]
    }
   ],
   "source": [
    "abh0='z'\n",
    "abh1='a'\n",
    "abh2='b'\n",
    "abh3='c'\n",
    "\n",
    "for i in range(4):\n",
    "    print(globals()['abh{}'.format(i)].upper())"
   ]
  },
  {
   "cell_type": "code",
   "execution_count": 21,
   "id": "0098e443",
   "metadata": {},
   "outputs": [
    {
     "name": "stdout",
     "output_type": "stream",
     "text": [
      "10\n"
     ]
    },
    {
     "data": {
      "text/plain": [
       "<__main__.b at 0x21a567c69d0>"
      ]
     },
     "execution_count": 21,
     "metadata": {},
     "output_type": "execute_result"
    }
   ],
   "source": [
    "class a:\n",
    "    \n",
    "    y=10\n",
    "    x=10\n",
    "    \n",
    "    def __init__(self):\n",
    "        self.x=20\n",
    "        print(self.x)\n",
    "\n",
    "class b(a):\n",
    "    \n",
    "    def __init__(self):\n",
    "        \n",
    "        print(self.x)\n",
    "        \n",
    "        \n",
    "        \n",
    "        \n",
    "b()\n"
   ]
  },
  {
   "cell_type": "code",
   "execution_count": 23,
   "id": "c4833f91",
   "metadata": {},
   "outputs": [
    {
     "name": "stdout",
     "output_type": "stream",
     "text": [
      "ABHILASH0\n"
     ]
    }
   ],
   "source": [
    "for k in range(5):\n",
    "    globals()[\"my_variable_{}\".format(k)]='abhilash{}'.format(k)\n",
    "#     print(globals()[\"my_variable_{}\".format(k)])\n",
    "print(my_variable_0.upper())\n",
    "\n"
   ]
  },
  {
   "cell_type": "code",
   "execution_count": 28,
   "id": "bda82cbb",
   "metadata": {},
   "outputs": [
    {
     "data": {
      "text/plain": [
       "'ABHILASH0'"
      ]
     },
     "execution_count": 28,
     "metadata": {},
     "output_type": "execute_result"
    }
   ],
   "source": [
    "globals()[\"my_variable_0\"].upper()"
   ]
  },
  {
   "cell_type": "code",
   "execution_count": 54,
   "id": "bca38afc",
   "metadata": {},
   "outputs": [
    {
     "name": "stdout",
     "output_type": "stream",
     "text": [
      "abhilash0\n",
      "abhilash1\n",
      "abhilash2\n",
      "abhilash3\n",
      "abhilash4\n"
     ]
    }
   ],
   "source": [
    "for i in range(5):\n",
    "    print(globals()['my_variable_{}'.format(i)])"
   ]
  },
  {
   "cell_type": "code",
   "execution_count": 49,
   "id": "dbcd9d79",
   "metadata": {},
   "outputs": [],
   "source": [
    "class P:\n",
    "    k=10\n",
    "    def __init__(self):\n",
    "        self.l=[]\n",
    "        \n",
    "        globals()[\"self.name\"]=\"Chitresh\"\n",
    "        self.l.append(globals()[\"self.name\"])\n",
    "        self.cl=\"12\"\n",
    "\n",
    "class C(P):\n",
    "    pass\n",
    "    "
   ]
  },
  {
   "cell_type": "code",
   "execution_count": 50,
   "id": "12b1b14b",
   "metadata": {},
   "outputs": [
    {
     "data": {
      "text/plain": [
       "{'l': ['Chitresh'], 'cl': '12'}"
      ]
     },
     "execution_count": 50,
     "metadata": {},
     "output_type": "execute_result"
    }
   ],
   "source": [
    "C().__dict__"
   ]
  },
  {
   "cell_type": "code",
   "execution_count": 61,
   "id": "3b3a43bb",
   "metadata": {},
   "outputs": [
    {
     "data": {
      "text/plain": [
       "['self.label0',\n",
       " 'self.label1',\n",
       " 'self.label2',\n",
       " 'self.label3',\n",
       " 'self.label4',\n",
       " 'self.label5',\n",
       " 'self.label6',\n",
       " 'self.label7',\n",
       " 'self.label8',\n",
       " 'self.label9',\n",
       " 'self.label10',\n",
       " 'self.label11',\n",
       " 'self.label12',\n",
       " 'self.label13',\n",
       " 'self.label14',\n",
       " 'self.label15',\n",
       " 'self.label16',\n",
       " 'self.label17',\n",
       " 'self.label18',\n",
       " 'self.label19',\n",
       " 'self.label20',\n",
       " 'self.label21',\n",
       " 'self.label22',\n",
       " 'self.label23',\n",
       " 'self.label24',\n",
       " 'self.label25',\n",
       " 'self.label26',\n",
       " 'self.label27',\n",
       " 'self.label28',\n",
       " 'self.label29',\n",
       " 'self.label30',\n",
       " 'self.label31',\n",
       " 'self.label32',\n",
       " 'self.label33',\n",
       " 'self.label34',\n",
       " 'self.label35',\n",
       " 'self.label36',\n",
       " 'self.label37',\n",
       " 'self.label38',\n",
       " 'self.label39',\n",
       " 'self.label40',\n",
       " 'self.label41',\n",
       " 'self.label42',\n",
       " 'self.label43',\n",
       " 'self.label44',\n",
       " 'self.label45',\n",
       " 'self.label46',\n",
       " 'self.label47',\n",
       " 'self.label48',\n",
       " 'self.label49',\n",
       " 'self.label50',\n",
       " 'self.label51',\n",
       " 'self.label52',\n",
       " 'self.label53',\n",
       " 'self.label54',\n",
       " 'self.label55',\n",
       " 'self.label56',\n",
       " 'self.label57',\n",
       " 'self.label58',\n",
       " 'self.label59',\n",
       " 'self.label60',\n",
       " 'self.label61',\n",
       " 'self.label62',\n",
       " 'self.label63',\n",
       " 'self.label64',\n",
       " 'self.label65',\n",
       " 'self.label66',\n",
       " 'self.label67',\n",
       " 'self.label68',\n",
       " 'self.label69',\n",
       " 'self.label70',\n",
       " 'self.label71',\n",
       " 'self.label72']"
      ]
     },
     "execution_count": 61,
     "metadata": {},
     "output_type": "execute_result"
    }
   ],
   "source": [
    "d=[]\n",
    "for i in range(73):\n",
    "    d.append('self.label{}'.format(i))\n",
    "\n",
    "\n"
   ]
  },
  {
   "cell_type": "code",
   "execution_count": 3,
   "id": "35ffc541",
   "metadata": {},
   "outputs": [
    {
     "name": "stdout",
     "output_type": "stream",
     "text": [
      "1\n"
     ]
    }
   ],
   "source": [
    "print(\"1\")"
   ]
  }
 ],
 "metadata": {
  "kernelspec": {
   "display_name": "Python 3",
   "language": "python",
   "name": "python3"
  },
  "language_info": {
   "codemirror_mode": {
    "name": "ipython",
    "version": 3
   },
   "file_extension": ".py",
   "mimetype": "text/x-python",
   "name": "python",
   "nbconvert_exporter": "python",
   "pygments_lexer": "ipython3",
   "version": "3.9.4"
  }
 },
 "nbformat": 4,
 "nbformat_minor": 5
}

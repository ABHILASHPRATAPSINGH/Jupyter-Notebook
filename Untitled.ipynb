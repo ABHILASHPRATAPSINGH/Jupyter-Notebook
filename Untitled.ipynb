{
 "cells": [
  {
   "cell_type": "code",
   "execution_count": 1,
   "id": "f86828f9",
   "metadata": {},
   "outputs": [],
   "source": [
    "import os"
   ]
  },
  {
   "cell_type": "code",
   "execution_count": 9,
   "id": "70495bc5",
   "metadata": {},
   "outputs": [
    {
     "name": "stdout",
     "output_type": "stream",
     "text": [
      "<class 'list'>\n"
     ]
    }
   ],
   "source": [
    "filePath=r\"C:\\Users\\DELL\\Desktop\\Kpython\"\n",
    "all_files=os.listdir(filePath)\n",
    "\n",
    "for i in all_files.:\n",
    "    print(i)\n",
    "    "
   ]
  },
  {
   "cell_type": "code",
   "execution_count": 21,
   "id": "d57024fb",
   "metadata": {},
   "outputs": [
    {
     "name": "stdout",
     "output_type": "stream",
     "text": [
      "C:\\Users\\DELL\\Desktop\\temp\n"
     ]
    }
   ],
   "source": [
    "import os\n",
    "p=os.environ['USERPROFILE']\n",
    "p=p+'\\Desktop'+'\\\\temp'\n",
    "print(p)"
   ]
  },
  {
   "cell_type": "code",
   "execution_count": 22,
   "id": "7b81d954",
   "metadata": {},
   "outputs": [],
   "source": [
    "import os"
   ]
  },
  {
   "cell_type": "code",
   "execution_count": 24,
   "id": "d3d96a02",
   "metadata": {},
   "outputs": [],
   "source": [
    "import pathlib"
   ]
  },
  {
   "cell_type": "code",
   "execution_count": 25,
   "id": "2f7a22c7",
   "metadata": {},
   "outputs": [],
   "source": [
    "userProfile=os.environ[\"USERPROFILE\"]"
   ]
  },
  {
   "cell_type": "code",
   "execution_count": 29,
   "id": "b5feedfe",
   "metadata": {},
   "outputs": [
    {
     "name": "stdout",
     "output_type": "stream",
     "text": [
      "<class 'pathlib.WindowsPath'> C:\\Users\\DELL\n"
     ]
    }
   ],
   "source": [
    "p=pathlib.Path(userProfile)\n",
    "\n",
    "print(type(p),p)"
   ]
  },
  {
   "cell_type": "code",
   "execution_count": 30,
   "id": "47cb4a53",
   "metadata": {},
   "outputs": [],
   "source": [
    "dktop= p / \"desktop\""
   ]
  },
  {
   "cell_type": "code",
   "execution_count": 31,
   "id": "8969298c",
   "metadata": {},
   "outputs": [],
   "source": [
    "tmp = dktop / \"temp\""
   ]
  },
  {
   "cell_type": "code",
   "execution_count": 32,
   "id": "3bd2c1f0",
   "metadata": {},
   "outputs": [
    {
     "data": {
      "text/plain": [
       "'C:'"
      ]
     },
     "execution_count": 32,
     "metadata": {},
     "output_type": "execute_result"
    }
   ],
   "source": [
    "tmp.drive"
   ]
  },
  {
   "cell_type": "code",
   "execution_count": 33,
   "id": "5b9916ba",
   "metadata": {},
   "outputs": [
    {
     "data": {
      "text/plain": [
       "False"
      ]
     },
     "execution_count": 33,
     "metadata": {},
     "output_type": "execute_result"
    }
   ],
   "source": [
    "tmp.exists()"
   ]
  },
  {
   "cell_type": "code",
   "execution_count": 35,
   "id": "bb9bee33",
   "metadata": {},
   "outputs": [
    {
     "data": {
      "text/plain": [
       "False"
      ]
     },
     "execution_count": 35,
     "metadata": {},
     "output_type": "execute_result"
    }
   ],
   "source": [
    "tmp.is_dir()"
   ]
  },
  {
   "cell_type": "code",
   "execution_count": 36,
   "id": "e4469243",
   "metadata": {},
   "outputs": [
    {
     "data": {
      "text/plain": [
       "False"
      ]
     },
     "execution_count": 36,
     "metadata": {},
     "output_type": "execute_result"
    }
   ],
   "source": [
    "tmp.is_file()"
   ]
  },
  {
   "cell_type": "code",
   "execution_count": 37,
   "id": "8d15ad5e",
   "metadata": {},
   "outputs": [],
   "source": [
    "tmp.mkdir()"
   ]
  },
  {
   "cell_type": "code",
   "execution_count": 38,
   "id": "94d7e83f",
   "metadata": {},
   "outputs": [
    {
     "data": {
      "text/plain": [
       "True"
      ]
     },
     "execution_count": 38,
     "metadata": {},
     "output_type": "execute_result"
    }
   ],
   "source": [
    "tmp.is_dir()"
   ]
  },
  {
   "cell_type": "code",
   "execution_count": 40,
   "id": "eb3b5758",
   "metadata": {},
   "outputs": [],
   "source": [
    "txtFilePath=pathlib.Path(r\"C:\\Users\\DELL\\Desktop\\jk.txt\")"
   ]
  },
  {
   "cell_type": "code",
   "execution_count": 41,
   "id": "4c0554c3",
   "metadata": {},
   "outputs": [
    {
     "data": {
      "text/plain": [
       "WindowsPath('C:/Users/DELL/Desktop/jk.py')"
      ]
     },
     "execution_count": 41,
     "metadata": {},
     "output_type": "execute_result"
    }
   ],
   "source": [
    "pyFilePath=txtFilePath.with_suffix(\".py\")\n",
    "pyFilePath"
   ]
  },
  {
   "cell_type": "code",
   "execution_count": 43,
   "id": "c4eb5300",
   "metadata": {},
   "outputs": [],
   "source": [
    "with open(pyFilePath.__str__(),\"w\") as f:\n",
    "    f.write(\"print(\\\"hello\\\")\")"
   ]
  },
  {
   "cell_type": "code",
   "execution_count": 44,
   "id": "7bf1fe2a",
   "metadata": {},
   "outputs": [
    {
     "data": {
      "text/plain": [
       "WindowsPath('C:/Users/DELL/Desktop/jk.py')"
      ]
     },
     "execution_count": 44,
     "metadata": {},
     "output_type": "execute_result"
    }
   ],
   "source": [
    "pyFilePath"
   ]
  },
  {
   "cell_type": "code",
   "execution_count": 46,
   "id": "1b92c292",
   "metadata": {},
   "outputs": [
    {
     "data": {
      "text/plain": [
       "True"
      ]
     },
     "execution_count": 46,
     "metadata": {},
     "output_type": "execute_result"
    }
   ],
   "source": [
    "pyFilePath.is_file()"
   ]
  },
  {
   "cell_type": "code",
   "execution_count": 47,
   "id": "d61b54d9",
   "metadata": {},
   "outputs": [
    {
     "data": {
      "text/plain": [
       "'jk.py'"
      ]
     },
     "execution_count": 47,
     "metadata": {},
     "output_type": "execute_result"
    }
   ],
   "source": [
    "pyFilePath.name"
   ]
  },
  {
   "cell_type": "code",
   "execution_count": 49,
   "id": "0ff4359a",
   "metadata": {},
   "outputs": [
    {
     "data": {
      "text/plain": [
       "WindowsPath('C:/Users/DELL/Desktop/Hello.txt')"
      ]
     },
     "execution_count": 49,
     "metadata": {},
     "output_type": "execute_result"
    }
   ],
   "source": [
    "pyFilePath.with_name(\"Hello.txt\")"
   ]
  },
  {
   "cell_type": "code",
   "execution_count": 50,
   "id": "098d7334",
   "metadata": {},
   "outputs": [],
   "source": [
    "pyFilePath.unlink()"
   ]
  },
  {
   "cell_type": "code",
   "execution_count": null,
   "id": "1179fe71",
   "metadata": {},
   "outputs": [],
   "source": []
  }
 ],
 "metadata": {
  "kernelspec": {
   "display_name": "Python 3",
   "language": "python",
   "name": "python3"
  },
  "language_info": {
   "codemirror_mode": {
    "name": "ipython",
    "version": 3
   },
   "file_extension": ".py",
   "mimetype": "text/x-python",
   "name": "python",
   "nbconvert_exporter": "python",
   "pygments_lexer": "ipython3",
   "version": "3.9.4"
  }
 },
 "nbformat": 4,
 "nbformat_minor": 5
}

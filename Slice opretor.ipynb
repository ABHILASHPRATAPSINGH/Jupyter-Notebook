{
 "cells": [
  {
   "cell_type": "code",
   "execution_count": null,
   "id": "dda493a7",
   "metadata": {
    "collapsed": true
   },
   "outputs": [],
   "source": [
    "# Slice Operator\n",
    "\n",
    "\n",
    "## [start,stop,step]->list\n",
    "    \n",
    "\n",
    "# l=list(range(0,19))\n",
    "# l\n",
    "\n",
    "# print(l[-1])#18\n",
    "# print(l[0])#0\n",
    "# print(l[-4])#15\n",
    "# print(l[4])#4\n",
    "# print(l[-100])#0\n",
    "# print(l[100])#18\n",
    "# print(l[2:5])#[2,3,4,5,6] x\n",
    "# print(l[2:5:2])#[2,5] x\n",
    "# print(l[2:5:-2])#[4] x\n",
    "# print(l[::-2])#[16,13,10,7,4,1] X\n",
    "# print(l[5:3])#[6,5,4,3] x\n",
    "# print(l[2:-2:1])#[2,0,17] X\n",
    "# print(l[2:-2:-1])#[18,1,3] x\n",
    "# print(l[5:1000])#[6,----18] cX\n",
    "# print(l[5:-1000])#[6,....0,] X\n",
    "# print(l[7:2:-2])#[8,6,4,2] x\n",
    "# print(l[-7:-2:-1])#aaaaaa\n",
    "# print(l[-7:-2:1])#aaaaaa\n",
    "\n",
    "\n",
    "\n",
    "\n"
   ]
  },
  {
   "cell_type": "code",
   "execution_count": 8,
   "id": "cdaa855b",
   "metadata": {},
   "outputs": [
    {
     "data": {
      "text/plain": [
       "[0, 1, 2, 3, 4, 5, 6, 7, 8, 9, 10, 11, 12, 13, 14, 15, 16, 17, 18]"
      ]
     },
     "execution_count": 8,
     "metadata": {},
     "output_type": "execute_result"
    }
   ],
   "source": [
    "l=list(range(19))\n",
    "l"
   ]
  },
  {
   "cell_type": "code",
   "execution_count": 21,
   "id": "c9e12444",
   "metadata": {},
   "outputs": [
    {
     "name": "stdout",
     "output_type": "stream",
     "text": [
      "[12, 13, 14, 15, 16]\n"
     ]
    }
   ],
   "source": [
    "# print(l[2:5])#[2,3,4,5,6] x\n",
    "# print(l[2:5:2])#[2,5] x\n",
    "# print(l[2:5:-2])#[4] x\n",
    "# print(l[::-2])#[16,13,10,7,4,1] X\n",
    "# print(l[5:3])#[6,5,4,3] x\n",
    "# print(l[2:-2:1])#[2,0,17] X\n",
    "# print(l[2:-2:-1])#[18,1,3] x\n",
    "# print(l[5:1000])#[6,----18] cX\n",
    "# print(l[5:-1000])#[6,....0,] X\n",
    "# print(l[5:-1000:-1])#[6,....0,] X\n",
    "# print(l[7:2:-2])#[8,6,4,2] x\n",
    "# print(l[-7:-2:-1])#aaaaaa\n",
    "print(l[-7:-2:1])#aaaaaa\n",
    "\n"
   ]
  },
  {
   "cell_type": "markdown",
   "id": "6d89b5d1",
   "metadata": {},
   "source": [
    "# Slice\n",
    "***\n",
    "[Start, Stop, Step]"
   ]
  },
  {
   "cell_type": "code",
   "execution_count": null,
   "id": "c8158fd8",
   "metadata": {},
   "outputs": [],
   "source": [
    "all aarguments optional\n",
    "\n",
    "step ->1\n",
    "last element-> -1 yar len(l)-1\n",
    "firts element -> 0 yar -len(l)\n"
   ]
  },
  {
   "cell_type": "code",
   "execution_count": null,
   "id": "f8c9ac55",
   "metadata": {},
   "outputs": [],
   "source": [
    "when step -ve searching -> right to left\n",
    "step +ve searching -> left to right"
   ]
  },
  {
   "cell_type": "code",
   "execution_count": 1,
   "id": "b72ea613",
   "metadata": {},
   "outputs": [
    {
     "data": {
      "text/plain": [
       "['T', 'e', 'c', 'h', 'n', 'i', 'c', 'a', 'l', ' ', 'S', 'a', 'a', 'n', 'd']"
      ]
     },
     "execution_count": 1,
     "metadata": {},
     "output_type": "execute_result"
    }
   ],
   "source": [
    "l=list(\"Technical Saand\")\n",
    "l"
   ]
  },
  {
   "cell_type": "code",
   "execution_count": 4,
   "id": "e60919a1",
   "metadata": {},
   "outputs": [
    {
     "data": {
      "text/plain": [
       "['c', 'n', 'c', 'l']"
      ]
     },
     "execution_count": 4,
     "metadata": {},
     "output_type": "execute_result"
    }
   ],
   "source": [
    "l[2:10:2]"
   ]
  },
  {
   "cell_type": "code",
   "execution_count": 3,
   "id": "1a50babc",
   "metadata": {},
   "outputs": [
    {
     "data": {
      "text/plain": [
       "['a', 'c', 'i', 'n', 'h']"
      ]
     },
     "execution_count": 3,
     "metadata": {},
     "output_type": "execute_result"
    }
   ],
   "source": [
    "l[7:2:-3]"
   ]
  },
  {
   "cell_type": "code",
   "execution_count": null,
   "id": "186c580b",
   "metadata": {},
   "outputs": [],
   "source": [
    "+ve"
   ]
  },
  {
   "cell_type": "code",
   "execution_count": null,
   "id": "5778deda",
   "metadata": {},
   "outputs": [],
   "source": [
    "-ve"
   ]
  },
  {
   "cell_type": "code",
   "execution_count": null,
   "id": "27d732ff",
   "metadata": {},
   "outputs": [],
   "source": [
    "[]b"
   ]
  }
 ],
 "metadata": {
  "kernelspec": {
   "display_name": "Python 3",
   "language": "python",
   "name": "python3"
  },
  "language_info": {
   "codemirror_mode": {
    "name": "ipython",
    "version": 3
   },
   "file_extension": ".py",
   "mimetype": "text/x-python",
   "name": "python",
   "nbconvert_exporter": "python",
   "pygments_lexer": "ipython3",
   "version": "3.9.4"
  }
 },
 "nbformat": 4,
 "nbformat_minor": 5
}

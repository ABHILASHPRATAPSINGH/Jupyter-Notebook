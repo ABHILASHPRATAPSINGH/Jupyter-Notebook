{
 "cells": [
  {
   "cell_type": "code",
   "execution_count": 1,
   "id": "3196e582",
   "metadata": {},
   "outputs": [
    {
     "name": "stdout",
     "output_type": "stream",
     "text": [
      "Requirement already satisfied: PyPDF2 in c:\\users\\dell\\appdata\\local\\programs\\python\\python39\\lib\\site-packages (1.26.0)\n"
     ]
    }
   ],
   "source": [
    "!pip install PyPDF2"
   ]
  },
  {
   "cell_type": "code",
   "execution_count": 50,
   "id": "882038e3",
   "metadata": {},
   "outputs": [
    {
     "name": "stdout",
     "output_type": "stream",
     "text": [
      "Metlife Global Operations Support Center Pvt. LtdPayslip for the month of Jul 2021Employee ID3340998Employee NameCHITRESH PRATAP SINGHDate Of Birth20/06/1991Date of Joining16/07/2018DesignationSpecialist - IT OperationsBank NameHDFC BANKBank A/C No50100236476239PAN NOFFGPS9040CNo Of Days/LOP/LOPR/Arrears Days31.00 / 0.00 / 0.00 / 0.00LocationNOIDA, 144, OXYGEN PARK, LEVEL 11,12,14-TWR2Employee Grade09MPF No.DS/NHP/937252/19402Universal Account Number100127565855DepartmentReinsurance - IT Support 27839GenderMaleCost center85028839Aadhar NoESI NoEarningsReference AmountAmountArrear AmountTotalYear to DateDeductionsAmountYear to DateBasic16,697.0016,697.000.0016,697.0066,788.00Provident Fund (PF)2,004.008,016.00H.R.A8,348.008,348.000.008,348.0033,392.00Adhoc Allowance13,890.0013,890.000.0013,890.0055,560.00P4P Monthly3,250.003,250.000.003,250.0010,531.00WFH Infrastructure Assistance1,250.001,250.000.001,250.008,750.00Vaccination Incentive0.000.000.000.00925.00Gross Earnings43,435.00175,946.00Gross Deductions2,004.008,016.00 Net Pay41,431.00Net Pay In WordsRupees Forty One Thousand Four Hundred And Thirty One Only Other Statutory DeductionsProjectedYear to DateBalanceIncome Tax0.000.000.00Profession Tax0.000.000.00 Provident Fund(PF) DetailsAmountYear to DateEmployee Contribution to PF2,004.008,016.00Employee VPF Contribution0.000.00Employer Contribution to EPS1,250.005,000.00Employer Contribution to PF754.003,016.00Note : This is a computer generated statement and does not require authentication.\n"
     ]
    }
   ],
   "source": [
    "import PyPDF2\n",
    "# pdfFilePath=r\"C:\\Users\\DELL\\Desktop\\SalarySlip\\payslip_7_2021.pdf\"\n",
    "pdfFilePath=r\"C:\\Users\\DELL\\Desktop\\SalarySlip\\payslip_7_2021.pdf\"\n",
    "\n",
    "pdfFile=open(pdfFilePath,'rb')\n",
    "pdfReaderEngine=PyPDF2.PdfFileReader(pdfFile)\n",
    "pdfPage=pdfReaderEngine.getPage(0)\n",
    "print(pdfPage.extractText())\n",
    "pdfFile.close()"
   ]
  },
  {
   "cell_type": "code",
   "execution_count": 16,
   "id": "64cbfd8c",
   "metadata": {},
   "outputs": [
    {
     "name": "stdout",
     "output_type": "stream",
     "text": [
      "klj\n"
     ]
    }
   ],
   "source": [
    "print(\"klj\")"
   ]
  },
  {
   "cell_type": "code",
   "execution_count": 4,
   "id": "42c15d10",
   "metadata": {},
   "outputs": [
    {
     "name": "stdout",
     "output_type": "stream",
     "text": [
      "Collecting tabula\n",
      "  Downloading tabula-1.0.5.tar.gz (9.5 kB)\n"
     ]
    },
    {
     "name": "stderr",
     "output_type": "stream",
     "text": [
      "WARNING: You are using pip version 20.2.3; however, version 21.2.4 is available.\n",
      "You should consider upgrading via the 'c:\\users\\dell\\appdata\\local\\programs\\python\\python39\\python.exe -m pip install --upgrade pip' command.\n"
     ]
    },
    {
     "name": "stdout",
     "output_type": "stream",
     "text": [
      "Requirement already satisfied: setuptools in c:\\users\\dell\\appdata\\local\\programs\\python\\python39\\lib\\site-packages (from tabula) (49.2.1)\n",
      "Requirement already satisfied: numpy in c:\\users\\dell\\appdata\\local\\programs\\python\\python39\\lib\\site-packages (from tabula) (1.20.2)\n",
      "Building wheels for collected packages: tabula\n",
      "  Building wheel for tabula (setup.py): started\n",
      "  Building wheel for tabula (setup.py): finished with status 'done'\n",
      "  Created wheel for tabula: filename=tabula-1.0.5-py3-none-any.whl size=10589 sha256=b08268b3bfdd664d181b98d83f9a712ab2e8cf7d2ce42f64a7a8cb6ad2b908d6\n",
      "  Stored in directory: c:\\users\\dell\\appdata\\local\\pip\\cache\\wheels\\0c\\6b\\25\\f7f32d9ab1a2fdeeb40b83f50b19f8c42fbb76a189cdff8884\n",
      "Successfully built tabula\n",
      "Installing collected packages: tabula\n",
      "Successfully installed tabula-1.0.5\n"
     ]
    }
   ],
   "source": [
    "!pip install tabula"
   ]
  },
  {
   "cell_type": "code",
   "execution_count": 9,
   "id": "e87408c5",
   "metadata": {},
   "outputs": [
    {
     "name": "stdout",
     "output_type": "stream",
     "text": [
      "Collecting tabulate\n",
      "  Downloading tabulate-0.8.9-py3-none-any.whl (25 kB)\n",
      "Installing collected packages: tabulate\n",
      "Successfully installed tabulate-0.8.9\n"
     ]
    },
    {
     "name": "stderr",
     "output_type": "stream",
     "text": [
      "WARNING: Retrying (Retry(total=4, connect=None, read=None, redirect=None, status=None)) after connection broken by 'SSLError(SSLError(1, '[SSL: DECRYPTION_FAILED_OR_BAD_RECORD_MAC] decryption failed or bad record mac (_ssl.c:1123)'))': /simple/tabulate/\n",
      "WARNING: You are using pip version 20.2.3; however, version 21.2.4 is available.\n",
      "You should consider upgrading via the 'c:\\users\\dell\\appdata\\local\\programs\\python\\python39\\python.exe -m pip install --upgrade pip' command.\n"
     ]
    }
   ],
   "source": [
    "!pip install tabulate"
   ]
  },
  {
   "cell_type": "code",
   "execution_count": 14,
   "id": "0d8139ff",
   "metadata": {},
   "outputs": [
    {
     "name": "stdout",
     "output_type": "stream",
     "text": [
      "^C\n"
     ]
    }
   ],
   "source": [
    "!pip uninstall tabula"
   ]
  },
  {
   "cell_type": "code",
   "execution_count": 13,
   "id": "9db6d745",
   "metadata": {},
   "outputs": [
    {
     "ename": "SyntaxError",
     "evalue": "invalid syntax (<ipython-input-13-ab2f23118102>, line 1)",
     "output_type": "error",
     "traceback": [
      "\u001b[1;36m  File \u001b[1;32m\"<ipython-input-13-ab2f23118102>\"\u001b[1;36m, line \u001b[1;32m1\u001b[0m\n\u001b[1;33m    from tabula-py import read_pdf\u001b[0m\n\u001b[1;37m               ^\u001b[0m\n\u001b[1;31mSyntaxError\u001b[0m\u001b[1;31m:\u001b[0m invalid syntax\n"
     ]
    }
   ],
   "source": [
    "from tabula import read_pdf\n",
    "# import tabula\n",
    "from tabulate import tabulate\n",
    "  \n",
    "#reads table from pdf file\n",
    "df = read_pdf(r\"C:\\Users\\DELL\\Desktop\\SalarySlip\\payslip_7_2021.pdf\",pages=\"all\") #address of pdf file\n",
    "print(tabulate(df))"
   ]
  },
  {
   "cell_type": "code",
   "execution_count": 21,
   "id": "58985ef2",
   "metadata": {},
   "outputs": [
    {
     "name": "stdout",
     "output_type": "stream",
     "text": [
      "Collecting PyMuPDF\n",
      "  Downloading PyMuPDF-1.18.16-cp39-cp39-win_amd64.whl (5.4 MB)\n",
      "Installing collected packages: PyMuPDF\n",
      "Successfully installed PyMuPDF-1.18.16\n"
     ]
    },
    {
     "name": "stderr",
     "output_type": "stream",
     "text": [
      "WARNING: You are using pip version 20.2.3; however, version 21.2.4 is available.\n",
      "You should consider upgrading via the 'c:\\users\\dell\\appdata\\local\\programs\\python\\python39\\python.exe -m pip install --upgrade pip' command.\n"
     ]
    }
   ],
   "source": [
    "!pip install PyMuPDF"
   ]
  },
  {
   "cell_type": "code",
   "execution_count": 49,
   "id": "4799b1a6",
   "metadata": {},
   "outputs": [
    {
     "name": "stdout",
     "output_type": "stream",
     "text": [
      "<class 'str'>\n",
      "Metlife Global Operations Support Center Pvt. Ltd\n",
      "Payslip for the month of Jul 2021\n",
      "Employee ID\n",
      "3340998\n",
      "Employee Name\n",
      "CHITRESH PRATAP SINGH\n",
      "Date Of Birth\n",
      "20/06/1991\n",
      "Date of Joining\n",
      "16/07/2018\n",
      "Designation\n",
      "Specialist - IT Operations\n",
      "Bank Name\n",
      "HDFC BANK\n",
      "Bank A/C No\n",
      "50100236476239\n",
      "PAN NO\n",
      "FFGPS9040C\n",
      "No Of Days/LOP/LOPR/Arrears Days\n",
      "31.00 / 0.00 / 0.00 / 0.00\n",
      "Location\n",
      "NOIDA, 144, OXYGEN PARK, LEVEL 11,12,14-TWR2\n",
      "Employee Grade\n",
      "09M\n",
      "PF No.\n",
      "DS/NHP/937252/19402\n",
      "Universal Account Number\n",
      "100127565855\n",
      "Department\n",
      "Reinsurance - IT Support 27839\n",
      "Gender\n",
      "Male\n",
      "Cost center\n",
      "85028839\n",
      "Aadhar No\n",
      "ESI No\n",
      "Earnings\n",
      "Reference Amount\n",
      "Amount\n",
      "Arrear Amount\n",
      "Total\n",
      "Year to Date\n",
      "Deductions\n",
      "Amount\n",
      "Year to Date\n",
      "Basic\n",
      "16,697.00\n",
      "16,697.00\n",
      "0.00\n",
      "16,697.00\n",
      "66,788.00\n",
      "Provident Fund (PF)\n",
      "2,004.00\n",
      "8,016.00\n",
      "H.R.A\n",
      "8,348.00\n",
      "8,348.00\n",
      "0.00\n",
      "8,348.00\n",
      "33,392.00\n",
      "Adhoc Allowance\n",
      "13,890.00\n",
      "13,890.00\n",
      "0.00\n",
      "13,890.00\n",
      "55,560.00\n",
      "P4P Monthly\n",
      "3,250.00\n",
      "3,250.00\n",
      "0.00\n",
      "3,250.00\n",
      "10,531.00\n",
      "WFH Infrastructure Assistance\n",
      "1,250.00\n",
      "1,250.00\n",
      "0.00\n",
      "1,250.00\n",
      "8,750.00\n",
      "Vaccination Incentive\n",
      "0.00\n",
      "0.00\n",
      "0.00\n",
      "0.00\n",
      "925.00\n",
      "Gross Earnings\n",
      "43,435.00\n",
      "175,946.00\n",
      "Gross Deductions\n",
      "2,004.00\n",
      "8,016.00\n",
      " \n",
      "Net Pay\n",
      "41,431.00\n",
      "Net Pay In Words\n",
      "Rupees Forty One Thousand Four Hundred And Thirty One Only\n",
      " \n",
      "Other Statutory Deductions\n",
      "Projected\n",
      "Year to Date\n",
      "Balance\n",
      "Income Tax\n",
      "0.00\n",
      "0.00\n",
      "0.00\n",
      "Profession Tax\n",
      "0.00\n",
      "0.00\n",
      "0.00\n",
      " \n",
      "Provident Fund(PF) Details\n",
      "Amount\n",
      "Year to Date\n",
      "Employee Contribution to PF\n",
      "2,004.00\n",
      "8,016.00\n",
      "Employee VPF Contribution\n",
      "0.00\n",
      "0.00\n",
      "Employer Contribution to EPS\n",
      "1,250.00\n",
      "5,000.00\n",
      "Employer Contribution to PF\n",
      "754.00\n",
      "3,016.00\n",
      "Note : This is a computer generated statement and does not require authentication.\n",
      "\n"
     ]
    }
   ],
   "source": [
    "import fitz\n",
    "\n",
    "pdf_document = r\"C:\\Users\\DELL\\Desktop\\SalarySlip\\payslip_7_2021.pdf\"\n",
    "doc = fitz.open(pdf_document)\n",
    "# print (\"number of pages: %i\" % doc.pageCount)\n",
    "# print(doc.metadata)\n",
    "page1 = doc.loadPage(0)\n",
    "page1text = page1.getText(\"text\")\n",
    "print(type(page1text))\n",
    "print(page1text)\n",
    "doc.close()"
   ]
  },
  {
   "cell_type": "code",
   "execution_count": 33,
   "id": "2a34a27a",
   "metadata": {},
   "outputs": [
    {
     "ename": "ValueError",
     "evalue": "DataFrame constructor not properly called!",
     "output_type": "error",
     "traceback": [
      "\u001b[1;31m---------------------------------------------------------------------------\u001b[0m",
      "\u001b[1;31mValueError\u001b[0m                                Traceback (most recent call last)",
      "\u001b[1;32m<ipython-input-33-cd966f61dbc1>\u001b[0m in \u001b[0;36m<module>\u001b[1;34m\u001b[0m\n\u001b[0;32m      1\u001b[0m \u001b[1;32mimport\u001b[0m \u001b[0mpandas\u001b[0m\u001b[1;33m\u001b[0m\u001b[1;33m\u001b[0m\u001b[0m\n\u001b[1;32m----> 2\u001b[1;33m \u001b[0mdf\u001b[0m\u001b[1;33m=\u001b[0m\u001b[0mpandas\u001b[0m\u001b[1;33m.\u001b[0m\u001b[0mDataFrame\u001b[0m\u001b[1;33m(\u001b[0m\u001b[0mpage1text\u001b[0m\u001b[1;33m)\u001b[0m\u001b[1;33m\u001b[0m\u001b[1;33m\u001b[0m\u001b[0m\n\u001b[0m\u001b[0;32m      3\u001b[0m \u001b[0mdf\u001b[0m\u001b[1;33m\u001b[0m\u001b[1;33m\u001b[0m\u001b[0m\n",
      "\u001b[1;32mc:\\users\\dell\\appdata\\local\\programs\\python\\python39\\lib\\site-packages\\pandas\\core\\frame.py\u001b[0m in \u001b[0;36m__init__\u001b[1;34m(self, data, index, columns, dtype, copy)\u001b[0m\n\u001b[0;32m    588\u001b[0m         \u001b[1;32melse\u001b[0m\u001b[1;33m:\u001b[0m\u001b[1;33m\u001b[0m\u001b[1;33m\u001b[0m\u001b[0m\n\u001b[0;32m    589\u001b[0m             \u001b[1;32mif\u001b[0m \u001b[0mindex\u001b[0m \u001b[1;32mis\u001b[0m \u001b[1;32mNone\u001b[0m \u001b[1;32mor\u001b[0m \u001b[0mcolumns\u001b[0m \u001b[1;32mis\u001b[0m \u001b[1;32mNone\u001b[0m\u001b[1;33m:\u001b[0m\u001b[1;33m\u001b[0m\u001b[1;33m\u001b[0m\u001b[0m\n\u001b[1;32m--> 590\u001b[1;33m                 \u001b[1;32mraise\u001b[0m \u001b[0mValueError\u001b[0m\u001b[1;33m(\u001b[0m\u001b[1;34m\"DataFrame constructor not properly called!\"\u001b[0m\u001b[1;33m)\u001b[0m\u001b[1;33m\u001b[0m\u001b[1;33m\u001b[0m\u001b[0m\n\u001b[0m\u001b[0;32m    591\u001b[0m \u001b[1;33m\u001b[0m\u001b[0m\n\u001b[0;32m    592\u001b[0m             \u001b[1;32mif\u001b[0m \u001b[1;32mnot\u001b[0m \u001b[0mdtype\u001b[0m\u001b[1;33m:\u001b[0m\u001b[1;33m\u001b[0m\u001b[1;33m\u001b[0m\u001b[0m\n",
      "\u001b[1;31mValueError\u001b[0m: DataFrame constructor not properly called!"
     ]
    }
   ],
   "source": [
    "import pandas\n",
    "df=pandas.DataFrame(page1text)\n",
    "df"
   ]
  },
  {
   "cell_type": "code",
   "execution_count": 41,
   "id": "8d255d68",
   "metadata": {},
   "outputs": [
    {
     "name": "stdout",
     "output_type": "stream",
     "text": [
      "Collecting tabula-py\n",
      "  Using cached tabula_py-2.3.0-py3-none-any.whl (12.0 MB)\n",
      "Requirement already satisfied: pandas>=0.25.3 in c:\\users\\dell\\appdata\\local\\programs\\python\\python39\\lib\\site-packages (from tabula-py) (1.2.4)\n",
      "Requirement already satisfied: numpy in c:\\users\\dell\\appdata\\local\\programs\\python\\python39\\lib\\site-packages (from tabula-py) (1.20.2)\n",
      "Requirement already satisfied: distro in c:\\users\\dell\\appdata\\local\\programs\\python\\python39\\lib\\site-packages (from tabula-py) (1.6.0)\n",
      "Requirement already satisfied: pytz>=2017.3 in c:\\users\\dell\\appdata\\local\\programs\\python\\python39\\lib\\site-packages (from pandas>=0.25.3->tabula-py) (2021.1)\n",
      "Requirement already satisfied: python-dateutil>=2.7.3 in c:\\users\\dell\\appdata\\local\\programs\\python\\python39\\lib\\site-packages (from pandas>=0.25.3->tabula-py) (2.8.1)\n",
      "Requirement already satisfied: six>=1.5 in c:\\users\\dell\\appdata\\local\\programs\\python\\python39\\lib\\site-packages (from python-dateutil>=2.7.3->pandas>=0.25.3->tabula-py) (1.15.0)\n",
      "Installing collected packages: tabula-py\n",
      "Successfully installed tabula-py-2.3.0\n"
     ]
    },
    {
     "name": "stderr",
     "output_type": "stream",
     "text": [
      "WARNING: You are using pip version 20.2.3; however, version 21.2.4 is available.\n",
      "You should consider upgrading via the 'c:\\users\\dell\\appdata\\local\\programs\\python\\python39\\python.exe -m pip install --upgrade pip' command.\n"
     ]
    },
    {
     "name": "stdout",
     "output_type": "stream",
     "text": [
      "Requirement already satisfied: tabulate in c:\\users\\dell\\appdata\\local\\programs\\python\\python39\\lib\\site-packages (0.8.9)\n"
     ]
    },
    {
     "name": "stderr",
     "output_type": "stream",
     "text": [
      "WARNING: You are using pip version 20.2.3; however, version 21.2.4 is available.\n",
      "You should consider upgrading via the 'c:\\users\\dell\\appdata\\local\\programs\\python\\python39\\python.exe -m pip install --upgrade pip' command.\n"
     ]
    }
   ],
   "source": [
    "!pip install tabula-py\n",
    "!pip install tabulate"
   ]
  },
  {
   "cell_type": "code",
   "execution_count": 48,
   "id": "3f8d540b",
   "metadata": {},
   "outputs": [
    {
     "ename": "ImportError",
     "evalue": "cannot import name 'wrapper' from 'tabula' (c:\\users\\dell\\appdata\\local\\programs\\python\\python39\\lib\\site-packages\\tabula\\__init__.py)",
     "output_type": "error",
     "traceback": [
      "\u001b[1;31m---------------------------------------------------------------------------\u001b[0m",
      "\u001b[1;31mImportError\u001b[0m                               Traceback (most recent call last)",
      "\u001b[1;32m<ipython-input-48-c571ce5db56d>\u001b[0m in \u001b[0;36m<module>\u001b[1;34m\u001b[0m\n\u001b[1;32m----> 1\u001b[1;33m \u001b[1;32mfrom\u001b[0m \u001b[0mtabula\u001b[0m \u001b[1;32mimport\u001b[0m \u001b[0mwrapper\u001b[0m\u001b[1;33m\u001b[0m\u001b[1;33m\u001b[0m\u001b[0m\n\u001b[0m\u001b[0;32m      2\u001b[0m \u001b[1;32mfrom\u001b[0m \u001b[0mtabulate\u001b[0m \u001b[1;32mimport\u001b[0m \u001b[0mtabulate\u001b[0m\u001b[1;33m\u001b[0m\u001b[1;33m\u001b[0m\u001b[0m\n\u001b[0;32m      3\u001b[0m \u001b[1;33m\u001b[0m\u001b[0m\n\u001b[0;32m      4\u001b[0m \u001b[1;31m#reads table from pdf file\u001b[0m\u001b[1;33m\u001b[0m\u001b[1;33m\u001b[0m\u001b[1;33m\u001b[0m\u001b[0m\n\u001b[0;32m      5\u001b[0m \u001b[0mfilePath\u001b[0m\u001b[1;33m=\u001b[0m\u001b[1;34mr\"C:\\Users\\DELL\\Desktop\\SalarySlip\\payslip_7_2021.pdf\"\u001b[0m\u001b[1;33m\u001b[0m\u001b[1;33m\u001b[0m\u001b[0m\n",
      "\u001b[1;31mImportError\u001b[0m: cannot import name 'wrapper' from 'tabula' (c:\\users\\dell\\appdata\\local\\programs\\python\\python39\\lib\\site-packages\\tabula\\__init__.py)"
     ]
    }
   ],
   "source": [
    "from tabula import wrapper\n",
    "from tabulate import tabulate\n",
    "  \n",
    "#reads table from pdf file\n",
    "filePath=r\"C:\\Users\\DELL\\Desktop\\SalarySlip\\payslip_7_2021.pdf\"\n",
    "df = wrapper.read_pdf(filePath,pages=\"all\") #address of pdf file\n",
    "print(tabulate(df))"
   ]
  }
 ],
 "metadata": {
  "kernelspec": {
   "display_name": "Python 3",
   "language": "python",
   "name": "python3"
  },
  "language_info": {
   "codemirror_mode": {
    "name": "ipython",
    "version": 3
   },
   "file_extension": ".py",
   "mimetype": "text/x-python",
   "name": "python",
   "nbconvert_exporter": "python",
   "pygments_lexer": "ipython3",
   "version": "3.9.4"
  }
 },
 "nbformat": 4,
 "nbformat_minor": 5
}

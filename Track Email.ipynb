{
 "cells": [
  {
   "cell_type": "code",
   "execution_count": null,
   "id": "7553851d",
   "metadata": {},
   "outputs": [
    {
     "name": "stdout",
     "output_type": "stream",
     "text": [
      "Email received\n"
     ]
    }
   ],
   "source": [
    "#  Execute Event on when received email item\n",
    "import win32com.client\n",
    "import pythoncom\n",
    "\n",
    "\n",
    "class Handler_Class:\n",
    "\n",
    "    def OnNewMailEx(self,receivedItemsIDs):\n",
    "        # ReceivedItemsIds is a collection of mail IDs separated by ','\n",
    "        # You know some, sometimes more than 1 mail is received at the same moment.\n",
    "\n",
    "        for ID in receivedItemsIDs.split(','):\n",
    "            mail=outlook.Session.GetItemFromID(ID)\n",
    "\n",
    "            # Write your code here that you want to execute.            \n",
    "            print (\"Email received\")  \n",
    "\n",
    "\n",
    "if __name__=='__main__':\n",
    "    outlook=win32com.client .DispatchWithEvents(\"Outlook.Application\",Handler_Class)\n",
    "    pythoncom.PumpMessages()"
   ]
  }
 ],
 "metadata": {
  "kernelspec": {
   "display_name": "Python 3",
   "language": "python",
   "name": "python3"
  },
  "language_info": {
   "codemirror_mode": {
    "name": "ipython",
    "version": 3
   },
   "file_extension": ".py",
   "mimetype": "text/x-python",
   "name": "python",
   "nbconvert_exporter": "python",
   "pygments_lexer": "ipython3",
   "version": "3.9.4"
  }
 },
 "nbformat": 4,
 "nbformat_minor": 5
}

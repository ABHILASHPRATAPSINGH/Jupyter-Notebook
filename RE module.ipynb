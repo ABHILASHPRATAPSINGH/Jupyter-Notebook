{
 "cells": [
  {
   "cell_type": "markdown",
   "id": "d17b5579",
   "metadata": {},
   "source": [
    "# Regular Expression\n",
    "***"
   ]
  },
  {
   "cell_type": "code",
   "execution_count": 1,
   "id": "a0c31691",
   "metadata": {},
   "outputs": [],
   "source": [
    " import re"
   ]
  },
  {
   "cell_type": "markdown",
   "id": "c523c9f9",
   "metadata": {},
   "source": [
    "### compile()\n",
    "used to make re object, inside it we have to pass those thing which i have to match in target string."
   ]
  },
  {
   "cell_type": "code",
   "execution_count": 27,
   "id": "f6e7a762",
   "metadata": {},
   "outputs": [],
   "source": [
    "pattern=re.compile('python')"
   ]
  },
  {
   "cell_type": "code",
   "execution_count": 28,
   "id": "9a492e87",
   "metadata": {},
   "outputs": [],
   "source": [
    "###finditer()\n",
    "# used to make target string\n",
    "matched=pattern.finditer('python is a launguage')\n"
   ]
  },
  {
   "cell_type": "code",
   "execution_count": 23,
   "id": "3d388587",
   "metadata": {},
   "outputs": [
    {
     "name": "stdout",
     "output_type": "stream",
     "text": [
      "0\n"
     ]
    }
   ],
   "source": [
    "# How to find index no of pattern in target string: by Start() method\n",
    "for i in matched:\n",
    "    print(i.start())\n"
   ]
  },
  {
   "cell_type": "code",
   "execution_count": 20,
   "id": "2a08982a",
   "metadata": {},
   "outputs": [
    {
     "name": "stdout",
     "output_type": "stream",
     "text": [
      "6\n"
     ]
    }
   ],
   "source": [
    "# How to finf end index no of pattern in target string: by End() method--> it return end index+1\n",
    "for i in matched:\n",
    "    print(i.end())"
   ]
  },
  {
   "cell_type": "code",
   "execution_count": 29,
   "id": "dff6255a",
   "metadata": {},
   "outputs": [
    {
     "name": "stdout",
     "output_type": "stream",
     "text": [
      "python\n"
     ]
    }
   ],
   "source": [
    "# How to find which thing will be matched in target string: by group()\n",
    "for i in matched:\n",
    "    print(i.group())"
   ]
  },
  {
   "cell_type": "code",
   "execution_count": 30,
   "id": "3556ac37",
   "metadata": {},
   "outputs": [
    {
     "name": "stdout",
     "output_type": "stream",
     "text": [
      "0 6 python\n"
     ]
    }
   ],
   "source": [
    "### if don't make 'pattern' varible then we have to pass pattern in finditer method\n",
    "matched=re.finditer('python','python is a laungauge')\n",
    "for i in matched:\n",
    "    print(i.start(),i.end(),i.group())\n"
   ]
  },
  {
   "cell_type": "markdown",
   "id": "f2575ade",
   "metadata": {},
   "source": [
    "# Charactor Classes:\n",
    "***\n",
    "\n",
    "\n"
   ]
  },
  {
   "cell_type": "code",
   "execution_count": 31,
   "id": "66c42f63",
   "metadata": {},
   "outputs": [],
   "source": [
    "#[abc]==>either a or b or c\n",
    "#[^abc]==>except a and b and c\n",
    "#[a-z]==>any lower case alphabet character\n",
    "#[A-Z]==any upper case\n",
    "#[a-zA-A]==>any alphabet\n",
    "#[0-9]==>any numeric\n",
    "#[a-zA-Z0-9]==>any alpha-numeric character\n",
    "#[^a-zA-Z0-9]==>any special character"
   ]
  },
  {
   "cell_type": "markdown",
   "id": "bac61b8f",
   "metadata": {},
   "source": [
    "# Predefined character classes:-\n",
    "***"
   ]
  },
  {
   "cell_type": "code",
   "execution_count": 33,
   "id": "6c9da9ac",
   "metadata": {},
   "outputs": [],
   "source": [
    "#\\s==>space character\n",
    "#\\S==>except space character\n",
    "#\\d==>any digit\n",
    "#\\D==>except digit\n",
    "#\\w==>any alpha numeric character it is equal to [a-zA-Z0-9]\n",
    "#\\W==>except alpha numeric character mtlb ki special character it is equal to [^a-zA-Z0-9]\n",
    "#.==>every character\n",
    "#\\. or [.]==> use dot(.) as dot\n"
   ]
  },
  {
   "cell_type": "markdown",
   "id": "36ba7c8d",
   "metadata": {},
   "source": [
    "# Quantifiers:-\n",
    "***"
   ]
  },
  {
   "cell_type": "code",
   "execution_count": 34,
   "id": "abae9ae2",
   "metadata": {},
   "outputs": [],
   "source": [
    "# a==> exactly one \"a\"\n",
    "# a+==> atleast one \"a\"\n",
    "# a*==> any no. of 'a' including zero number also\n",
    "# a?==> atmost one a( either one or zero number of 'a')\n",
    "# a{n}==> 'n' number of 'a'\n",
    "# a{m,n}==> minimum m no. of a and maximum n no. of 'a'\n",
    "\n",
    "# Note:-\n",
    "#    [^a]==> except a\n",
    "#     ^a==> check is target string start with a or not\n",
    "#     a$==> to check is target string ends wih \"a\""
   ]
  },
  {
   "cell_type": "markdown",
   "id": "48fa6491",
   "metadata": {},
   "source": [
    "# Import method of re module"
   ]
  },
  {
   "cell_type": "code",
   "execution_count": 35,
   "id": "218b1b1f",
   "metadata": {},
   "outputs": [],
   "source": [
    "#match()\n",
    "# fullmatch()\n",
    "# search()\n",
    "# findall()\n",
    "# finditer()\n",
    "# sub()\n",
    "# subn()\n",
    "# split()\n",
    "# compile()\n",
    "\n",
    "# Note:- below three two will work on matched object only\n",
    "\n",
    "# start()-get index of matched object in target string\n",
    "# group()- to get matched element\n",
    "# end()- get end+1 index of matched object in target string"
   ]
  },
  {
   "cell_type": "code",
   "execution_count": null,
   "id": "9c4e793e",
   "metadata": {},
   "outputs": [],
   "source": []
  },
  {
   "cell_type": "code",
   "execution_count": null,
   "id": "e40d362e",
   "metadata": {},
   "outputs": [],
   "source": [
    "# match ():- it used to check whether given pattern is available at begining of target string or not, if it present at begingin the it will return matched object otherwise it will return none.\n",
    "# fullmatch():- it used to check wheter given pattern is full matched with target string or not, if it full matched then it will matched object, otherwise it will return none.\n",
    "# search():- it used to check whether given pattern is available anywhere in target string or not, if it is available then it return first occurence matched object, otherwise it will return none.\n",
    "# finall():- it used to check whether given pattern is available anywhere in target string or not, if it si available then it will return all occurence matched things in form of list, otherwise it will return\n",
    "# finditer():- it used to check whether given pattern is available anywhere in target string or not, it it is available then it will return iterator of matched object otherwise if will return none\n",
    "# sub():- it used to subsitue given element to the target string if pattern match everywhere in target string.\n",
    "# subn():- it used to subsitute the given element and get no. of times will be substitue. it will return result in tuple, 1st tuple is substitue string and 2nd tuple is no. of time will be subsitute.\n",
    "# split();- it will split the target sting according to pattern match anywhere in target string, it return result in form of list\n"
   ]
  },
  {
   "cell_type": "code",
   "execution_count": 38,
   "id": "41a05b4c",
   "metadata": {},
   "outputs": [
    {
     "name": "stdout",
     "output_type": "stream",
     "text": [
      "<class 're.Match'>\n",
      "0\n",
      "<class 're.Match'>\n",
      "3\n",
      "<class 're.Match'>\n",
      "6\n"
     ]
    }
   ],
   "source": [
    "import re\n",
    "matcher=re.finditer('a','abdajfa')\n",
    "for m in matcher:\n",
    "    print(type(m))\n",
    "    print(m.start())"
   ]
  }
 ],
 "metadata": {
  "kernelspec": {
   "display_name": "Python 3",
   "language": "python",
   "name": "python3"
  },
  "language_info": {
   "codemirror_mode": {
    "name": "ipython",
    "version": 3
   },
   "file_extension": ".py",
   "mimetype": "text/x-python",
   "name": "python",
   "nbconvert_exporter": "python",
   "pygments_lexer": "ipython3",
   "version": "3.9.4"
  }
 },
 "nbformat": 4,
 "nbformat_minor": 5
}

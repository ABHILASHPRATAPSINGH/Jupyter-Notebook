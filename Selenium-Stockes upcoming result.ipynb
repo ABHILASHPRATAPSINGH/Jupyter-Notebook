{
 "cells": [
  {
   "cell_type": "code",
   "execution_count": 8,
   "id": "a08c2209",
   "metadata": {},
   "outputs": [
    {
     "name": "stdout",
     "output_type": "stream",
     "text": [
      "net connect\n"
     ]
    },
    {
     "ename": "NoSuchElementException",
     "evalue": "Message: no such element: Unable to locate element: {\"method\":\"css selector\",\"selector\":\"[id=\"ContentPlaceHolder1_lnkDownload\"]\"}\n  (Session info: MicrosoftEdge=91.0.864.71)\n",
     "output_type": "error",
     "traceback": [
      "\u001b[1;31m---------------------------------------------------------------------------\u001b[0m",
      "\u001b[1;31mNoSuchElementException\u001b[0m                    Traceback (most recent call last)",
      "\u001b[1;32m<ipython-input-8-76d5a145202c>\u001b[0m in \u001b[0;36m<module>\u001b[1;34m\u001b[0m\n\u001b[0;32m     11\u001b[0m     \u001b[0mprint\u001b[0m\u001b[1;33m(\u001b[0m\u001b[1;34m\"net connect\"\u001b[0m\u001b[1;33m)\u001b[0m\u001b[1;33m\u001b[0m\u001b[1;33m\u001b[0m\u001b[0m\n\u001b[0;32m     12\u001b[0m \u001b[1;33m\u001b[0m\u001b[0m\n\u001b[1;32m---> 13\u001b[1;33m \u001b[0mdwnl\u001b[0m\u001b[1;33m=\u001b[0m\u001b[0mbrowser\u001b[0m\u001b[1;33m.\u001b[0m\u001b[0mfind_element_by_id\u001b[0m\u001b[1;33m(\u001b[0m\u001b[1;34m'ContentPlaceHolder1_lnkDownload'\u001b[0m\u001b[1;33m)\u001b[0m\u001b[1;33m\u001b[0m\u001b[1;33m\u001b[0m\u001b[0m\n\u001b[0m\u001b[0;32m     14\u001b[0m \u001b[0mdwnl\u001b[0m\u001b[1;33m.\u001b[0m\u001b[0mclick\u001b[0m\u001b[1;33m(\u001b[0m\u001b[1;33m)\u001b[0m\u001b[1;33m\u001b[0m\u001b[1;33m\u001b[0m\u001b[0m\n",
      "\u001b[1;32mc:\\users\\dell\\appdata\\local\\programs\\python\\python39\\lib\\site-packages\\selenium\\webdriver\\remote\\webdriver.py\u001b[0m in \u001b[0;36mfind_element_by_id\u001b[1;34m(self, id_)\u001b[0m\n\u001b[0;32m    358\u001b[0m             \u001b[0melement\u001b[0m \u001b[1;33m=\u001b[0m \u001b[0mdriver\u001b[0m\u001b[1;33m.\u001b[0m\u001b[0mfind_element_by_id\u001b[0m\u001b[1;33m(\u001b[0m\u001b[1;34m'foo'\u001b[0m\u001b[1;33m)\u001b[0m\u001b[1;33m\u001b[0m\u001b[1;33m\u001b[0m\u001b[0m\n\u001b[0;32m    359\u001b[0m         \"\"\"\n\u001b[1;32m--> 360\u001b[1;33m         \u001b[1;32mreturn\u001b[0m \u001b[0mself\u001b[0m\u001b[1;33m.\u001b[0m\u001b[0mfind_element\u001b[0m\u001b[1;33m(\u001b[0m\u001b[0mby\u001b[0m\u001b[1;33m=\u001b[0m\u001b[0mBy\u001b[0m\u001b[1;33m.\u001b[0m\u001b[0mID\u001b[0m\u001b[1;33m,\u001b[0m \u001b[0mvalue\u001b[0m\u001b[1;33m=\u001b[0m\u001b[0mid_\u001b[0m\u001b[1;33m)\u001b[0m\u001b[1;33m\u001b[0m\u001b[1;33m\u001b[0m\u001b[0m\n\u001b[0m\u001b[0;32m    361\u001b[0m \u001b[1;33m\u001b[0m\u001b[0m\n\u001b[0;32m    362\u001b[0m     \u001b[1;32mdef\u001b[0m \u001b[0mfind_elements_by_id\u001b[0m\u001b[1;33m(\u001b[0m\u001b[0mself\u001b[0m\u001b[1;33m,\u001b[0m \u001b[0mid_\u001b[0m\u001b[1;33m)\u001b[0m\u001b[1;33m:\u001b[0m\u001b[1;33m\u001b[0m\u001b[1;33m\u001b[0m\u001b[0m\n",
      "\u001b[1;32mc:\\users\\dell\\appdata\\local\\programs\\python\\python39\\lib\\site-packages\\selenium\\webdriver\\remote\\webdriver.py\u001b[0m in \u001b[0;36mfind_element\u001b[1;34m(self, by, value)\u001b[0m\n\u001b[0;32m    974\u001b[0m                 \u001b[0mby\u001b[0m \u001b[1;33m=\u001b[0m \u001b[0mBy\u001b[0m\u001b[1;33m.\u001b[0m\u001b[0mCSS_SELECTOR\u001b[0m\u001b[1;33m\u001b[0m\u001b[1;33m\u001b[0m\u001b[0m\n\u001b[0;32m    975\u001b[0m                 \u001b[0mvalue\u001b[0m \u001b[1;33m=\u001b[0m \u001b[1;34m'[name=\"%s\"]'\u001b[0m \u001b[1;33m%\u001b[0m \u001b[0mvalue\u001b[0m\u001b[1;33m\u001b[0m\u001b[1;33m\u001b[0m\u001b[0m\n\u001b[1;32m--> 976\u001b[1;33m         return self.execute(Command.FIND_ELEMENT, {\n\u001b[0m\u001b[0;32m    977\u001b[0m             \u001b[1;34m'using'\u001b[0m\u001b[1;33m:\u001b[0m \u001b[0mby\u001b[0m\u001b[1;33m,\u001b[0m\u001b[1;33m\u001b[0m\u001b[1;33m\u001b[0m\u001b[0m\n\u001b[0;32m    978\u001b[0m             'value': value})['value']\n",
      "\u001b[1;32mc:\\users\\dell\\appdata\\local\\programs\\python\\python39\\lib\\site-packages\\selenium\\webdriver\\remote\\webdriver.py\u001b[0m in \u001b[0;36mexecute\u001b[1;34m(self, driver_command, params)\u001b[0m\n\u001b[0;32m    319\u001b[0m         \u001b[0mresponse\u001b[0m \u001b[1;33m=\u001b[0m \u001b[0mself\u001b[0m\u001b[1;33m.\u001b[0m\u001b[0mcommand_executor\u001b[0m\u001b[1;33m.\u001b[0m\u001b[0mexecute\u001b[0m\u001b[1;33m(\u001b[0m\u001b[0mdriver_command\u001b[0m\u001b[1;33m,\u001b[0m \u001b[0mparams\u001b[0m\u001b[1;33m)\u001b[0m\u001b[1;33m\u001b[0m\u001b[1;33m\u001b[0m\u001b[0m\n\u001b[0;32m    320\u001b[0m         \u001b[1;32mif\u001b[0m \u001b[0mresponse\u001b[0m\u001b[1;33m:\u001b[0m\u001b[1;33m\u001b[0m\u001b[1;33m\u001b[0m\u001b[0m\n\u001b[1;32m--> 321\u001b[1;33m             \u001b[0mself\u001b[0m\u001b[1;33m.\u001b[0m\u001b[0merror_handler\u001b[0m\u001b[1;33m.\u001b[0m\u001b[0mcheck_response\u001b[0m\u001b[1;33m(\u001b[0m\u001b[0mresponse\u001b[0m\u001b[1;33m)\u001b[0m\u001b[1;33m\u001b[0m\u001b[1;33m\u001b[0m\u001b[0m\n\u001b[0m\u001b[0;32m    322\u001b[0m             response['value'] = self._unwrap_value(\n\u001b[0;32m    323\u001b[0m                 response.get('value', None))\n",
      "\u001b[1;32mc:\\users\\dell\\appdata\\local\\programs\\python\\python39\\lib\\site-packages\\selenium\\webdriver\\remote\\errorhandler.py\u001b[0m in \u001b[0;36mcheck_response\u001b[1;34m(self, response)\u001b[0m\n\u001b[0;32m    240\u001b[0m                 \u001b[0malert_text\u001b[0m \u001b[1;33m=\u001b[0m \u001b[0mvalue\u001b[0m\u001b[1;33m[\u001b[0m\u001b[1;34m'alert'\u001b[0m\u001b[1;33m]\u001b[0m\u001b[1;33m.\u001b[0m\u001b[0mget\u001b[0m\u001b[1;33m(\u001b[0m\u001b[1;34m'text'\u001b[0m\u001b[1;33m)\u001b[0m\u001b[1;33m\u001b[0m\u001b[1;33m\u001b[0m\u001b[0m\n\u001b[0;32m    241\u001b[0m             \u001b[1;32mraise\u001b[0m \u001b[0mexception_class\u001b[0m\u001b[1;33m(\u001b[0m\u001b[0mmessage\u001b[0m\u001b[1;33m,\u001b[0m \u001b[0mscreen\u001b[0m\u001b[1;33m,\u001b[0m \u001b[0mstacktrace\u001b[0m\u001b[1;33m,\u001b[0m \u001b[0malert_text\u001b[0m\u001b[1;33m)\u001b[0m\u001b[1;33m\u001b[0m\u001b[1;33m\u001b[0m\u001b[0m\n\u001b[1;32m--> 242\u001b[1;33m         \u001b[1;32mraise\u001b[0m \u001b[0mexception_class\u001b[0m\u001b[1;33m(\u001b[0m\u001b[0mmessage\u001b[0m\u001b[1;33m,\u001b[0m \u001b[0mscreen\u001b[0m\u001b[1;33m,\u001b[0m \u001b[0mstacktrace\u001b[0m\u001b[1;33m)\u001b[0m\u001b[1;33m\u001b[0m\u001b[1;33m\u001b[0m\u001b[0m\n\u001b[0m\u001b[0;32m    243\u001b[0m \u001b[1;33m\u001b[0m\u001b[0m\n\u001b[0;32m    244\u001b[0m     \u001b[1;32mdef\u001b[0m \u001b[0m_value_or_default\u001b[0m\u001b[1;33m(\u001b[0m\u001b[0mself\u001b[0m\u001b[1;33m,\u001b[0m \u001b[0mobj\u001b[0m\u001b[1;33m,\u001b[0m \u001b[0mkey\u001b[0m\u001b[1;33m,\u001b[0m \u001b[0mdefault\u001b[0m\u001b[1;33m)\u001b[0m\u001b[1;33m:\u001b[0m\u001b[1;33m\u001b[0m\u001b[1;33m\u001b[0m\u001b[0m\n",
      "\u001b[1;31mNoSuchElementException\u001b[0m: Message: no such element: Unable to locate element: {\"method\":\"css selector\",\"selector\":\"[id=\"ContentPlaceHolder1_lnkDownload\"]\"}\n  (Session info: MicrosoftEdge=91.0.864.71)\n"
     ]
    }
   ],
   "source": [
    "\n",
    "from selenium import webdriver\n",
    "from selenium.common.exceptions import WebDriverException\n",
    "\n",
    "# browser = webdriver.Chrome(\"/path to/chromedriver\")\n",
    "browser=webdriver.Edge(r\"C:\\Users\\DELL\\Downloads\\msedgedriver.exe\")\n",
    "#navigates you to the facebook page.\n",
    "try:\n",
    "    browser.get('https://www.bseindia.com/corporates/Forth_Results.aspx')\n",
    "\n",
    "except WebDriverException:\n",
    "    print(\"net connect\")\n",
    "\n",
    "dwnl=browser.find_element_by_id('ContentPlaceHolder1_lnkDownload')\n",
    "dwnl.click()  "
   ]
  },
  {
   "cell_type": "code",
   "execution_count": null,
   "id": "4333924e",
   "metadata": {},
   "outputs": [],
   "source": []
  },
  {
   "cell_type": "code",
   "execution_count": null,
   "id": "57953933",
   "metadata": {},
   "outputs": [],
   "source": [
    "#execute java script\n",
    "from selenium import webdriver\n",
    "from selenium.common.exceptions import WebDriverException\n",
    "\n",
    "browser=webdriver.Edge(r\"C:\\Users\\DELL\\Downloads\\msedgedriver.exe\")\n",
    "\n",
    "browser.execute_script(\"document.getElementById('ContentPlaceHolder1_lnkDownload').click()\")"
   ]
  },
  {
   "cell_type": "code",
   "execution_count": 85,
   "id": "cd7a893e",
   "metadata": {},
   "outputs": [],
   "source": [
    "\n",
    "from selenium import webdriver\n",
    "from selenium.common.exceptions import WebDriverException\n",
    "\n",
    "browser=webdriver.Edge(r\"C:\\Users\\DELL\\Downloads\\msedgedriver.exe\")\n",
    "try:\n",
    "    browser.get('https://www.bseindia.com/corporates/Forth_Results.aspx')\n",
    "    viewStateGenerator=browser.find_element_by_id(\"__VIEWSTATEGENERATOR\").get_attribute(\"value\")\n",
    "    eventValidation=browser.find_element_by_id(\"__EVENTVALIDATION\").get_attribute(\"value\")\n",
    "    viewState=browser.find_element_by_id(\"__VIEWSTATE\").get_attribute(\"value\")\n",
    "    currentDate=browser.find_element_by_id(\"ContentPlaceHolder1_hidCurrentDate\").get_attribute(\"value\")\n",
    "except WebDriverException:\n",
    "    print(\"net connect\")\n",
    "\n",
    "    \n"
   ]
  },
  {
   "cell_type": "code",
   "execution_count": 61,
   "id": "5993d7a5",
   "metadata": {},
   "outputs": [],
   "source": []
  },
  {
   "cell_type": "code",
   "execution_count": 14,
   "id": "5e7a6dc0",
   "metadata": {},
   "outputs": [
    {
     "name": "stdout",
     "output_type": "stream",
     "text": [
      "<class 'NoneType'>\n"
     ]
    }
   ],
   "source": [
    "print(type(browser))"
   ]
  },
  {
   "cell_type": "code",
   "execution_count": 31,
   "id": "542cdc7b",
   "metadata": {},
   "outputs": [
    {
     "name": "stdout",
     "output_type": "stream",
     "text": [
      "['__annotations__', '__call__', '__class__', '__closure__', '__code__', '__defaults__', '__delattr__', '__dict__', '__dir__', '__doc__', '__eq__', '__format__', '__ge__', '__get__', '__getattribute__', '__globals__', '__gt__', '__hash__', '__init__', '__init_subclass__', '__kwdefaults__', '__le__', '__lt__', '__module__', '__name__', '__ne__', '__new__', '__qualname__', '__reduce__', '__reduce_ex__', '__repr__', '__setattr__', '__sizeof__', '__str__', '__subclasshook__']\n"
     ]
    }
   ],
   "source": [
    "print(dir(selenium.webdriver.edge.webdriver.WebDriver.find_element_by_id))"
   ]
  },
  {
   "cell_type": "code",
   "execution_count": 63,
   "id": "c361fa34",
   "metadata": {
    "collapsed": true
   },
   "outputs": [
    {
     "data": {
      "text/plain": [
       "{'authority': 'www.bseindia.com',\n",
       " 'method': 'POST',\n",
       " 'path': '/corporates/Forth_Results.aspx',\n",
       " 'scheme': 'https',\n",
       " 'accept': 'text/html,application/xhtml+xml,application/xml;q=0.9,image/avif,image/webp,image/apng,*/*;q=0.8,application/signed-exchange;v=b3;q=0.9',\n",
       " 'accept-encoding': 'gzip, deflate, br',\n",
       " 'accept-language': 'en-US,en;q=0.9',\n",
       " 'cache-control': 'max-age=0',\n",
       " 'content-length': '7905',\n",
       " 'content-type': 'application/x-www-form-urlencoded',\n",
       " 'cookie': '__gads=ID=0d45eb91bd2e7cf1:T=1621058718:S=ALNI_MZCnOm0cz8fukQz4lJMkpOsBr2ozA; _ga=GA1.2.306190080.1621058719; _gid=GA1.2.2050543156.1621058720; gabseCookie=GA1.3.306190080.1621058719; gabseCookie_gid=GA1.3.776251068.1621058720; ASP.NET_SessionId=esegsa5mazseinvttqzunesh; RT=\"z=1&dm=bseindia.com&si=46cbe93f-6116-4701-8fdf-7ebdb1e4cf8f&ss=kopci5f3&sl=1&tt=531&bcn=%2F%2F684fc539.akstat.io%2F&nu=4cx1wclz&cl=sjtp&ul=sju9\"',\n",
       " 'origin': 'https://www.bseindia.com',\n",
       " 'referer': 'https://www.bseindia.com/corporates/Forth_Results.aspx',\n",
       " 'sec-ch-ua': '\" Not A;Brand\";v=\"99\", \"Chromium\";v=\"90\", \"Google Chrome\";v=\"90\"',\n",
       " 'sec-ch-ua-mobile': '?0',\n",
       " 'sec-fetch-dest': 'document',\n",
       " 'sec-fetch-mode': 'navigate',\n",
       " 'sec-fetch-site': 'same-origin',\n",
       " 'sec-fetch-user': '?1',\n",
       " 'upgrade-insecure-requests': '1',\n",
       " 'user-agent': 'Mozilla/5.0 (Windows NT 10.0; Win64; x64) AppleWebKit/537.36 (KHTML, like Gecko) Chrome/90.0.4430.212 Safari/537.36'}"
      ]
     },
     "execution_count": 63,
     "metadata": {},
     "output_type": "execute_result"
    }
   ],
   "source": [
    "headers={\n",
    "    \"authority\": \"www.bseindia.com\",\n",
    "    \"method\": \"POST\",\n",
    "    \"path\": \"/corporates/Forth_Results.aspx\",\n",
    "    \"scheme\": \"https\",\n",
    "    \"accept\": \"text/html,application/xhtml+xml,application/xml;q=0.9,image/avif,image/webp,image/apng,*/*;q=0.8,application/signed-exchange;v=b3;q=0.9\",\n",
    "    \"accept-encoding\": \"gzip, deflate, br\",\n",
    "    \"accept-language\": \"en-US,en;q=0.9\",\n",
    "    \"cache-control\": \"max-age=0\",\n",
    "    \"content-length\": \"7905\",\n",
    "    \"content-type\": \"application/x-www-form-urlencoded\",\n",
    "    \"cookie\": \"__gads=ID=0d45eb91bd2e7cf1:T=1621058718:S=ALNI_MZCnOm0cz8fukQz4lJMkpOsBr2ozA; _ga=GA1.2.306190080.1621058719; _gid=GA1.2.2050543156.1621058720; gabseCookie=GA1.3.306190080.1621058719; gabseCookie_gid=GA1.3.776251068.1621058720; ASP.NET_SessionId=esegsa5mazseinvttqzunesh; RT=\\\"z=1&dm=bseindia.com&si=46cbe93f-6116-4701-8fdf-7ebdb1e4cf8f&ss=kopci5f3&sl=1&tt=531&bcn=%2F%2F684fc539.akstat.io%2F&nu=4cx1wclz&cl=sjtp&ul=sju9\\\"\",\n",
    "    \"origin\": \"https://www.bseindia.com\",\n",
    "    \"referer\": \"https://www.bseindia.com/corporates/Forth_Results.aspx\",\n",
    "    \"sec-ch-ua\": \"\\\" Not A;Brand\\\";v=\\\"99\\\", \\\"Chromium\\\";v=\\\"90\\\", \\\"Google Chrome\\\";v=\\\"90\\\"\",\n",
    "    \"sec-ch-ua-mobile\": \"?0\",\n",
    "    \"sec-fetch-dest\": \"document\",\n",
    "    \"sec-fetch-mode\": \"navigate\",\n",
    "    \"sec-fetch-site\": \"same-origin\",\n",
    "    \"sec-fetch-user\": \"?1\",\n",
    "    \"upgrade-insecure-requests\": \"1\",\n",
    "    \"user-agent\": \"Mozilla/5.0 (Windows NT 10.0; Win64; x64) AppleWebKit/537.36 (KHTML, like Gecko) Chrome/90.0.4430.212 Safari/537.36\"\n",
    "}\n",
    "headers"
   ]
  },
  {
   "cell_type": "code",
   "execution_count": 89,
   "id": "8e939b2b",
   "metadata": {},
   "outputs": [],
   "source": [
    "import requests\n",
    "\n",
    "toDate=\"30/05/2021\"\n",
    "fromDate=\"17/05/2021\"\n",
    "__viewState=viewState\n",
    "__viewStateGenerator=viewStateGenerator\n",
    "__viewStateValidation=eventValidation\n",
    "__currentDate=currentDate\n",
    "fdata={\n",
    "    \"__EVENTTARGET\": \"ctl00$ContentPlaceHolder1$lnkDownload\",\n",
    "#     \"__EVENTARGUMENT\": \n",
    "    \"__VIEWSTATE\": __viewState,\n",
    "    \"__VIEWSTATEGENERATOR\": __viewStateGenerator,\n",
    "    \"__EVENTVALIDATION\": __viewStateValidation,\n",
    "# ctl00$ContentPlaceHolder1$DDate: \n",
    "    \"ctl00$ContentPlaceHolder1$hidCurrentDate\": __currentDate,\n",
    "    \"ctl00$ContentPlaceHolder1$txtDate\": fromDate,\n",
    "    \"ctl00$ContentPlaceHolder1$txtTodate\": toDate\n",
    "    \n",
    "# ctl00$ContentPlaceHolder1$SmartSearch$hdnCode: \n",
    "# ctl00$ContentPlaceHolder1$SmartSearch$smartSearch: \n",
    "# ctl00$ContentPlaceHolder1$hf_scripcode: \n",
    "# ctl00$ContentPlaceHolder1$hdnCode: \n",
    "}\n",
    "resp=requests.post(\"https://www.bseindia.com/corporates/Forth_Results.aspx\",headers=headers,data=fdata)"
   ]
  },
  {
   "cell_type": "code",
   "execution_count": 90,
   "id": "c7af8dd0",
   "metadata": {},
   "outputs": [],
   "source": [
    "if resp.status_code == 200:\n",
    "    with open(r\"C:\\Users\\DELL\\Desktop\\Kpython\\k.csv\", 'wb') as f:\n",
    "        for chunk in resp.iter_content(1024):\n",
    "            f.write(chunk)"
   ]
  },
  {
   "cell_type": "code",
   "execution_count": 56,
   "id": "703e8bc4",
   "metadata": {},
   "outputs": [],
   "source": [
    "import requests\n",
    "path=r\"C:\\Users\\DELL\\Desktop\\Kpython RND folder\\j.png\"\n",
    "dwnld=requests.get('https://images-cdn.9gag.com/photo/a8peo76_700b.jpg',stream=True)\n",
    "if dwnld.status_code == 200:\n",
    "    with open(path, 'wb') as f:\n",
    "        for chunk in dwnld.iter_content(1024):\n",
    "            f.write(chunk)"
   ]
  },
  {
   "cell_type": "code",
   "execution_count": 1,
   "id": "14a3e543",
   "metadata": {},
   "outputs": [],
   "source": [
    "import requests\n",
    "path=r\"C:\\Users\\DELL\\Desktop\\Kpython RND folder\\j.png\"\n",
    "dwnld=requests.get('https://i.ytimg.com/vi/9CkvFgGVXV4/maxresdefault.jpg',stream=True)\n",
    "if dwnld.status_code == 200:\n",
    "    with open(path, 'wb') as f:\n",
    "        for chunk in dwnld.iter_content(1024):\n",
    "            f.write(chunk)"
   ]
  },
  {
   "cell_type": "code",
   "execution_count": null,
   "id": "c553de01",
   "metadata": {},
   "outputs": [],
   "source": [
    "class ExtractData:\n",
    "    \n",
    "    def ExtractingUpComingResult(self):\n",
    "        browser=webdriver.Edge(r\"C:\\Users\\DELL\\Downloads\\msedgedriver.exe\")\n",
    "        browser.get('https://www.bseindia.com/corporates/Forth_Results.aspx')\n",
    "        viewStateGenerator=browser.find_element_by_id(\"__VIEWSTATEGENERATOR\").get_attribute(\"value\")\n",
    "        eventValidation=browser.find_element_by_id(\"__EVENTVALIDATION\").get_attribute(\"value\")\n",
    "        viewState=browser.find_element_by_id(\"__VIEWSTATE\").get_attribute(\"value\")\n",
    "        currentDate=browser.find_element_by_id(\"ContentPlaceHolder1_hidCurrentDate\").get_attribute(\"value\")\n",
    "        headers={\n",
    "                    \"authority\": \"www.bseindia.com\",\n",
    "                    \"method\": \"POST\",\n",
    "                    \"path\": \"/corporates/Forth_Results.aspx\",\n",
    "                    \"scheme\": \"https\",\n",
    "                    \"accept\": \"text/html,application/xhtml+xml,application/xml;q=0.9,image/avif,image/webp,image/apng,*/*;q=0.8,application/signed-exchange;v=b3;q=0.9\",\n",
    "                    \"accept-encoding\": \"gzip, deflate, br\",\n",
    "                    \"accept-language\": \"en-US,en;q=0.9\",\n",
    "                    \"cache-control\": \"max-age=0\",\n",
    "                    \"content-length\": \"7905\",\n",
    "                    \"content-type\": \"application/x-www-form-urlencoded\",\n",
    "                    \"cookie\": \"__gads=ID=0d45eb91bd2e7cf1:T=1621058718:S=ALNI_MZCnOm0cz8fukQz4lJMkpOsBr2ozA; _ga=GA1.2.306190080.1621058719; _gid=GA1.2.2050543156.1621058720; gabseCookie=GA1.3.306190080.1621058719; gabseCookie_gid=GA1.3.776251068.1621058720; ASP.NET_SessionId=esegsa5mazseinvttqzunesh; RT=\\\"z=1&dm=bseindia.com&si=46cbe93f-6116-4701-8fdf-7ebdb1e4cf8f&ss=kopci5f3&sl=1&tt=531&bcn=%2F%2F684fc539.akstat.io%2F&nu=4cx1wclz&cl=sjtp&ul=sju9\\\"\",\n",
    "                    \"origin\": \"https://www.bseindia.com\",\n",
    "                    \"referer\": \"https://www.bseindia.com/corporates/Forth_Results.aspx\",\n",
    "                    \"sec-ch-ua\": \"\\\" Not A;Brand\\\";v=\\\"99\\\", \\\"Chromium\\\";v=\\\"90\\\", \\\"Google Chrome\\\";v=\\\"90\\\"\",\n",
    "                    \"sec-ch-ua-mobile\": \"?0\",\n",
    "                    \"sec-fetch-dest\": \"document\",\n",
    "                    \"sec-fetch-mode\": \"navigate\",\n",
    "                    \"sec-fetch-site\": \"same-origin\",\n",
    "                    \"sec-fetch-user\": \"?1\",\n",
    "                    \"upgrade-insecure-requests\": \"1\",\n",
    "                    \"user-agent\": \"Mozilla/5.0 (Windows NT 10.0; Win64; x64) AppleWebKit/537.36 (KHTML, like Gecko) Chrome/90.0.4430.212 Safari/537.36\"\n",
    "                }\n",
    "        \n",
    "\n",
    "        toDate=\"30/05/2021\"\n",
    "        fromDate=\"17/05/2021\"\n",
    "        __viewState=viewState\n",
    "        __viewStateGenerator=viewStateGenerator\n",
    "        __viewStateValidation=eventValidation\n",
    "        __currentDate=currentDate\n",
    "        fdata={\n",
    "            \"__EVENTTARGET\": \"ctl00$ContentPlaceHolder1$lnkDownload\",\n",
    "         \n",
    "            \"__VIEWSTATE\": __viewState,\n",
    "            \"__VIEWSTATEGENERATOR\": __viewStateGenerator,\n",
    "            \"__EVENTVALIDATION\": __viewStateValidation,\n",
    "         \n",
    "            \"ctl00$ContentPlaceHolder1$hidCurrentDate\": __currentDate,\n",
    "            \"ctl00$ContentPlaceHolder1$txtDate\": fromDate,\n",
    "            \"ctl00$ContentPlaceHolder1$txtTodate\": toDate\n",
    "\n",
    "                }\n",
    "        resp=requests.post(\"https://www.bseindia.com/corporates/Forth_Results.aspx\",headers=headers,data=fdata)\n",
    "        if resp.status_code == 200:\n",
    "            with open(r\"C:\\Users\\DELL\\Desktop\\kPython RNd folder\\StockesUpcomingResult.csv\", 'wb') as f:\n",
    "                for chunk in resp.iter_content(1024):\n",
    "                    f.write(chunk)\n",
    "                \n",
    "    \n",
    "    "
   ]
  },
  {
   "cell_type": "code",
   "execution_count": 10,
   "id": "0a6598b9",
   "metadata": {},
   "outputs": [
    {
     "ename": "WebDriverException",
     "evalue": "Message: unknown error: net::ERR_INTERNET_DISCONNECTED\n  (Session info: MicrosoftEdge=91.0.864.71)\n",
     "output_type": "error",
     "traceback": [
      "\u001b[1;31m---------------------------------------------------------------------------\u001b[0m",
      "\u001b[1;31mWebDriverException\u001b[0m                        Traceback (most recent call last)",
      "\u001b[1;32m<ipython-input-10-2b7c084869e6>\u001b[0m in \u001b[0;36m<module>\u001b[1;34m\u001b[0m\n\u001b[0;32m      2\u001b[0m \u001b[0mCD\u001b[0m\u001b[1;33m=\u001b[0m\u001b[0mwebdriver\u001b[0m\u001b[1;33m.\u001b[0m\u001b[0mEdge\u001b[0m\u001b[1;33m(\u001b[0m\u001b[1;34mr\"C:\\Users\\DELL\\Downloads\\msedgedriver.exe\"\u001b[0m\u001b[1;33m)\u001b[0m\u001b[1;33m\u001b[0m\u001b[1;33m\u001b[0m\u001b[0m\n\u001b[0;32m      3\u001b[0m \u001b[1;31m# CD=selenium.Webdriver.Chrome(r\"C:\\Users\\DELL\\Downloads\\chromedriver_win32 (1)\\chromedriver.exe\")\u001b[0m\u001b[1;33m\u001b[0m\u001b[1;33m\u001b[0m\u001b[1;33m\u001b[0m\u001b[0m\n\u001b[1;32m----> 4\u001b[1;33m \u001b[0mCD\u001b[0m\u001b[1;33m.\u001b[0m\u001b[0mget\u001b[0m\u001b[1;33m(\u001b[0m\u001b[1;34m'https://www.bseindia.com/corporates/Forth_Results.aspx'\u001b[0m\u001b[1;33m)\u001b[0m\u001b[1;33m\u001b[0m\u001b[1;33m\u001b[0m\u001b[0m\n\u001b[0m",
      "\u001b[1;32mc:\\users\\dell\\appdata\\local\\programs\\python\\python39\\lib\\site-packages\\selenium\\webdriver\\remote\\webdriver.py\u001b[0m in \u001b[0;36mget\u001b[1;34m(self, url)\u001b[0m\n\u001b[0;32m    331\u001b[0m         \u001b[0mLoads\u001b[0m \u001b[0ma\u001b[0m \u001b[0mweb\u001b[0m \u001b[0mpage\u001b[0m \u001b[1;32min\u001b[0m \u001b[0mthe\u001b[0m \u001b[0mcurrent\u001b[0m \u001b[0mbrowser\u001b[0m \u001b[0msession\u001b[0m\u001b[1;33m.\u001b[0m\u001b[1;33m\u001b[0m\u001b[1;33m\u001b[0m\u001b[0m\n\u001b[0;32m    332\u001b[0m         \"\"\"\n\u001b[1;32m--> 333\u001b[1;33m         \u001b[0mself\u001b[0m\u001b[1;33m.\u001b[0m\u001b[0mexecute\u001b[0m\u001b[1;33m(\u001b[0m\u001b[0mCommand\u001b[0m\u001b[1;33m.\u001b[0m\u001b[0mGET\u001b[0m\u001b[1;33m,\u001b[0m \u001b[1;33m{\u001b[0m\u001b[1;34m'url'\u001b[0m\u001b[1;33m:\u001b[0m \u001b[0murl\u001b[0m\u001b[1;33m}\u001b[0m\u001b[1;33m)\u001b[0m\u001b[1;33m\u001b[0m\u001b[1;33m\u001b[0m\u001b[0m\n\u001b[0m\u001b[0;32m    334\u001b[0m \u001b[1;33m\u001b[0m\u001b[0m\n\u001b[0;32m    335\u001b[0m     \u001b[1;33m@\u001b[0m\u001b[0mproperty\u001b[0m\u001b[1;33m\u001b[0m\u001b[1;33m\u001b[0m\u001b[0m\n",
      "\u001b[1;32mc:\\users\\dell\\appdata\\local\\programs\\python\\python39\\lib\\site-packages\\selenium\\webdriver\\remote\\webdriver.py\u001b[0m in \u001b[0;36mexecute\u001b[1;34m(self, driver_command, params)\u001b[0m\n\u001b[0;32m    319\u001b[0m         \u001b[0mresponse\u001b[0m \u001b[1;33m=\u001b[0m \u001b[0mself\u001b[0m\u001b[1;33m.\u001b[0m\u001b[0mcommand_executor\u001b[0m\u001b[1;33m.\u001b[0m\u001b[0mexecute\u001b[0m\u001b[1;33m(\u001b[0m\u001b[0mdriver_command\u001b[0m\u001b[1;33m,\u001b[0m \u001b[0mparams\u001b[0m\u001b[1;33m)\u001b[0m\u001b[1;33m\u001b[0m\u001b[1;33m\u001b[0m\u001b[0m\n\u001b[0;32m    320\u001b[0m         \u001b[1;32mif\u001b[0m \u001b[0mresponse\u001b[0m\u001b[1;33m:\u001b[0m\u001b[1;33m\u001b[0m\u001b[1;33m\u001b[0m\u001b[0m\n\u001b[1;32m--> 321\u001b[1;33m             \u001b[0mself\u001b[0m\u001b[1;33m.\u001b[0m\u001b[0merror_handler\u001b[0m\u001b[1;33m.\u001b[0m\u001b[0mcheck_response\u001b[0m\u001b[1;33m(\u001b[0m\u001b[0mresponse\u001b[0m\u001b[1;33m)\u001b[0m\u001b[1;33m\u001b[0m\u001b[1;33m\u001b[0m\u001b[0m\n\u001b[0m\u001b[0;32m    322\u001b[0m             response['value'] = self._unwrap_value(\n\u001b[0;32m    323\u001b[0m                 response.get('value', None))\n",
      "\u001b[1;32mc:\\users\\dell\\appdata\\local\\programs\\python\\python39\\lib\\site-packages\\selenium\\webdriver\\remote\\errorhandler.py\u001b[0m in \u001b[0;36mcheck_response\u001b[1;34m(self, response)\u001b[0m\n\u001b[0;32m    240\u001b[0m                 \u001b[0malert_text\u001b[0m \u001b[1;33m=\u001b[0m \u001b[0mvalue\u001b[0m\u001b[1;33m[\u001b[0m\u001b[1;34m'alert'\u001b[0m\u001b[1;33m]\u001b[0m\u001b[1;33m.\u001b[0m\u001b[0mget\u001b[0m\u001b[1;33m(\u001b[0m\u001b[1;34m'text'\u001b[0m\u001b[1;33m)\u001b[0m\u001b[1;33m\u001b[0m\u001b[1;33m\u001b[0m\u001b[0m\n\u001b[0;32m    241\u001b[0m             \u001b[1;32mraise\u001b[0m \u001b[0mexception_class\u001b[0m\u001b[1;33m(\u001b[0m\u001b[0mmessage\u001b[0m\u001b[1;33m,\u001b[0m \u001b[0mscreen\u001b[0m\u001b[1;33m,\u001b[0m \u001b[0mstacktrace\u001b[0m\u001b[1;33m,\u001b[0m \u001b[0malert_text\u001b[0m\u001b[1;33m)\u001b[0m\u001b[1;33m\u001b[0m\u001b[1;33m\u001b[0m\u001b[0m\n\u001b[1;32m--> 242\u001b[1;33m         \u001b[1;32mraise\u001b[0m \u001b[0mexception_class\u001b[0m\u001b[1;33m(\u001b[0m\u001b[0mmessage\u001b[0m\u001b[1;33m,\u001b[0m \u001b[0mscreen\u001b[0m\u001b[1;33m,\u001b[0m \u001b[0mstacktrace\u001b[0m\u001b[1;33m)\u001b[0m\u001b[1;33m\u001b[0m\u001b[1;33m\u001b[0m\u001b[0m\n\u001b[0m\u001b[0;32m    243\u001b[0m \u001b[1;33m\u001b[0m\u001b[0m\n\u001b[0;32m    244\u001b[0m     \u001b[1;32mdef\u001b[0m \u001b[0m_value_or_default\u001b[0m\u001b[1;33m(\u001b[0m\u001b[0mself\u001b[0m\u001b[1;33m,\u001b[0m \u001b[0mobj\u001b[0m\u001b[1;33m,\u001b[0m \u001b[0mkey\u001b[0m\u001b[1;33m,\u001b[0m \u001b[0mdefault\u001b[0m\u001b[1;33m)\u001b[0m\u001b[1;33m:\u001b[0m\u001b[1;33m\u001b[0m\u001b[1;33m\u001b[0m\u001b[0m\n",
      "\u001b[1;31mWebDriverException\u001b[0m: Message: unknown error: net::ERR_INTERNET_DISCONNECTED\n  (Session info: MicrosoftEdge=91.0.864.71)\n"
     ]
    }
   ],
   "source": [
    "from selenium import webdriver\n",
    "CD=webdriver.Edge(r\"C:\\Users\\DELL\\Downloads\\msedgedriver.exe\")\n",
    "# CD=selenium.Webdriver.Chrome(r\"C:\\Users\\DELL\\Downloads\\chromedriver_win32 (1)\\chromedriver.exe\")\n",
    "CD.get('https://www.bseindia.com/corporates/Forth_Results.aspx')"
   ]
  }
 ],
 "metadata": {
  "kernelspec": {
   "display_name": "Python 3",
   "language": "python",
   "name": "python3"
  },
  "language_info": {
   "codemirror_mode": {
    "name": "ipython",
    "version": 3
   },
   "file_extension": ".py",
   "mimetype": "text/x-python",
   "name": "python",
   "nbconvert_exporter": "python",
   "pygments_lexer": "ipython3",
   "version": "3.9.4"
  }
 },
 "nbformat": 4,
 "nbformat_minor": 5
}

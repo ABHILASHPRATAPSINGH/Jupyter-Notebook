{
 "cells": [
  {
   "cell_type": "code",
   "execution_count": null,
   "id": "60150743",
   "metadata": {},
   "outputs": [],
   "source": [
    "import requests\n",
    "path=r\"C:\\Users\\DELL\\Desktop\\Kpython RND folder\\j.png\"\n",
    "dwnld=requests.get('https://i.ytimg.com/vi/9CkvFgGVXV4/maxresdefault.jpg',stream=True)\n",
    "if dwnld.status_code == 200:\n",
    "    with open(path, 'wb') as f:\n",
    "        for chunk in dwnld.iter_content(1024):\n",
    "            f.write(chunk)"
   ]
  }
 ],
 "metadata": {
  "kernelspec": {
   "display_name": "Python 3",
   "language": "python",
   "name": "python3"
  },
  "language_info": {
   "codemirror_mode": {
    "name": "ipython",
    "version": 3
   },
   "file_extension": ".py",
   "mimetype": "text/x-python",
   "name": "python",
   "nbconvert_exporter": "python",
   "pygments_lexer": "ipython3",
   "version": "3.9.4"
  }
 },
 "nbformat": 4,
 "nbformat_minor": 5
}

{
 "cells": [
  {
   "cell_type": "markdown",
   "id": "4a2fd3cf",
   "metadata": {},
   "source": [
    "# OS Module\n",
    "***"
   ]
  },
  {
   "cell_type": "markdown",
   "id": "656250fe",
   "metadata": {},
   "source": [
    "uses:-\n",
    "   Mostly use for directries and path(in low level) for higher level if working with directory then pathlib library is best.\n"
   ]
  },
  {
   "cell_type": "code",
   "execution_count": 3,
   "id": "d3d5ab2a",
   "metadata": {},
   "outputs": [],
   "source": [
    "import os"
   ]
  },
  {
   "cell_type": "code",
   "execution_count": 4,
   "id": "8fe5f53d",
   "metadata": {},
   "outputs": [
    {
     "data": {
      "text/plain": [
       "'C:\\\\Users\\\\DELL'"
      ]
     },
     "execution_count": 4,
     "metadata": {},
     "output_type": "execute_result"
    }
   ],
   "source": [
    "#to know current working directory\n",
    "os.getcwd()"
   ]
  },
  {
   "cell_type": "code",
   "execution_count": 5,
   "id": "b84e378b",
   "metadata": {},
   "outputs": [],
   "source": [
    "#to make subdirectory in current working directory\n",
    "dirName='kakkey'\n",
    "os.mkdir(dirName)\n",
    "\n"
   ]
  },
  {
   "cell_type": "code",
   "execution_count": 6,
   "id": "ab68f457",
   "metadata": {},
   "outputs": [],
   "source": [
    "#How to make subdirectory in kakkey directory\n",
    "os.mkdir('kakkey/guddu')## Note:- here kakkey directory must be there to make directory insdie it, if kakkey directory not be there then filenotfounderror come."
   ]
  },
  {
   "cell_type": "code",
   "execution_count": null,
   "id": "4481cd0c",
   "metadata": {},
   "outputs": [],
   "source": [
    " #How to make multiple subdirectories\n",
    "os.makedirs(\"sub1/sub2/sub3/sub4\")"
   ]
  },
  {
   "cell_type": "code",
   "execution_count": 8,
   "id": "07192f16",
   "metadata": {},
   "outputs": [],
   "source": [
    "#how to remove directory\n",
    "os.rmdir('kakkey/guddu')## this method remove guddu directory\n"
   ]
  },
  {
   "cell_type": "code",
   "execution_count": null,
   "id": "79dc76ca",
   "metadata": {},
   "outputs": [],
   "source": [
    "#how to remove multiple directory\n",
    "os.removedirs('sub1/sub2/sub3/sub4')"
   ]
  },
  {
   "cell_type": "code",
   "execution_count": 9,
   "id": "e8d38ea4",
   "metadata": {},
   "outputs": [],
   "source": [
    "#how to rename directory\n",
    "os.rename('kakkey','guddu')"
   ]
  },
  {
   "cell_type": "code",
   "execution_count": 10,
   "id": "00c90e2e",
   "metadata": {
    "collapsed": true
   },
   "outputs": [
    {
     "data": {
      "text/plain": [
       "['.bash_history',\n",
       " '.config',\n",
       " '.designer',\n",
       " '.gitconfig',\n",
       " '.idlerc',\n",
       " '.ipynb_checkpoints',\n",
       " '.ipython',\n",
       " '.jupyter',\n",
       " '3D Objects',\n",
       " 'AppData',\n",
       " 'Application Data',\n",
       " 'BeutifulSoup Library.ipynb',\n",
       " 'Class Analysis.ipynb',\n",
       " 'Contacts',\n",
       " 'Cookies',\n",
       " 'Desktop',\n",
       " 'Documents',\n",
       " 'Downloads',\n",
       " 'Favorites',\n",
       " 'guddu',\n",
       " 'IntelGraphicsProfiles',\n",
       " 'Links',\n",
       " 'Local Settings',\n",
       " 'MicrosoftEdgeBackups',\n",
       " 'Music',\n",
       " 'My Documents',\n",
       " 'NetHood',\n",
       " 'NTUSER.DAT',\n",
       " 'ntuser.dat.LOG1',\n",
       " 'ntuser.dat.LOG2',\n",
       " 'NTUSER.DAT{53b39e88-18c4-11ea-a811-000d3aa4692b}.TM.blf',\n",
       " 'NTUSER.DAT{53b39e88-18c4-11ea-a811-000d3aa4692b}.TMContainer00000000000000000001.regtrans-ms',\n",
       " 'NTUSER.DAT{53b39e88-18c4-11ea-a811-000d3aa4692b}.TMContainer00000000000000000002.regtrans-ms',\n",
       " 'ntuser.ini',\n",
       " 'OneDrive',\n",
       " 'OS module.ipynb',\n",
       " 'Pandas-1.ipynb',\n",
       " 'Pandas-2 Update Values.ipynb',\n",
       " 'Pandas-3 Grouping Data.ipynb',\n",
       " 'Pandas-4 Missing values.ipynb',\n",
       " 'Pandas-5 Reading data from diffrent source.ipynb',\n",
       " 'Pictures',\n",
       " 'PrintHood',\n",
       " 'PycharmProjects',\n",
       " 'Python class.ipynb',\n",
       " 'Python Cookies Session .ipynb',\n",
       " 'Recent',\n",
       " 'Saved Games',\n",
       " 'Searches',\n",
       " 'SendTo',\n",
       " 'Slice opretor.ipynb',\n",
       " 'Start Menu',\n",
       " 'Templates',\n",
       " 'Untitled.ipynb',\n",
       " 'Untitled5.ipynb',\n",
       " 'Videos']"
      ]
     },
     "execution_count": 10,
     "metadata": {},
     "output_type": "execute_result"
    }
   ],
   "source": [
    "#how to know contains of directory  ### Note:- it does not display the contains of subdirectory\n",
    "os.listdir('guddu')\n",
    "\n",
    "#how to know contains of cwd \n",
    "os.listdir('.')\n"
   ]
  },
  {
   "cell_type": "code",
   "execution_count": 12,
   "id": "18b477f7",
   "metadata": {},
   "outputs": [
    {
     "data": {
      "text/plain": [
       "<generator object _walk at 0x000001A75C7BCAC0>"
      ]
     },
     "execution_count": 12,
     "metadata": {},
     "output_type": "execute_result"
    }
   ],
   "source": [
    "#how to know all contains in dirctories as well as in subdirectory\n",
    "# os.walk(path,topdown=True,onerror=None,followlinks=False)\n",
    "os.walk('.',topdown=True,onerror=None,followlinks=False)\n"
   ]
  },
  {
   "cell_type": "code",
   "execution_count": null,
   "id": "587e023b",
   "metadata": {},
   "outputs": [],
   "source": [
    "os."
   ]
  }
 ],
 "metadata": {
  "kernelspec": {
   "display_name": "Python 3",
   "language": "python",
   "name": "python3"
  },
  "language_info": {
   "codemirror_mode": {
    "name": "ipython",
    "version": 3
   },
   "file_extension": ".py",
   "mimetype": "text/x-python",
   "name": "python",
   "nbconvert_exporter": "python",
   "pygments_lexer": "ipython3",
   "version": "3.9.4"
  }
 },
 "nbformat": 4,
 "nbformat_minor": 5
}
